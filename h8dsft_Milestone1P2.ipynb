{
 "cells": [
  {
   "cell_type": "markdown",
   "metadata": {
    "id": "Yds49KSoebXU"
   },
   "source": [
    "***Milestone 1 phase 2***\n",
    "\n",
    "by. Haikal Ramdhan Usman"
   ]
  },
  {
   "cell_type": "markdown",
   "metadata": {
    "id": "nk5AZUipe33L"
   },
   "source": [
    "Analisis ini bertujuan untuk memprediksi apakah seorang customer akan  churned atau tidak. Churn adalah aturan bisnis yang mengacu kepada apakah perusahaan akan kehilangan pelanggan atau tidak.\n",
    "\n",
    "Dataset dapat di lihat di laman https://www.kaggle.com/blastchar/telco-customer-churn"
   ]
  },
  {
   "cell_type": "markdown",
   "metadata": {
    "id": "kerm80VDgJO-"
   },
   "source": [
    "# Import Library"
   ]
  },
  {
   "cell_type": "markdown",
   "metadata": {
    "id": "maeC8HE1gMGa"
   },
   "source": [
    "Import seluruh library yang akan dipakai:\n",
    "\n",
    "* pandas: untuk loading, manipulasi dan preprocessing dataset\n",
    "* numpy: untuk perhitungan numerik\n",
    "* seaborn: untuk memvisualisasikan data\n",
    "* matplotlib: digunakan untuk memvisualisasikan data\n",
    "* train_test_split : Untuk membagi data menjadi data train dan data test\n",
    "* GridSearchCV : untuk melakukan hyperparametertuning\n",
    "* tensorflow dan keras: untuk melakukan pemodelan\n",
    "* Pipeline : membuat pipeline\n",
    "* StandardScaler: melakukan scaling pada data\n"
   ]
  },
  {
   "cell_type": "code",
   "execution_count": 2,
   "metadata": {
    "id": "JCxkhn-Zj_TR"
   },
   "outputs": [],
   "source": [
    "import pandas as pd\n",
    "import numpy as np\n",
    "import seaborn as sns\n",
    "\n",
    "%matplotlib inline\n",
    "import matplotlib.pyplot as plt\n",
    "\n",
    "import tensorflow as tf\n",
    "from tensorflow import keras\n",
    "import sklearn\n",
    "from sklearn.model_selection import train_test_split, GridSearchCV\n",
    "from sklearn.pipeline import Pipeline\n",
    "from sklearn.preprocessing import StandardScaler"
   ]
  },
  {
   "cell_type": "markdown",
   "metadata": {
    "id": "MP7ojmx2gq44"
   },
   "source": [
    "# EDA"
   ]
  },
  {
   "cell_type": "code",
   "execution_count": 306,
   "metadata": {
    "id": "J_ZuhycikbWQ"
   },
   "outputs": [],
   "source": [
    "df = pd.read_csv('/content/WA_Fn-UseC_-Telco-Customer-Churn.csv')"
   ]
  },
  {
   "cell_type": "code",
   "execution_count": 176,
   "metadata": {
    "colab": {
     "base_uri": "https://localhost:8080/",
     "height": 308
    },
    "id": "CvSKt0p5k0Fn",
    "outputId": "ee0d1485-d5b0-4045-981f-a0c95f500400"
   },
   "outputs": [
    {
     "data": {
      "text/html": [
       "<div>\n",
       "<style scoped>\n",
       "    .dataframe tbody tr th:only-of-type {\n",
       "        vertical-align: middle;\n",
       "    }\n",
       "\n",
       "    .dataframe tbody tr th {\n",
       "        vertical-align: top;\n",
       "    }\n",
       "\n",
       "    .dataframe thead th {\n",
       "        text-align: right;\n",
       "    }\n",
       "</style>\n",
       "<table border=\"1\" class=\"dataframe\">\n",
       "  <thead>\n",
       "    <tr style=\"text-align: right;\">\n",
       "      <th></th>\n",
       "      <th>customerID</th>\n",
       "      <th>gender</th>\n",
       "      <th>SeniorCitizen</th>\n",
       "      <th>Partner</th>\n",
       "      <th>Dependents</th>\n",
       "      <th>tenure</th>\n",
       "      <th>PhoneService</th>\n",
       "      <th>MultipleLines</th>\n",
       "      <th>InternetService</th>\n",
       "      <th>OnlineSecurity</th>\n",
       "      <th>OnlineBackup</th>\n",
       "      <th>DeviceProtection</th>\n",
       "      <th>TechSupport</th>\n",
       "      <th>StreamingTV</th>\n",
       "      <th>StreamingMovies</th>\n",
       "      <th>Contract</th>\n",
       "      <th>PaperlessBilling</th>\n",
       "      <th>PaymentMethod</th>\n",
       "      <th>MonthlyCharges</th>\n",
       "      <th>TotalCharges</th>\n",
       "      <th>Churn</th>\n",
       "    </tr>\n",
       "  </thead>\n",
       "  <tbody>\n",
       "    <tr>\n",
       "      <th>0</th>\n",
       "      <td>7590-VHVEG</td>\n",
       "      <td>Female</td>\n",
       "      <td>0</td>\n",
       "      <td>Yes</td>\n",
       "      <td>No</td>\n",
       "      <td>1</td>\n",
       "      <td>No</td>\n",
       "      <td>No phone service</td>\n",
       "      <td>DSL</td>\n",
       "      <td>No</td>\n",
       "      <td>Yes</td>\n",
       "      <td>No</td>\n",
       "      <td>No</td>\n",
       "      <td>No</td>\n",
       "      <td>No</td>\n",
       "      <td>Month-to-month</td>\n",
       "      <td>Yes</td>\n",
       "      <td>Electronic check</td>\n",
       "      <td>29.85</td>\n",
       "      <td>29.85</td>\n",
       "      <td>No</td>\n",
       "    </tr>\n",
       "    <tr>\n",
       "      <th>1</th>\n",
       "      <td>5575-GNVDE</td>\n",
       "      <td>Male</td>\n",
       "      <td>0</td>\n",
       "      <td>No</td>\n",
       "      <td>No</td>\n",
       "      <td>34</td>\n",
       "      <td>Yes</td>\n",
       "      <td>No</td>\n",
       "      <td>DSL</td>\n",
       "      <td>Yes</td>\n",
       "      <td>No</td>\n",
       "      <td>Yes</td>\n",
       "      <td>No</td>\n",
       "      <td>No</td>\n",
       "      <td>No</td>\n",
       "      <td>One year</td>\n",
       "      <td>No</td>\n",
       "      <td>Mailed check</td>\n",
       "      <td>56.95</td>\n",
       "      <td>1889.5</td>\n",
       "      <td>No</td>\n",
       "    </tr>\n",
       "    <tr>\n",
       "      <th>2</th>\n",
       "      <td>3668-QPYBK</td>\n",
       "      <td>Male</td>\n",
       "      <td>0</td>\n",
       "      <td>No</td>\n",
       "      <td>No</td>\n",
       "      <td>2</td>\n",
       "      <td>Yes</td>\n",
       "      <td>No</td>\n",
       "      <td>DSL</td>\n",
       "      <td>Yes</td>\n",
       "      <td>Yes</td>\n",
       "      <td>No</td>\n",
       "      <td>No</td>\n",
       "      <td>No</td>\n",
       "      <td>No</td>\n",
       "      <td>Month-to-month</td>\n",
       "      <td>Yes</td>\n",
       "      <td>Mailed check</td>\n",
       "      <td>53.85</td>\n",
       "      <td>108.15</td>\n",
       "      <td>Yes</td>\n",
       "    </tr>\n",
       "    <tr>\n",
       "      <th>3</th>\n",
       "      <td>7795-CFOCW</td>\n",
       "      <td>Male</td>\n",
       "      <td>0</td>\n",
       "      <td>No</td>\n",
       "      <td>No</td>\n",
       "      <td>45</td>\n",
       "      <td>No</td>\n",
       "      <td>No phone service</td>\n",
       "      <td>DSL</td>\n",
       "      <td>Yes</td>\n",
       "      <td>No</td>\n",
       "      <td>Yes</td>\n",
       "      <td>Yes</td>\n",
       "      <td>No</td>\n",
       "      <td>No</td>\n",
       "      <td>One year</td>\n",
       "      <td>No</td>\n",
       "      <td>Bank transfer (automatic)</td>\n",
       "      <td>42.30</td>\n",
       "      <td>1840.75</td>\n",
       "      <td>No</td>\n",
       "    </tr>\n",
       "    <tr>\n",
       "      <th>4</th>\n",
       "      <td>9237-HQITU</td>\n",
       "      <td>Female</td>\n",
       "      <td>0</td>\n",
       "      <td>No</td>\n",
       "      <td>No</td>\n",
       "      <td>2</td>\n",
       "      <td>Yes</td>\n",
       "      <td>No</td>\n",
       "      <td>Fiber optic</td>\n",
       "      <td>No</td>\n",
       "      <td>No</td>\n",
       "      <td>No</td>\n",
       "      <td>No</td>\n",
       "      <td>No</td>\n",
       "      <td>No</td>\n",
       "      <td>Month-to-month</td>\n",
       "      <td>Yes</td>\n",
       "      <td>Electronic check</td>\n",
       "      <td>70.70</td>\n",
       "      <td>151.65</td>\n",
       "      <td>Yes</td>\n",
       "    </tr>\n",
       "  </tbody>\n",
       "</table>\n",
       "</div>"
      ],
      "text/plain": [
       "   customerID  gender  SeniorCitizen  ... MonthlyCharges TotalCharges  Churn\n",
       "0  7590-VHVEG  Female              0  ...          29.85        29.85     No\n",
       "1  5575-GNVDE    Male              0  ...          56.95       1889.5     No\n",
       "2  3668-QPYBK    Male              0  ...          53.85       108.15    Yes\n",
       "3  7795-CFOCW    Male              0  ...          42.30      1840.75     No\n",
       "4  9237-HQITU  Female              0  ...          70.70       151.65    Yes\n",
       "\n",
       "[5 rows x 21 columns]"
      ]
     },
     "execution_count": 176,
     "metadata": {},
     "output_type": "execute_result"
    }
   ],
   "source": [
    "df.head()"
   ]
  },
  {
   "cell_type": "code",
   "execution_count": 177,
   "metadata": {
    "colab": {
     "base_uri": "https://localhost:8080/",
     "height": 296
    },
    "id": "mQhHurwzl3cL",
    "outputId": "9e3895bf-15da-4000-e805-8f4d0ed432db"
   },
   "outputs": [
    {
     "data": {
      "text/html": [
       "<div>\n",
       "<style scoped>\n",
       "    .dataframe tbody tr th:only-of-type {\n",
       "        vertical-align: middle;\n",
       "    }\n",
       "\n",
       "    .dataframe tbody tr th {\n",
       "        vertical-align: top;\n",
       "    }\n",
       "\n",
       "    .dataframe thead th {\n",
       "        text-align: right;\n",
       "    }\n",
       "</style>\n",
       "<table border=\"1\" class=\"dataframe\">\n",
       "  <thead>\n",
       "    <tr style=\"text-align: right;\">\n",
       "      <th></th>\n",
       "      <th>SeniorCitizen</th>\n",
       "      <th>tenure</th>\n",
       "      <th>MonthlyCharges</th>\n",
       "    </tr>\n",
       "  </thead>\n",
       "  <tbody>\n",
       "    <tr>\n",
       "      <th>count</th>\n",
       "      <td>7043.000000</td>\n",
       "      <td>7043.000000</td>\n",
       "      <td>7043.000000</td>\n",
       "    </tr>\n",
       "    <tr>\n",
       "      <th>mean</th>\n",
       "      <td>0.162147</td>\n",
       "      <td>32.371149</td>\n",
       "      <td>64.761692</td>\n",
       "    </tr>\n",
       "    <tr>\n",
       "      <th>std</th>\n",
       "      <td>0.368612</td>\n",
       "      <td>24.559481</td>\n",
       "      <td>30.090047</td>\n",
       "    </tr>\n",
       "    <tr>\n",
       "      <th>min</th>\n",
       "      <td>0.000000</td>\n",
       "      <td>0.000000</td>\n",
       "      <td>18.250000</td>\n",
       "    </tr>\n",
       "    <tr>\n",
       "      <th>25%</th>\n",
       "      <td>0.000000</td>\n",
       "      <td>9.000000</td>\n",
       "      <td>35.500000</td>\n",
       "    </tr>\n",
       "    <tr>\n",
       "      <th>50%</th>\n",
       "      <td>0.000000</td>\n",
       "      <td>29.000000</td>\n",
       "      <td>70.350000</td>\n",
       "    </tr>\n",
       "    <tr>\n",
       "      <th>75%</th>\n",
       "      <td>0.000000</td>\n",
       "      <td>55.000000</td>\n",
       "      <td>89.850000</td>\n",
       "    </tr>\n",
       "    <tr>\n",
       "      <th>max</th>\n",
       "      <td>1.000000</td>\n",
       "      <td>72.000000</td>\n",
       "      <td>118.750000</td>\n",
       "    </tr>\n",
       "  </tbody>\n",
       "</table>\n",
       "</div>"
      ],
      "text/plain": [
       "       SeniorCitizen       tenure  MonthlyCharges\n",
       "count    7043.000000  7043.000000     7043.000000\n",
       "mean        0.162147    32.371149       64.761692\n",
       "std         0.368612    24.559481       30.090047\n",
       "min         0.000000     0.000000       18.250000\n",
       "25%         0.000000     9.000000       35.500000\n",
       "50%         0.000000    29.000000       70.350000\n",
       "75%         0.000000    55.000000       89.850000\n",
       "max         1.000000    72.000000      118.750000"
      ]
     },
     "execution_count": 177,
     "metadata": {},
     "output_type": "execute_result"
    }
   ],
   "source": [
    "df.describe()"
   ]
  },
  {
   "cell_type": "markdown",
   "metadata": {
    "id": "ibB15xjHg0XO"
   },
   "source": [
    "SeniorCitizen mempunyai nilai 0 kerana memang value nya boolean yaitu 1 dan 0 (True or False). Tenure juga memiliki nilai 0, saya akan melakukan explorasi lebih lanjut untuk menentukan apakah akan didrop atau tidak."
   ]
  },
  {
   "cell_type": "code",
   "execution_count": 178,
   "metadata": {
    "colab": {
     "base_uri": "https://localhost:8080/"
    },
    "id": "JkOn137-l5ye",
    "outputId": "1cacd4ad-ed86-4a92-87c5-f1ae5194ba54"
   },
   "outputs": [
    {
     "name": "stdout",
     "output_type": "stream",
     "text": [
      "<class 'pandas.core.frame.DataFrame'>\n",
      "RangeIndex: 7043 entries, 0 to 7042\n",
      "Data columns (total 21 columns):\n",
      " #   Column            Non-Null Count  Dtype  \n",
      "---  ------            --------------  -----  \n",
      " 0   customerID        7043 non-null   object \n",
      " 1   gender            7043 non-null   object \n",
      " 2   SeniorCitizen     7043 non-null   int64  \n",
      " 3   Partner           7043 non-null   object \n",
      " 4   Dependents        7043 non-null   object \n",
      " 5   tenure            7043 non-null   int64  \n",
      " 6   PhoneService      7043 non-null   object \n",
      " 7   MultipleLines     7043 non-null   object \n",
      " 8   InternetService   7043 non-null   object \n",
      " 9   OnlineSecurity    7043 non-null   object \n",
      " 10  OnlineBackup      7043 non-null   object \n",
      " 11  DeviceProtection  7043 non-null   object \n",
      " 12  TechSupport       7043 non-null   object \n",
      " 13  StreamingTV       7043 non-null   object \n",
      " 14  StreamingMovies   7043 non-null   object \n",
      " 15  Contract          7043 non-null   object \n",
      " 16  PaperlessBilling  7043 non-null   object \n",
      " 17  PaymentMethod     7043 non-null   object \n",
      " 18  MonthlyCharges    7043 non-null   float64\n",
      " 19  TotalCharges      7043 non-null   object \n",
      " 20  Churn             7043 non-null   object \n",
      "dtypes: float64(1), int64(2), object(18)\n",
      "memory usage: 1.1+ MB\n"
     ]
    }
   ],
   "source": [
    "df.info()"
   ]
  },
  {
   "cell_type": "markdown",
   "metadata": {
    "id": "sFikRFpUhJ1S"
   },
   "source": [
    "Dari info diatas, pandas tidak mendeteksi adanya null value. Selanjutnya saya akan ploting distribusi dari kolom numeric."
   ]
  },
  {
   "cell_type": "code",
   "execution_count": 179,
   "metadata": {
    "colab": {
     "base_uri": "https://localhost:8080/",
     "height": 390
    },
    "id": "RSLy-AqxmPT4",
    "outputId": "4460846f-5478-4c09-e7b7-e8085c1141c4"
   },
   "outputs": [
    {
     "data": {
      "image/png": "[encoded data removed]",
      "text/plain": [
       "<Figure size 576x432 with 4 Axes>"
      ]
     },
     "metadata": {
      "needs_background": "light"
     },
     "output_type": "display_data"
    }
   ],
   "source": [
    "df.hist(figsize=(8,6))\n",
    "plt.show()"
   ]
  },
  {
   "cell_type": "code",
   "execution_count": 180,
   "metadata": {
    "colab": {
     "base_uri": "https://localhost:8080/",
     "height": 447
    },
    "id": "9vCbkZX9mXLV",
    "outputId": "9896acc2-e3eb-465d-faa0-8142c7e8f17b"
   },
   "outputs": [
    {
     "name": "stderr",
     "output_type": "stream",
     "text": [
      "/usr/local/lib/python3.7/dist-packages/seaborn/distributions.py:2557: FutureWarning: `distplot` is a deprecated function and will be removed in a future version. Please adapt your code to use either `displot` (a figure-level function with similar flexibility) or `histplot` (an axes-level function for histograms).\n",
      "  warnings.warn(msg, FutureWarning)\n",
      "/usr/local/lib/python3.7/dist-packages/seaborn/distributions.py:2557: FutureWarning: `distplot` is a deprecated function and will be removed in a future version. Please adapt your code to use either `displot` (a figure-level function with similar flexibility) or `histplot` (an axes-level function for histograms).\n",
      "  warnings.warn(msg, FutureWarning)\n",
      "/usr/local/lib/python3.7/dist-packages/seaborn/distributions.py:2557: FutureWarning: `distplot` is a deprecated function and will be removed in a future version. Please adapt your code to use either `displot` (a figure-level function with similar flexibility) or `histplot` (an axes-level function for histograms).\n",
      "  warnings.warn(msg, FutureWarning)\n"
     ]
    },
    {
     "data": {
      "image/png": "[encoded data removed]",
      "text/plain": [
       "<Figure size 1800x360 with 3 Axes>"
      ]
     },
     "metadata": {
      "needs_background": "light"
     },
     "output_type": "display_data"
    }
   ],
   "source": [
    "fig, ax = plt.subplots(ncols=3, figsize=(25,5))\n",
    "sns.distplot(x=df['SeniorCitizen'], ax=ax[0])\n",
    "sns.distplot(x=df['tenure'], ax=ax[1])\n",
    "sns.distplot(x=df['MonthlyCharges'], ax=ax[2])\n",
    "plt.show()"
   ]
  },
  {
   "cell_type": "markdown",
   "metadata": {
    "id": "pjrajwn-hbV1"
   },
   "source": [
    "SeniorCitizen terlihat diskrit karena berupa kategorikal, tenure dan MonthlyCharges skewed ke kanan. Ada satu kolom yang kurang disini yaitu TotalCharges. Kalo liat sekilas dari data, isi dari TotalCharges adalah numeric tapi di info datatype nya object."
   ]
  },
  {
   "cell_type": "code",
   "execution_count": 181,
   "metadata": {
    "id": "djIu6JpfrygF"
   },
   "outputs": [],
   "source": [
    "dfnew = df.copy()"
   ]
  },
  {
   "cell_type": "code",
   "execution_count": 182,
   "metadata": {
    "colab": {
     "base_uri": "https://localhost:8080/"
    },
    "id": "H_JWJZqEpG_u",
    "outputId": "524aa64c-7cea-4365-b396-e58f6309a795"
   },
   "outputs": [
    {
     "data": {
      "text/plain": [
       "array(['29.85', '1889.5', '108.15', ..., '346.45', '306.6', '6844.5'],\n",
       "      dtype=object)"
      ]
     },
     "execution_count": 182,
     "metadata": {},
     "output_type": "execute_result"
    }
   ],
   "source": [
    "dfnew['TotalCharges'].unique()"
   ]
  },
  {
   "cell_type": "code",
   "execution_count": 183,
   "metadata": {
    "colab": {
     "base_uri": "https://localhost:8080/",
     "height": 594
    },
    "id": "1vVw7Ipcokqh",
    "outputId": "8c8981d5-ba90-4ce1-9cb6-c124b5e927ac"
   },
   "outputs": [
    {
     "data": {
      "text/html": [
       "<div>\n",
       "<style scoped>\n",
       "    .dataframe tbody tr th:only-of-type {\n",
       "        vertical-align: middle;\n",
       "    }\n",
       "\n",
       "    .dataframe tbody tr th {\n",
       "        vertical-align: top;\n",
       "    }\n",
       "\n",
       "    .dataframe thead th {\n",
       "        text-align: right;\n",
       "    }\n",
       "</style>\n",
       "<table border=\"1\" class=\"dataframe\">\n",
       "  <thead>\n",
       "    <tr style=\"text-align: right;\">\n",
       "      <th></th>\n",
       "      <th>customerID</th>\n",
       "      <th>gender</th>\n",
       "      <th>SeniorCitizen</th>\n",
       "      <th>Partner</th>\n",
       "      <th>Dependents</th>\n",
       "      <th>tenure</th>\n",
       "      <th>PhoneService</th>\n",
       "      <th>MultipleLines</th>\n",
       "      <th>InternetService</th>\n",
       "      <th>OnlineSecurity</th>\n",
       "      <th>OnlineBackup</th>\n",
       "      <th>DeviceProtection</th>\n",
       "      <th>TechSupport</th>\n",
       "      <th>StreamingTV</th>\n",
       "      <th>StreamingMovies</th>\n",
       "      <th>Contract</th>\n",
       "      <th>PaperlessBilling</th>\n",
       "      <th>PaymentMethod</th>\n",
       "      <th>MonthlyCharges</th>\n",
       "      <th>TotalCharges</th>\n",
       "      <th>Churn</th>\n",
       "    </tr>\n",
       "  </thead>\n",
       "  <tbody>\n",
       "    <tr>\n",
       "      <th>488</th>\n",
       "      <td>4472-LVYGI</td>\n",
       "      <td>Female</td>\n",
       "      <td>0</td>\n",
       "      <td>Yes</td>\n",
       "      <td>Yes</td>\n",
       "      <td>0</td>\n",
       "      <td>No</td>\n",
       "      <td>No phone service</td>\n",
       "      <td>DSL</td>\n",
       "      <td>Yes</td>\n",
       "      <td>No</td>\n",
       "      <td>Yes</td>\n",
       "      <td>Yes</td>\n",
       "      <td>Yes</td>\n",
       "      <td>No</td>\n",
       "      <td>Two year</td>\n",
       "      <td>Yes</td>\n",
       "      <td>Bank transfer (automatic)</td>\n",
       "      <td>52.55</td>\n",
       "      <td></td>\n",
       "      <td>No</td>\n",
       "    </tr>\n",
       "    <tr>\n",
       "      <th>753</th>\n",
       "      <td>3115-CZMZD</td>\n",
       "      <td>Male</td>\n",
       "      <td>0</td>\n",
       "      <td>No</td>\n",
       "      <td>Yes</td>\n",
       "      <td>0</td>\n",
       "      <td>Yes</td>\n",
       "      <td>No</td>\n",
       "      <td>No</td>\n",
       "      <td>No internet service</td>\n",
       "      <td>No internet service</td>\n",
       "      <td>No internet service</td>\n",
       "      <td>No internet service</td>\n",
       "      <td>No internet service</td>\n",
       "      <td>No internet service</td>\n",
       "      <td>Two year</td>\n",
       "      <td>No</td>\n",
       "      <td>Mailed check</td>\n",
       "      <td>20.25</td>\n",
       "      <td></td>\n",
       "      <td>No</td>\n",
       "    </tr>\n",
       "    <tr>\n",
       "      <th>936</th>\n",
       "      <td>5709-LVOEQ</td>\n",
       "      <td>Female</td>\n",
       "      <td>0</td>\n",
       "      <td>Yes</td>\n",
       "      <td>Yes</td>\n",
       "      <td>0</td>\n",
       "      <td>Yes</td>\n",
       "      <td>No</td>\n",
       "      <td>DSL</td>\n",
       "      <td>Yes</td>\n",
       "      <td>Yes</td>\n",
       "      <td>Yes</td>\n",
       "      <td>No</td>\n",
       "      <td>Yes</td>\n",
       "      <td>Yes</td>\n",
       "      <td>Two year</td>\n",
       "      <td>No</td>\n",
       "      <td>Mailed check</td>\n",
       "      <td>80.85</td>\n",
       "      <td></td>\n",
       "      <td>No</td>\n",
       "    </tr>\n",
       "    <tr>\n",
       "      <th>1082</th>\n",
       "      <td>4367-NUYAO</td>\n",
       "      <td>Male</td>\n",
       "      <td>0</td>\n",
       "      <td>Yes</td>\n",
       "      <td>Yes</td>\n",
       "      <td>0</td>\n",
       "      <td>Yes</td>\n",
       "      <td>Yes</td>\n",
       "      <td>No</td>\n",
       "      <td>No internet service</td>\n",
       "      <td>No internet service</td>\n",
       "      <td>No internet service</td>\n",
       "      <td>No internet service</td>\n",
       "      <td>No internet service</td>\n",
       "      <td>No internet service</td>\n",
       "      <td>Two year</td>\n",
       "      <td>No</td>\n",
       "      <td>Mailed check</td>\n",
       "      <td>25.75</td>\n",
       "      <td></td>\n",
       "      <td>No</td>\n",
       "    </tr>\n",
       "    <tr>\n",
       "      <th>1340</th>\n",
       "      <td>1371-DWPAZ</td>\n",
       "      <td>Female</td>\n",
       "      <td>0</td>\n",
       "      <td>Yes</td>\n",
       "      <td>Yes</td>\n",
       "      <td>0</td>\n",
       "      <td>No</td>\n",
       "      <td>No phone service</td>\n",
       "      <td>DSL</td>\n",
       "      <td>Yes</td>\n",
       "      <td>Yes</td>\n",
       "      <td>Yes</td>\n",
       "      <td>Yes</td>\n",
       "      <td>Yes</td>\n",
       "      <td>No</td>\n",
       "      <td>Two year</td>\n",
       "      <td>No</td>\n",
       "      <td>Credit card (automatic)</td>\n",
       "      <td>56.05</td>\n",
       "      <td></td>\n",
       "      <td>No</td>\n",
       "    </tr>\n",
       "    <tr>\n",
       "      <th>3331</th>\n",
       "      <td>7644-OMVMY</td>\n",
       "      <td>Male</td>\n",
       "      <td>0</td>\n",
       "      <td>Yes</td>\n",
       "      <td>Yes</td>\n",
       "      <td>0</td>\n",
       "      <td>Yes</td>\n",
       "      <td>No</td>\n",
       "      <td>No</td>\n",
       "      <td>No internet service</td>\n",
       "      <td>No internet service</td>\n",
       "      <td>No internet service</td>\n",
       "      <td>No internet service</td>\n",
       "      <td>No internet service</td>\n",
       "      <td>No internet service</td>\n",
       "      <td>Two year</td>\n",
       "      <td>No</td>\n",
       "      <td>Mailed check</td>\n",
       "      <td>19.85</td>\n",
       "      <td></td>\n",
       "      <td>No</td>\n",
       "    </tr>\n",
       "    <tr>\n",
       "      <th>3826</th>\n",
       "      <td>3213-VVOLG</td>\n",
       "      <td>Male</td>\n",
       "      <td>0</td>\n",
       "      <td>Yes</td>\n",
       "      <td>Yes</td>\n",
       "      <td>0</td>\n",
       "      <td>Yes</td>\n",
       "      <td>Yes</td>\n",
       "      <td>No</td>\n",
       "      <td>No internet service</td>\n",
       "      <td>No internet service</td>\n",
       "      <td>No internet service</td>\n",
       "      <td>No internet service</td>\n",
       "      <td>No internet service</td>\n",
       "      <td>No internet service</td>\n",
       "      <td>Two year</td>\n",
       "      <td>No</td>\n",
       "      <td>Mailed check</td>\n",
       "      <td>25.35</td>\n",
       "      <td></td>\n",
       "      <td>No</td>\n",
       "    </tr>\n",
       "    <tr>\n",
       "      <th>4380</th>\n",
       "      <td>2520-SGTTA</td>\n",
       "      <td>Female</td>\n",
       "      <td>0</td>\n",
       "      <td>Yes</td>\n",
       "      <td>Yes</td>\n",
       "      <td>0</td>\n",
       "      <td>Yes</td>\n",
       "      <td>No</td>\n",
       "      <td>No</td>\n",
       "      <td>No internet service</td>\n",
       "      <td>No internet service</td>\n",
       "      <td>No internet service</td>\n",
       "      <td>No internet service</td>\n",
       "      <td>No internet service</td>\n",
       "      <td>No internet service</td>\n",
       "      <td>Two year</td>\n",
       "      <td>No</td>\n",
       "      <td>Mailed check</td>\n",
       "      <td>20.00</td>\n",
       "      <td></td>\n",
       "      <td>No</td>\n",
       "    </tr>\n",
       "    <tr>\n",
       "      <th>5218</th>\n",
       "      <td>2923-ARZLG</td>\n",
       "      <td>Male</td>\n",
       "      <td>0</td>\n",
       "      <td>Yes</td>\n",
       "      <td>Yes</td>\n",
       "      <td>0</td>\n",
       "      <td>Yes</td>\n",
       "      <td>No</td>\n",
       "      <td>No</td>\n",
       "      <td>No internet service</td>\n",
       "      <td>No internet service</td>\n",
       "      <td>No internet service</td>\n",
       "      <td>No internet service</td>\n",
       "      <td>No internet service</td>\n",
       "      <td>No internet service</td>\n",
       "      <td>One year</td>\n",
       "      <td>Yes</td>\n",
       "      <td>Mailed check</td>\n",
       "      <td>19.70</td>\n",
       "      <td></td>\n",
       "      <td>No</td>\n",
       "    </tr>\n",
       "    <tr>\n",
       "      <th>6670</th>\n",
       "      <td>4075-WKNIU</td>\n",
       "      <td>Female</td>\n",
       "      <td>0</td>\n",
       "      <td>Yes</td>\n",
       "      <td>Yes</td>\n",
       "      <td>0</td>\n",
       "      <td>Yes</td>\n",
       "      <td>Yes</td>\n",
       "      <td>DSL</td>\n",
       "      <td>No</td>\n",
       "      <td>Yes</td>\n",
       "      <td>Yes</td>\n",
       "      <td>Yes</td>\n",
       "      <td>Yes</td>\n",
       "      <td>No</td>\n",
       "      <td>Two year</td>\n",
       "      <td>No</td>\n",
       "      <td>Mailed check</td>\n",
       "      <td>73.35</td>\n",
       "      <td></td>\n",
       "      <td>No</td>\n",
       "    </tr>\n",
       "    <tr>\n",
       "      <th>6754</th>\n",
       "      <td>2775-SEFEE</td>\n",
       "      <td>Male</td>\n",
       "      <td>0</td>\n",
       "      <td>No</td>\n",
       "      <td>Yes</td>\n",
       "      <td>0</td>\n",
       "      <td>Yes</td>\n",
       "      <td>Yes</td>\n",
       "      <td>DSL</td>\n",
       "      <td>Yes</td>\n",
       "      <td>Yes</td>\n",
       "      <td>No</td>\n",
       "      <td>Yes</td>\n",
       "      <td>No</td>\n",
       "      <td>No</td>\n",
       "      <td>Two year</td>\n",
       "      <td>Yes</td>\n",
       "      <td>Bank transfer (automatic)</td>\n",
       "      <td>61.90</td>\n",
       "      <td></td>\n",
       "      <td>No</td>\n",
       "    </tr>\n",
       "  </tbody>\n",
       "</table>\n",
       "</div>"
      ],
      "text/plain": [
       "      customerID  gender  SeniorCitizen  ... MonthlyCharges TotalCharges  Churn\n",
       "488   4472-LVYGI  Female              0  ...          52.55                  No\n",
       "753   3115-CZMZD    Male              0  ...          20.25                  No\n",
       "936   5709-LVOEQ  Female              0  ...          80.85                  No\n",
       "1082  4367-NUYAO    Male              0  ...          25.75                  No\n",
       "1340  1371-DWPAZ  Female              0  ...          56.05                  No\n",
       "3331  7644-OMVMY    Male              0  ...          19.85                  No\n",
       "3826  3213-VVOLG    Male              0  ...          25.35                  No\n",
       "4380  2520-SGTTA  Female              0  ...          20.00                  No\n",
       "5218  2923-ARZLG    Male              0  ...          19.70                  No\n",
       "6670  4075-WKNIU  Female              0  ...          73.35                  No\n",
       "6754  2775-SEFEE    Male              0  ...          61.90                  No\n",
       "\n",
       "[11 rows x 21 columns]"
      ]
     },
     "execution_count": 183,
     "metadata": {},
     "output_type": "execute_result"
    }
   ],
   "source": [
    "dfnew[dfnew['TotalCharges']==' ']"
   ]
  },
  {
   "cell_type": "code",
   "execution_count": 184,
   "metadata": {
    "colab": {
     "base_uri": "https://localhost:8080/"
    },
    "id": "zDjtRdNssqh8",
    "outputId": "e40ef32a-ae74-418f-945e-10701597b859"
   },
   "outputs": [
    {
     "data": {
      "text/plain": [
       "customerID          11\n",
       "gender              11\n",
       "SeniorCitizen       11\n",
       "Partner             11\n",
       "Dependents          11\n",
       "tenure              11\n",
       "PhoneService        11\n",
       "MultipleLines       11\n",
       "InternetService     11\n",
       "OnlineSecurity      11\n",
       "OnlineBackup        11\n",
       "DeviceProtection    11\n",
       "TechSupport         11\n",
       "StreamingTV         11\n",
       "StreamingMovies     11\n",
       "Contract            11\n",
       "PaperlessBilling    11\n",
       "PaymentMethod       11\n",
       "MonthlyCharges      11\n",
       "TotalCharges        11\n",
       "Churn               11\n",
       "dtype: int64"
      ]
     },
     "execution_count": 184,
     "metadata": {},
     "output_type": "execute_result"
    }
   ],
   "source": [
    "dfnew[dfnew['TotalCharges']==' '].count()"
   ]
  },
  {
   "cell_type": "markdown",
   "metadata": {
    "id": "ySkrINVKh98o"
   },
   "source": [
    "Tadinya sempat mengubah dtype dari TotalCharges menjadi numeric tapi error yang ternyata ada nilai \" \" pada data tersebut dan bisa dilihat jumlah nya ada 11. Karena saya curiga kalau data TotalCharge yang kosong itu karena tenure nya 0 maka saya coba lihat data tenure = 0."
   ]
  },
  {
   "cell_type": "code",
   "execution_count": 185,
   "metadata": {
    "colab": {
     "base_uri": "https://localhost:8080/",
     "height": 594
    },
    "id": "Lj2vukQssKR1",
    "outputId": "2c6d2ccb-7d5d-43ba-add5-f79da4b8197a"
   },
   "outputs": [
    {
     "data": {
      "text/html": [
       "<div>\n",
       "<style scoped>\n",
       "    .dataframe tbody tr th:only-of-type {\n",
       "        vertical-align: middle;\n",
       "    }\n",
       "\n",
       "    .dataframe tbody tr th {\n",
       "        vertical-align: top;\n",
       "    }\n",
       "\n",
       "    .dataframe thead th {\n",
       "        text-align: right;\n",
       "    }\n",
       "</style>\n",
       "<table border=\"1\" class=\"dataframe\">\n",
       "  <thead>\n",
       "    <tr style=\"text-align: right;\">\n",
       "      <th></th>\n",
       "      <th>customerID</th>\n",
       "      <th>gender</th>\n",
       "      <th>SeniorCitizen</th>\n",
       "      <th>Partner</th>\n",
       "      <th>Dependents</th>\n",
       "      <th>tenure</th>\n",
       "      <th>PhoneService</th>\n",
       "      <th>MultipleLines</th>\n",
       "      <th>InternetService</th>\n",
       "      <th>OnlineSecurity</th>\n",
       "      <th>OnlineBackup</th>\n",
       "      <th>DeviceProtection</th>\n",
       "      <th>TechSupport</th>\n",
       "      <th>StreamingTV</th>\n",
       "      <th>StreamingMovies</th>\n",
       "      <th>Contract</th>\n",
       "      <th>PaperlessBilling</th>\n",
       "      <th>PaymentMethod</th>\n",
       "      <th>MonthlyCharges</th>\n",
       "      <th>TotalCharges</th>\n",
       "      <th>Churn</th>\n",
       "    </tr>\n",
       "  </thead>\n",
       "  <tbody>\n",
       "    <tr>\n",
       "      <th>488</th>\n",
       "      <td>4472-LVYGI</td>\n",
       "      <td>Female</td>\n",
       "      <td>0</td>\n",
       "      <td>Yes</td>\n",
       "      <td>Yes</td>\n",
       "      <td>0</td>\n",
       "      <td>No</td>\n",
       "      <td>No phone service</td>\n",
       "      <td>DSL</td>\n",
       "      <td>Yes</td>\n",
       "      <td>No</td>\n",
       "      <td>Yes</td>\n",
       "      <td>Yes</td>\n",
       "      <td>Yes</td>\n",
       "      <td>No</td>\n",
       "      <td>Two year</td>\n",
       "      <td>Yes</td>\n",
       "      <td>Bank transfer (automatic)</td>\n",
       "      <td>52.55</td>\n",
       "      <td></td>\n",
       "      <td>No</td>\n",
       "    </tr>\n",
       "    <tr>\n",
       "      <th>753</th>\n",
       "      <td>3115-CZMZD</td>\n",
       "      <td>Male</td>\n",
       "      <td>0</td>\n",
       "      <td>No</td>\n",
       "      <td>Yes</td>\n",
       "      <td>0</td>\n",
       "      <td>Yes</td>\n",
       "      <td>No</td>\n",
       "      <td>No</td>\n",
       "      <td>No internet service</td>\n",
       "      <td>No internet service</td>\n",
       "      <td>No internet service</td>\n",
       "      <td>No internet service</td>\n",
       "      <td>No internet service</td>\n",
       "      <td>No internet service</td>\n",
       "      <td>Two year</td>\n",
       "      <td>No</td>\n",
       "      <td>Mailed check</td>\n",
       "      <td>20.25</td>\n",
       "      <td></td>\n",
       "      <td>No</td>\n",
       "    </tr>\n",
       "    <tr>\n",
       "      <th>936</th>\n",
       "      <td>5709-LVOEQ</td>\n",
       "      <td>Female</td>\n",
       "      <td>0</td>\n",
       "      <td>Yes</td>\n",
       "      <td>Yes</td>\n",
       "      <td>0</td>\n",
       "      <td>Yes</td>\n",
       "      <td>No</td>\n",
       "      <td>DSL</td>\n",
       "      <td>Yes</td>\n",
       "      <td>Yes</td>\n",
       "      <td>Yes</td>\n",
       "      <td>No</td>\n",
       "      <td>Yes</td>\n",
       "      <td>Yes</td>\n",
       "      <td>Two year</td>\n",
       "      <td>No</td>\n",
       "      <td>Mailed check</td>\n",
       "      <td>80.85</td>\n",
       "      <td></td>\n",
       "      <td>No</td>\n",
       "    </tr>\n",
       "    <tr>\n",
       "      <th>1082</th>\n",
       "      <td>4367-NUYAO</td>\n",
       "      <td>Male</td>\n",
       "      <td>0</td>\n",
       "      <td>Yes</td>\n",
       "      <td>Yes</td>\n",
       "      <td>0</td>\n",
       "      <td>Yes</td>\n",
       "      <td>Yes</td>\n",
       "      <td>No</td>\n",
       "      <td>No internet service</td>\n",
       "      <td>No internet service</td>\n",
       "      <td>No internet service</td>\n",
       "      <td>No internet service</td>\n",
       "      <td>No internet service</td>\n",
       "      <td>No internet service</td>\n",
       "      <td>Two year</td>\n",
       "      <td>No</td>\n",
       "      <td>Mailed check</td>\n",
       "      <td>25.75</td>\n",
       "      <td></td>\n",
       "      <td>No</td>\n",
       "    </tr>\n",
       "    <tr>\n",
       "      <th>1340</th>\n",
       "      <td>1371-DWPAZ</td>\n",
       "      <td>Female</td>\n",
       "      <td>0</td>\n",
       "      <td>Yes</td>\n",
       "      <td>Yes</td>\n",
       "      <td>0</td>\n",
       "      <td>No</td>\n",
       "      <td>No phone service</td>\n",
       "      <td>DSL</td>\n",
       "      <td>Yes</td>\n",
       "      <td>Yes</td>\n",
       "      <td>Yes</td>\n",
       "      <td>Yes</td>\n",
       "      <td>Yes</td>\n",
       "      <td>No</td>\n",
       "      <td>Two year</td>\n",
       "      <td>No</td>\n",
       "      <td>Credit card (automatic)</td>\n",
       "      <td>56.05</td>\n",
       "      <td></td>\n",
       "      <td>No</td>\n",
       "    </tr>\n",
       "    <tr>\n",
       "      <th>3331</th>\n",
       "      <td>7644-OMVMY</td>\n",
       "      <td>Male</td>\n",
       "      <td>0</td>\n",
       "      <td>Yes</td>\n",
       "      <td>Yes</td>\n",
       "      <td>0</td>\n",
       "      <td>Yes</td>\n",
       "      <td>No</td>\n",
       "      <td>No</td>\n",
       "      <td>No internet service</td>\n",
       "      <td>No internet service</td>\n",
       "      <td>No internet service</td>\n",
       "      <td>No internet service</td>\n",
       "      <td>No internet service</td>\n",
       "      <td>No internet service</td>\n",
       "      <td>Two year</td>\n",
       "      <td>No</td>\n",
       "      <td>Mailed check</td>\n",
       "      <td>19.85</td>\n",
       "      <td></td>\n",
       "      <td>No</td>\n",
       "    </tr>\n",
       "    <tr>\n",
       "      <th>3826</th>\n",
       "      <td>3213-VVOLG</td>\n",
       "      <td>Male</td>\n",
       "      <td>0</td>\n",
       "      <td>Yes</td>\n",
       "      <td>Yes</td>\n",
       "      <td>0</td>\n",
       "      <td>Yes</td>\n",
       "      <td>Yes</td>\n",
       "      <td>No</td>\n",
       "      <td>No internet service</td>\n",
       "      <td>No internet service</td>\n",
       "      <td>No internet service</td>\n",
       "      <td>No internet service</td>\n",
       "      <td>No internet service</td>\n",
       "      <td>No internet service</td>\n",
       "      <td>Two year</td>\n",
       "      <td>No</td>\n",
       "      <td>Mailed check</td>\n",
       "      <td>25.35</td>\n",
       "      <td></td>\n",
       "      <td>No</td>\n",
       "    </tr>\n",
       "    <tr>\n",
       "      <th>4380</th>\n",
       "      <td>2520-SGTTA</td>\n",
       "      <td>Female</td>\n",
       "      <td>0</td>\n",
       "      <td>Yes</td>\n",
       "      <td>Yes</td>\n",
       "      <td>0</td>\n",
       "      <td>Yes</td>\n",
       "      <td>No</td>\n",
       "      <td>No</td>\n",
       "      <td>No internet service</td>\n",
       "      <td>No internet service</td>\n",
       "      <td>No internet service</td>\n",
       "      <td>No internet service</td>\n",
       "      <td>No internet service</td>\n",
       "      <td>No internet service</td>\n",
       "      <td>Two year</td>\n",
       "      <td>No</td>\n",
       "      <td>Mailed check</td>\n",
       "      <td>20.00</td>\n",
       "      <td></td>\n",
       "      <td>No</td>\n",
       "    </tr>\n",
       "    <tr>\n",
       "      <th>5218</th>\n",
       "      <td>2923-ARZLG</td>\n",
       "      <td>Male</td>\n",
       "      <td>0</td>\n",
       "      <td>Yes</td>\n",
       "      <td>Yes</td>\n",
       "      <td>0</td>\n",
       "      <td>Yes</td>\n",
       "      <td>No</td>\n",
       "      <td>No</td>\n",
       "      <td>No internet service</td>\n",
       "      <td>No internet service</td>\n",
       "      <td>No internet service</td>\n",
       "      <td>No internet service</td>\n",
       "      <td>No internet service</td>\n",
       "      <td>No internet service</td>\n",
       "      <td>One year</td>\n",
       "      <td>Yes</td>\n",
       "      <td>Mailed check</td>\n",
       "      <td>19.70</td>\n",
       "      <td></td>\n",
       "      <td>No</td>\n",
       "    </tr>\n",
       "    <tr>\n",
       "      <th>6670</th>\n",
       "      <td>4075-WKNIU</td>\n",
       "      <td>Female</td>\n",
       "      <td>0</td>\n",
       "      <td>Yes</td>\n",
       "      <td>Yes</td>\n",
       "      <td>0</td>\n",
       "      <td>Yes</td>\n",
       "      <td>Yes</td>\n",
       "      <td>DSL</td>\n",
       "      <td>No</td>\n",
       "      <td>Yes</td>\n",
       "      <td>Yes</td>\n",
       "      <td>Yes</td>\n",
       "      <td>Yes</td>\n",
       "      <td>No</td>\n",
       "      <td>Two year</td>\n",
       "      <td>No</td>\n",
       "      <td>Mailed check</td>\n",
       "      <td>73.35</td>\n",
       "      <td></td>\n",
       "      <td>No</td>\n",
       "    </tr>\n",
       "    <tr>\n",
       "      <th>6754</th>\n",
       "      <td>2775-SEFEE</td>\n",
       "      <td>Male</td>\n",
       "      <td>0</td>\n",
       "      <td>No</td>\n",
       "      <td>Yes</td>\n",
       "      <td>0</td>\n",
       "      <td>Yes</td>\n",
       "      <td>Yes</td>\n",
       "      <td>DSL</td>\n",
       "      <td>Yes</td>\n",
       "      <td>Yes</td>\n",
       "      <td>No</td>\n",
       "      <td>Yes</td>\n",
       "      <td>No</td>\n",
       "      <td>No</td>\n",
       "      <td>Two year</td>\n",
       "      <td>Yes</td>\n",
       "      <td>Bank transfer (automatic)</td>\n",
       "      <td>61.90</td>\n",
       "      <td></td>\n",
       "      <td>No</td>\n",
       "    </tr>\n",
       "  </tbody>\n",
       "</table>\n",
       "</div>"
      ],
      "text/plain": [
       "      customerID  gender  SeniorCitizen  ... MonthlyCharges TotalCharges  Churn\n",
       "488   4472-LVYGI  Female              0  ...          52.55                  No\n",
       "753   3115-CZMZD    Male              0  ...          20.25                  No\n",
       "936   5709-LVOEQ  Female              0  ...          80.85                  No\n",
       "1082  4367-NUYAO    Male              0  ...          25.75                  No\n",
       "1340  1371-DWPAZ  Female              0  ...          56.05                  No\n",
       "3331  7644-OMVMY    Male              0  ...          19.85                  No\n",
       "3826  3213-VVOLG    Male              0  ...          25.35                  No\n",
       "4380  2520-SGTTA  Female              0  ...          20.00                  No\n",
       "5218  2923-ARZLG    Male              0  ...          19.70                  No\n",
       "6670  4075-WKNIU  Female              0  ...          73.35                  No\n",
       "6754  2775-SEFEE    Male              0  ...          61.90                  No\n",
       "\n",
       "[11 rows x 21 columns]"
      ]
     },
     "execution_count": 185,
     "metadata": {},
     "output_type": "execute_result"
    }
   ],
   "source": [
    "dfnew[dfnew['tenure']==0]"
   ]
  },
  {
   "cell_type": "code",
   "execution_count": 186,
   "metadata": {
    "colab": {
     "base_uri": "https://localhost:8080/"
    },
    "id": "SNybVRwyr1jh",
    "outputId": "e369b6c2-0e58-4bfd-a5c1-9029e67d5aaf"
   },
   "outputs": [
    {
     "data": {
      "text/plain": [
       "customerID          11\n",
       "gender              11\n",
       "SeniorCitizen       11\n",
       "Partner             11\n",
       "Dependents          11\n",
       "tenure              11\n",
       "PhoneService        11\n",
       "MultipleLines       11\n",
       "InternetService     11\n",
       "OnlineSecurity      11\n",
       "OnlineBackup        11\n",
       "DeviceProtection    11\n",
       "TechSupport         11\n",
       "StreamingTV         11\n",
       "StreamingMovies     11\n",
       "Contract            11\n",
       "PaperlessBilling    11\n",
       "PaymentMethod       11\n",
       "MonthlyCharges      11\n",
       "TotalCharges        11\n",
       "Churn               11\n",
       "dtype: int64"
      ]
     },
     "execution_count": 186,
     "metadata": {},
     "output_type": "execute_result"
    }
   ],
   "source": [
    "dfnew[dfnew['tenure']==0].count()"
   ]
  },
  {
   "cell_type": "markdown",
   "metadata": {
    "id": "vKulbll-vZP4"
   },
   "source": [
    "Bisa dipastikan bahwa TotalCharges yang kosong itu karena tenure nya 0. Selanjutnya saya coba merubah dtype TotalCharges menjadi numeric."
   ]
  },
  {
   "cell_type": "code",
   "execution_count": 187,
   "metadata": {
    "colab": {
     "base_uri": "https://localhost:8080/"
    },
    "id": "N3SFLBy_o9uU",
    "outputId": "8fe163c6-6d82-4518-8dd9-17df963dac28"
   },
   "outputs": [
    {
     "name": "stdout",
     "output_type": "stream",
     "text": [
      "<class 'pandas.core.frame.DataFrame'>\n",
      "RangeIndex: 7043 entries, 0 to 7042\n",
      "Data columns (total 1 columns):\n",
      " #   Column        Non-Null Count  Dtype \n",
      "---  ------        --------------  ----- \n",
      " 0   TotalCharges  7043 non-null   object\n",
      "dtypes: object(1)\n",
      "memory usage: 55.1+ KB\n"
     ]
    }
   ],
   "source": [
    "dfnew[['TotalCharges']].info()"
   ]
  },
  {
   "cell_type": "code",
   "execution_count": 188,
   "metadata": {
    "id": "Ia3ai5sRvC1b"
   },
   "outputs": [],
   "source": [
    "dfnew['TotalCharges']=pd.to_numeric(df['TotalCharges'], errors='coerce') # agar yang error menjadi NaN"
   ]
  },
  {
   "cell_type": "code",
   "execution_count": 189,
   "metadata": {
    "colab": {
     "base_uri": "https://localhost:8080/"
    },
    "id": "wvTQE7tIqbUr",
    "outputId": "9fa9bba5-8b33-4690-f195-4e563606a3fa"
   },
   "outputs": [
    {
     "name": "stdout",
     "output_type": "stream",
     "text": [
      "<class 'pandas.core.frame.DataFrame'>\n",
      "RangeIndex: 7043 entries, 0 to 7042\n",
      "Data columns (total 1 columns):\n",
      " #   Column        Non-Null Count  Dtype  \n",
      "---  ------        --------------  -----  \n",
      " 0   TotalCharges  7032 non-null   float64\n",
      "dtypes: float64(1)\n",
      "memory usage: 55.1 KB\n"
     ]
    }
   ],
   "source": [
    "dfnew[['TotalCharges']].info()"
   ]
  },
  {
   "cell_type": "code",
   "execution_count": 190,
   "metadata": {
    "colab": {
     "base_uri": "https://localhost:8080/"
    },
    "id": "gZnMMBHDracH",
    "outputId": "6a4cc24d-2d92-47fc-85ed-731707af69ce"
   },
   "outputs": [
    {
     "data": {
      "text/plain": [
       "TotalCharges    11\n",
       "dtype: int64"
      ]
     },
     "execution_count": 190,
     "metadata": {},
     "output_type": "execute_result"
    }
   ],
   "source": [
    "dfnew[['TotalCharges']].isnull().sum()"
   ]
  },
  {
   "cell_type": "markdown",
   "metadata": {
    "id": "7l2txxhbvqLi"
   },
   "source": [
    "Ada 11 nilai null di TotalCharge. Akan saya drop saja karena jika TotalCharges null artinya tenure=0. Jika tenure=0, maka saya anggap pelanggan tersebut membatalkan."
   ]
  },
  {
   "cell_type": "code",
   "execution_count": 191,
   "metadata": {
    "id": "zS6BryUrrdyD"
   },
   "outputs": [],
   "source": [
    "dfnew.dropna(inplace=True)"
   ]
  },
  {
   "cell_type": "code",
   "execution_count": 192,
   "metadata": {
    "colab": {
     "base_uri": "https://localhost:8080/"
    },
    "id": "pseHfvcTvuoh",
    "outputId": "7d789eb3-babd-4161-badd-0e9dd29682d3"
   },
   "outputs": [
    {
     "data": {
      "text/plain": [
       "TotalCharges    0\n",
       "dtype: int64"
      ]
     },
     "execution_count": 192,
     "metadata": {},
     "output_type": "execute_result"
    }
   ],
   "source": [
    "dfnew[['TotalCharges']].isnull().sum()"
   ]
  },
  {
   "cell_type": "code",
   "execution_count": 193,
   "metadata": {
    "colab": {
     "base_uri": "https://localhost:8080/"
    },
    "id": "jxP4Cyr1v0mE",
    "outputId": "cc458fe4-08eb-4b7b-9e02-ec047df981ca"
   },
   "outputs": [
    {
     "data": {
      "text/plain": [
       "customerID          0\n",
       "gender              0\n",
       "SeniorCitizen       0\n",
       "Partner             0\n",
       "Dependents          0\n",
       "tenure              0\n",
       "PhoneService        0\n",
       "MultipleLines       0\n",
       "InternetService     0\n",
       "OnlineSecurity      0\n",
       "OnlineBackup        0\n",
       "DeviceProtection    0\n",
       "TechSupport         0\n",
       "StreamingTV         0\n",
       "StreamingMovies     0\n",
       "Contract            0\n",
       "PaperlessBilling    0\n",
       "PaymentMethod       0\n",
       "MonthlyCharges      0\n",
       "TotalCharges        0\n",
       "Churn               0\n",
       "dtype: int64"
      ]
     },
     "execution_count": 193,
     "metadata": {},
     "output_type": "execute_result"
    }
   ],
   "source": [
    "dfnew[dfnew['tenure']==0].count()"
   ]
  },
  {
   "cell_type": "code",
   "execution_count": 194,
   "metadata": {
    "colab": {
     "base_uri": "https://localhost:8080/",
     "height": 428
    },
    "id": "V3mn_T81J_Jz",
    "outputId": "e9f9202e-2b76-4248-ef5a-3add61c478c8"
   },
   "outputs": [
    {
     "data": {
      "image/png": "[encoded data removed]",
      "text/plain": [
       "<Figure size 720x504 with 1 Axes>"
      ]
     },
     "metadata": {
      "needs_background": "light"
     },
     "output_type": "display_data"
    }
   ],
   "source": [
    "dfnew['TotalCharges'].hist(figsize=(10,7))\n",
    "plt.show()"
   ]
  },
  {
   "cell_type": "markdown",
   "metadata": {
    "id": "3szgMAFvidUy"
   },
   "source": [
    "Distribusi dari TotalCharges skewed ke kanan"
   ]
  },
  {
   "cell_type": "code",
   "execution_count": 195,
   "metadata": {
    "colab": {
     "base_uri": "https://localhost:8080/",
     "height": 308
    },
    "id": "hqpEcqEkv4eg",
    "outputId": "d9b2c4a6-2528-42fd-f922-55f2fb7203c4"
   },
   "outputs": [
    {
     "data": {
      "text/html": [
       "<div>\n",
       "<style scoped>\n",
       "    .dataframe tbody tr th:only-of-type {\n",
       "        vertical-align: middle;\n",
       "    }\n",
       "\n",
       "    .dataframe tbody tr th {\n",
       "        vertical-align: top;\n",
       "    }\n",
       "\n",
       "    .dataframe thead th {\n",
       "        text-align: right;\n",
       "    }\n",
       "</style>\n",
       "<table border=\"1\" class=\"dataframe\">\n",
       "  <thead>\n",
       "    <tr style=\"text-align: right;\">\n",
       "      <th></th>\n",
       "      <th>customerID</th>\n",
       "      <th>gender</th>\n",
       "      <th>SeniorCitizen</th>\n",
       "      <th>Partner</th>\n",
       "      <th>Dependents</th>\n",
       "      <th>tenure</th>\n",
       "      <th>PhoneService</th>\n",
       "      <th>MultipleLines</th>\n",
       "      <th>InternetService</th>\n",
       "      <th>OnlineSecurity</th>\n",
       "      <th>OnlineBackup</th>\n",
       "      <th>DeviceProtection</th>\n",
       "      <th>TechSupport</th>\n",
       "      <th>StreamingTV</th>\n",
       "      <th>StreamingMovies</th>\n",
       "      <th>Contract</th>\n",
       "      <th>PaperlessBilling</th>\n",
       "      <th>PaymentMethod</th>\n",
       "      <th>MonthlyCharges</th>\n",
       "      <th>TotalCharges</th>\n",
       "      <th>Churn</th>\n",
       "    </tr>\n",
       "  </thead>\n",
       "  <tbody>\n",
       "    <tr>\n",
       "      <th>0</th>\n",
       "      <td>7590-VHVEG</td>\n",
       "      <td>Female</td>\n",
       "      <td>0</td>\n",
       "      <td>Yes</td>\n",
       "      <td>No</td>\n",
       "      <td>1</td>\n",
       "      <td>No</td>\n",
       "      <td>No phone service</td>\n",
       "      <td>DSL</td>\n",
       "      <td>No</td>\n",
       "      <td>Yes</td>\n",
       "      <td>No</td>\n",
       "      <td>No</td>\n",
       "      <td>No</td>\n",
       "      <td>No</td>\n",
       "      <td>Month-to-month</td>\n",
       "      <td>Yes</td>\n",
       "      <td>Electronic check</td>\n",
       "      <td>29.85</td>\n",
       "      <td>29.85</td>\n",
       "      <td>No</td>\n",
       "    </tr>\n",
       "    <tr>\n",
       "      <th>1</th>\n",
       "      <td>5575-GNVDE</td>\n",
       "      <td>Male</td>\n",
       "      <td>0</td>\n",
       "      <td>No</td>\n",
       "      <td>No</td>\n",
       "      <td>34</td>\n",
       "      <td>Yes</td>\n",
       "      <td>No</td>\n",
       "      <td>DSL</td>\n",
       "      <td>Yes</td>\n",
       "      <td>No</td>\n",
       "      <td>Yes</td>\n",
       "      <td>No</td>\n",
       "      <td>No</td>\n",
       "      <td>No</td>\n",
       "      <td>One year</td>\n",
       "      <td>No</td>\n",
       "      <td>Mailed check</td>\n",
       "      <td>56.95</td>\n",
       "      <td>1889.50</td>\n",
       "      <td>No</td>\n",
       "    </tr>\n",
       "    <tr>\n",
       "      <th>2</th>\n",
       "      <td>3668-QPYBK</td>\n",
       "      <td>Male</td>\n",
       "      <td>0</td>\n",
       "      <td>No</td>\n",
       "      <td>No</td>\n",
       "      <td>2</td>\n",
       "      <td>Yes</td>\n",
       "      <td>No</td>\n",
       "      <td>DSL</td>\n",
       "      <td>Yes</td>\n",
       "      <td>Yes</td>\n",
       "      <td>No</td>\n",
       "      <td>No</td>\n",
       "      <td>No</td>\n",
       "      <td>No</td>\n",
       "      <td>Month-to-month</td>\n",
       "      <td>Yes</td>\n",
       "      <td>Mailed check</td>\n",
       "      <td>53.85</td>\n",
       "      <td>108.15</td>\n",
       "      <td>Yes</td>\n",
       "    </tr>\n",
       "    <tr>\n",
       "      <th>3</th>\n",
       "      <td>7795-CFOCW</td>\n",
       "      <td>Male</td>\n",
       "      <td>0</td>\n",
       "      <td>No</td>\n",
       "      <td>No</td>\n",
       "      <td>45</td>\n",
       "      <td>No</td>\n",
       "      <td>No phone service</td>\n",
       "      <td>DSL</td>\n",
       "      <td>Yes</td>\n",
       "      <td>No</td>\n",
       "      <td>Yes</td>\n",
       "      <td>Yes</td>\n",
       "      <td>No</td>\n",
       "      <td>No</td>\n",
       "      <td>One year</td>\n",
       "      <td>No</td>\n",
       "      <td>Bank transfer (automatic)</td>\n",
       "      <td>42.30</td>\n",
       "      <td>1840.75</td>\n",
       "      <td>No</td>\n",
       "    </tr>\n",
       "    <tr>\n",
       "      <th>4</th>\n",
       "      <td>9237-HQITU</td>\n",
       "      <td>Female</td>\n",
       "      <td>0</td>\n",
       "      <td>No</td>\n",
       "      <td>No</td>\n",
       "      <td>2</td>\n",
       "      <td>Yes</td>\n",
       "      <td>No</td>\n",
       "      <td>Fiber optic</td>\n",
       "      <td>No</td>\n",
       "      <td>No</td>\n",
       "      <td>No</td>\n",
       "      <td>No</td>\n",
       "      <td>No</td>\n",
       "      <td>No</td>\n",
       "      <td>Month-to-month</td>\n",
       "      <td>Yes</td>\n",
       "      <td>Electronic check</td>\n",
       "      <td>70.70</td>\n",
       "      <td>151.65</td>\n",
       "      <td>Yes</td>\n",
       "    </tr>\n",
       "  </tbody>\n",
       "</table>\n",
       "</div>"
      ],
      "text/plain": [
       "   customerID  gender  SeniorCitizen  ... MonthlyCharges TotalCharges  Churn\n",
       "0  7590-VHVEG  Female              0  ...          29.85        29.85     No\n",
       "1  5575-GNVDE    Male              0  ...          56.95      1889.50     No\n",
       "2  3668-QPYBK    Male              0  ...          53.85       108.15    Yes\n",
       "3  7795-CFOCW    Male              0  ...          42.30      1840.75     No\n",
       "4  9237-HQITU  Female              0  ...          70.70       151.65    Yes\n",
       "\n",
       "[5 rows x 21 columns]"
      ]
     },
     "execution_count": 195,
     "metadata": {},
     "output_type": "execute_result"
    }
   ],
   "source": [
    "dfnew.head()"
   ]
  },
  {
   "cell_type": "code",
   "execution_count": 196,
   "metadata": {
    "colab": {
     "base_uri": "https://localhost:8080/"
    },
    "id": "P5m7mk3YKdIt",
    "outputId": "9ba30a41-43f5-40bb-bb70-3694110a6f42"
   },
   "outputs": [
    {
     "name": "stdout",
     "output_type": "stream",
     "text": [
      "customerID :\n",
      "['7590-VHVEG' '5575-GNVDE' '3668-QPYBK' ... '4801-JZAZL' '8361-LTMKD'\n",
      " '3186-AJIEK']\n",
      "gender :\n",
      "['Female' 'Male']\n",
      "Partner :\n",
      "['Yes' 'No']\n",
      "Dependents :\n",
      "['No' 'Yes']\n",
      "PhoneService :\n",
      "['No' 'Yes']\n",
      "MultipleLines :\n",
      "['No phone service' 'No' 'Yes']\n",
      "InternetService :\n",
      "['DSL' 'Fiber optic' 'No']\n",
      "OnlineSecurity :\n",
      "['No' 'Yes' 'No internet service']\n",
      "OnlineBackup :\n",
      "['Yes' 'No' 'No internet service']\n",
      "DeviceProtection :\n",
      "['No' 'Yes' 'No internet service']\n",
      "TechSupport :\n",
      "['No' 'Yes' 'No internet service']\n",
      "StreamingTV :\n",
      "['No' 'Yes' 'No internet service']\n",
      "StreamingMovies :\n",
      "['No' 'Yes' 'No internet service']\n",
      "Contract :\n",
      "['Month-to-month' 'One year' 'Two year']\n",
      "PaperlessBilling :\n",
      "['Yes' 'No']\n",
      "PaymentMethod :\n",
      "['Electronic check' 'Mailed check' 'Bank transfer (automatic)'\n",
      " 'Credit card (automatic)']\n",
      "Churn :\n",
      "['No' 'Yes']\n"
     ]
    }
   ],
   "source": [
    "cols=dfnew.drop(dfnew.describe().columns, axis=1)\n",
    "for i in cols:\n",
    "  print(i,':')\n",
    "  print(dfnew[i].unique())"
   ]
  },
  {
   "cell_type": "code",
   "execution_count": 197,
   "metadata": {
    "colab": {
     "base_uri": "https://localhost:8080/",
     "height": 334
    },
    "id": "O1lSWRb2LKjl",
    "outputId": "5bc3a00a-6658-46cb-a0cb-2b8a0b9d247b"
   },
   "outputs": [
    {
     "data": {
      "image/png": "[encoded data removed]",
      "text/plain": [
       "<Figure size 1944x360 with 4 Axes>"
      ]
     },
     "metadata": {
      "needs_background": "light"
     },
     "output_type": "display_data"
    }
   ],
   "source": [
    "fig, ax = plt.subplots(ncols=4, figsize=(27,5))\n",
    "sns.countplot(x='SeniorCitizen', data=dfnew, hue='Churn', ax=ax[0])\n",
    "sns.boxplot(x='tenure', y='Churn', data=dfnew, ax=ax[1])\n",
    "sns.boxplot(x='MonthlyCharges', y='Churn', data=dfnew, ax=ax[2])\n",
    "sns.boxplot(x='TotalCharges', y='Churn', data=dfnew, ax=ax[3])\n",
    "plt.show()"
   ]
  },
  {
   "cell_type": "markdown",
   "metadata": {
    "id": "oaNTjrDliokX"
   },
   "source": [
    "Data dari pelanggan kebanyakan bukan Senior. Kebanyakan Customer yang churn nya Yes itu yg tenure nya sekutaran 0 sampai 30, dan MonthlyCharges nya sekitaran 60-80."
   ]
  },
  {
   "cell_type": "code",
   "execution_count": 198,
   "metadata": {
    "colab": {
     "base_uri": "https://localhost:8080/",
     "height": 334
    },
    "id": "8Iz7uro3QLEs",
    "outputId": "b4b2b623-30e8-4bce-8edb-37330dd88bc6"
   },
   "outputs": [
    {
     "data": {
      "image/png": "[encoded data removed]",
      "text/plain": [
       "<Figure size 1944x360 with 4 Axes>"
      ]
     },
     "metadata": {
      "needs_background": "light"
     },
     "output_type": "display_data"
    }
   ],
   "source": [
    "fig, ax = plt.subplots(ncols=4, figsize=(27,5))\n",
    "sns.countplot(x='SeniorCitizen', data=dfnew, hue='gender', ax=ax[0])\n",
    "sns.boxplot(x='tenure', y='gender', data=dfnew, ax=ax[1])\n",
    "sns.boxplot(x='MonthlyCharges', y='gender', data=dfnew, ax=ax[2])\n",
    "sns.boxplot(x='TotalCharges', y='gender', data=dfnew, ax=ax[3])\n",
    "plt.show()"
   ]
  },
  {
   "cell_type": "markdown",
   "metadata": {
    "id": "0z6s-SI9jXVp"
   },
   "source": [
    "Gender terlihat seimbang."
   ]
  },
  {
   "cell_type": "code",
   "execution_count": 199,
   "metadata": {
    "colab": {
     "base_uri": "https://localhost:8080/",
     "height": 334
    },
    "id": "bew18KDdQSKl",
    "outputId": "636ca311-c1e6-4c14-c394-7eafc7790e5a"
   },
   "outputs": [
    {
     "data": {
      "image/png": "[encoded data removed]",
      "text/plain": [
       "<Figure size 1944x360 with 4 Axes>"
      ]
     },
     "metadata": {
      "needs_background": "light"
     },
     "output_type": "display_data"
    }
   ],
   "source": [
    "fig, ax = plt.subplots(ncols=4, figsize=(27,5))\n",
    "sns.countplot(x='SeniorCitizen', data=dfnew, hue='Partner', ax=ax[0])\n",
    "sns.boxplot(x='tenure', y='Partner', data=dfnew, ax=ax[1])\n",
    "sns.boxplot(x='MonthlyCharges', y='Partner', data=dfnew, ax=ax[2])\n",
    "sns.boxplot(x='TotalCharges', y='Partner', data=dfnew, ax=ax[3])\n",
    "plt.show()"
   ]
  },
  {
   "cell_type": "markdown",
   "metadata": {
    "id": "ajPpzXL1jhbA"
   },
   "source": [
    "SeniorCitizen yang memiliki partner dan tidak terlihat hampir seimbang. Sementara untuk tenure nya customer yang mempunyai partner disekitaran 20-60"
   ]
  },
  {
   "cell_type": "code",
   "execution_count": 200,
   "metadata": {
    "colab": {
     "base_uri": "https://localhost:8080/",
     "height": 334
    },
    "id": "N0DQLZyRQm5x",
    "outputId": "1b13621f-af8f-4cfa-c097-6a9bfbed7561"
   },
   "outputs": [
    {
     "data": {
      "image/png": "[encoded data removed]",
      "text/plain": [
       "<Figure size 1944x360 with 4 Axes>"
      ]
     },
     "metadata": {
      "needs_background": "light"
     },
     "output_type": "display_data"
    }
   ],
   "source": [
    "fig, ax = plt.subplots(ncols=4, figsize=(27,5))\n",
    "sns.countplot(x='gender', data=dfnew, hue='Churn', ax=ax[0])\n",
    "sns.countplot(x='Partner', data=dfnew, hue='Churn', ax=ax[1])\n",
    "sns.countplot(x='Dependents', data=dfnew, hue='Churn', ax=ax[2])\n",
    "sns.countplot(x='MultipleLines', data=dfnew, hue='Churn', ax=ax[3])\n",
    "plt.show()"
   ]
  },
  {
   "cell_type": "markdown",
   "metadata": {
    "id": "PCMbXk41jzd7"
   },
   "source": [
    "Terlihat jika dibandingkan gendernya terlihat seimbang."
   ]
  },
  {
   "cell_type": "code",
   "execution_count": 201,
   "metadata": {
    "colab": {
     "base_uri": "https://localhost:8080/",
     "height": 606
    },
    "id": "bjCzracYZk5O",
    "outputId": "53560f24-87af-48c1-de76-977ffdb6ffe9"
   },
   "outputs": [
    {
     "data": {
      "image/png": "[encoded data removed]",
      "text/plain": [
       "<Figure size 1944x720 with 8 Axes>"
      ]
     },
     "metadata": {
      "needs_background": "light"
     },
     "output_type": "display_data"
    }
   ],
   "source": [
    "fig, ax = plt.subplots(nrows=2, ncols=4, figsize=(27,10))\n",
    "sns.countplot(x='InternetService', data=dfnew, hue='Churn', ax=ax[0][0])\n",
    "sns.countplot(x='OnlineSecurity', data=dfnew, hue='Churn', ax=ax[0][1])\n",
    "sns.countplot(x='OnlineBackup', data=dfnew, hue='Churn', ax=ax[0][2])\n",
    "sns.countplot(x='DeviceProtection', data=dfnew, hue='Churn', ax=ax[0][3])\n",
    "\n",
    "sns.countplot(x='TechSupport', data=dfnew, hue='Churn', ax=ax[1][0])\n",
    "sns.countplot(x='StreamingTV', data=dfnew, hue='Churn', ax=ax[1][1])\n",
    "sns.countplot(x='StreamingMovies', data=dfnew, hue='Churn', ax=ax[1][2])\n",
    "sns.countplot(x='PhoneService', data=dfnew, hue='Churn', ax=ax[1][3])\n",
    "plt.show()"
   ]
  },
  {
   "cell_type": "markdown",
   "metadata": {
    "id": "ejhzYCDukF-C"
   },
   "source": [
    "Kebanyakan customer yang churned adalah yang InternetService nya Fiber optic, lalu customer yang tidak mengambil OnlineSecurity, Orang yang tidak memiliki OnlineBackup, DeviceProtection, TechSupport, StreamingTV dan StreamingMovies. Terakhir, orang yang mengambil PhoneService lebuhbanyak yang churned."
   ]
  },
  {
   "cell_type": "code",
   "execution_count": 202,
   "metadata": {
    "colab": {
     "base_uri": "https://localhost:8080/",
     "height": 297
    },
    "id": "IwGgy0l0b4QG",
    "outputId": "4c7daee9-f047-4c51-883e-e925982ae3e5"
   },
   "outputs": [
    {
     "data": {
      "text/plain": [
       "<matplotlib.axes._subplots.AxesSubplot at 0x7f215292fc10>"
      ]
     },
     "execution_count": 202,
     "metadata": {},
     "output_type": "execute_result"
    },
    {
     "data": {
      "image/png": "[encoded data removed]",
      "text/plain": [
       "<Figure size 432x288 with 1 Axes>"
      ]
     },
     "metadata": {
      "needs_background": "light"
     },
     "output_type": "display_data"
    }
   ],
   "source": [
    "sns.boxplot(x='tenure', y='Contract', data=dfnew)"
   ]
  },
  {
   "cell_type": "markdown",
   "metadata": {
    "id": "n1nNkXEOkvCA"
   },
   "source": [
    "Orang yang tenurenya sekitaran 0-30 kontraknya  lebih banyak yang Month-to-month. Orang yang tenurenya 20-60 contractnya lebih banyak One year. dan sisanya lebih banyak yang ambil Two Year."
   ]
  },
  {
   "cell_type": "code",
   "execution_count": 203,
   "metadata": {
    "colab": {
     "base_uri": "https://localhost:8080/",
     "height": 319
    },
    "id": "PzvCGDW3SeH5",
    "outputId": "64bd5bdb-0d20-4103-d68d-2819dd2f986b"
   },
   "outputs": [
    {
     "data": {
      "image/png": "[encoded data removed]",
      "text/plain": [
       "<Figure size 360x360 with 1 Axes>"
      ]
     },
     "metadata": {},
     "output_type": "display_data"
    }
   ],
   "source": [
    "dfnew.Churn.value_counts().plot(kind='pie', title=\"Churn\", autopct='%1.2f%%', explode=[0,0.09], figsize=(5,5))\n",
    "plt.show()"
   ]
  },
  {
   "cell_type": "markdown",
   "metadata": {
    "id": "KydVgaDZlZ6g"
   },
   "source": [
    "Orang yang Churn nya 0 lebih banyak dengan presentasi 73.42% : 26.58%"
   ]
  },
  {
   "cell_type": "code",
   "execution_count": 204,
   "metadata": {
    "colab": {
     "base_uri": "https://localhost:8080/",
     "height": 358
    },
    "id": "W5l8JSAETDhl",
    "outputId": "9e78a49f-9103-4c9c-b215-b820dcb4cf73"
   },
   "outputs": [
    {
     "data": {
      "text/plain": [
       "<matplotlib.axes._subplots.AxesSubplot at 0x7f215350eb50>"
      ]
     },
     "execution_count": 204,
     "metadata": {},
     "output_type": "execute_result"
    },
    {
     "data": {
      "image/png": "[encoded data removed]",
      "text/plain": [
       "<Figure size 360x288 with 2 Axes>"
      ]
     },
     "metadata": {
      "needs_background": "light"
     },
     "output_type": "display_data"
    }
   ],
   "source": [
    "fig, ax = plt.subplots(figsize=(5,4))\n",
    "sns.heatmap(dfnew.corr(), annot=True, linewidths=.05, ax=ax)"
   ]
  },
  {
   "cell_type": "markdown",
   "metadata": {
    "id": "u8ClyMYcliIY"
   },
   "source": [
    "tenure dan MonthlyCharges sama-sama berkorelasi dengan TotalCharges. Ini karena TotalCharges bergantung sama tenure dan MonthlyCharge. naiknya tenure dan MonthlyCharges menyebabkan bertambahnya TotalCharges."
   ]
  },
  {
   "cell_type": "code",
   "execution_count": 205,
   "metadata": {
    "colab": {
     "base_uri": "https://localhost:8080/"
    },
    "id": "uDeLCkRTY88h",
    "outputId": "fdf35c50-506f-4089-d582-d1493901f82c"
   },
   "outputs": [
    {
     "name": "stdout",
     "output_type": "stream",
     "text": [
      "<class 'pandas.core.frame.DataFrame'>\n",
      "Int64Index: 7032 entries, 0 to 7042\n",
      "Data columns (total 21 columns):\n",
      " #   Column            Non-Null Count  Dtype  \n",
      "---  ------            --------------  -----  \n",
      " 0   customerID        7032 non-null   object \n",
      " 1   gender            7032 non-null   object \n",
      " 2   SeniorCitizen     7032 non-null   int64  \n",
      " 3   Partner           7032 non-null   object \n",
      " 4   Dependents        7032 non-null   object \n",
      " 5   tenure            7032 non-null   int64  \n",
      " 6   PhoneService      7032 non-null   object \n",
      " 7   MultipleLines     7032 non-null   object \n",
      " 8   InternetService   7032 non-null   object \n",
      " 9   OnlineSecurity    7032 non-null   object \n",
      " 10  OnlineBackup      7032 non-null   object \n",
      " 11  DeviceProtection  7032 non-null   object \n",
      " 12  TechSupport       7032 non-null   object \n",
      " 13  StreamingTV       7032 non-null   object \n",
      " 14  StreamingMovies   7032 non-null   object \n",
      " 15  Contract          7032 non-null   object \n",
      " 16  PaperlessBilling  7032 non-null   object \n",
      " 17  PaymentMethod     7032 non-null   object \n",
      " 18  MonthlyCharges    7032 non-null   float64\n",
      " 19  TotalCharges      7032 non-null   float64\n",
      " 20  Churn             7032 non-null   object \n",
      "dtypes: float64(2), int64(2), object(17)\n",
      "memory usage: 1.5+ MB\n"
     ]
    }
   ],
   "source": [
    "dfnew.info()"
   ]
  },
  {
   "cell_type": "markdown",
   "metadata": {
    "id": "g2aYFXp4mKYd"
   },
   "source": [
    "Disini saya akan melakukan feature selection dengan cara drop kolom-kolom yang tidak penting."
   ]
  },
  {
   "cell_type": "code",
   "execution_count": 206,
   "metadata": {
    "id": "ENfehWGaTYTf"
   },
   "outputs": [],
   "source": [
    "data=dfnew.drop(columns=['customerID','gender','Partner','PhoneService','PaperlessBilling','PaymentMethod','TotalCharges','Contract'])"
   ]
  },
  {
   "cell_type": "code",
   "execution_count": 207,
   "metadata": {
    "colab": {
     "base_uri": "https://localhost:8080/",
     "height": 418
    },
    "id": "BTBy2_SkbBzD",
    "outputId": "af56e329-de4a-4b62-84fa-77fcb21a1dc8"
   },
   "outputs": [
    {
     "data": {
      "text/html": [
       "<div>\n",
       "<style scoped>\n",
       "    .dataframe tbody tr th:only-of-type {\n",
       "        vertical-align: middle;\n",
       "    }\n",
       "\n",
       "    .dataframe tbody tr th {\n",
       "        vertical-align: top;\n",
       "    }\n",
       "\n",
       "    .dataframe thead th {\n",
       "        text-align: right;\n",
       "    }\n",
       "</style>\n",
       "<table border=\"1\" class=\"dataframe\">\n",
       "  <thead>\n",
       "    <tr style=\"text-align: right;\">\n",
       "      <th></th>\n",
       "      <th>SeniorCitizen</th>\n",
       "      <th>Dependents</th>\n",
       "      <th>tenure</th>\n",
       "      <th>MultipleLines</th>\n",
       "      <th>InternetService</th>\n",
       "      <th>OnlineSecurity</th>\n",
       "      <th>OnlineBackup</th>\n",
       "      <th>DeviceProtection</th>\n",
       "      <th>TechSupport</th>\n",
       "      <th>StreamingTV</th>\n",
       "      <th>StreamingMovies</th>\n",
       "      <th>MonthlyCharges</th>\n",
       "      <th>Churn</th>\n",
       "    </tr>\n",
       "  </thead>\n",
       "  <tbody>\n",
       "    <tr>\n",
       "      <th>0</th>\n",
       "      <td>0</td>\n",
       "      <td>No</td>\n",
       "      <td>1</td>\n",
       "      <td>No phone service</td>\n",
       "      <td>DSL</td>\n",
       "      <td>No</td>\n",
       "      <td>Yes</td>\n",
       "      <td>No</td>\n",
       "      <td>No</td>\n",
       "      <td>No</td>\n",
       "      <td>No</td>\n",
       "      <td>29.85</td>\n",
       "      <td>No</td>\n",
       "    </tr>\n",
       "    <tr>\n",
       "      <th>1</th>\n",
       "      <td>0</td>\n",
       "      <td>No</td>\n",
       "      <td>34</td>\n",
       "      <td>No</td>\n",
       "      <td>DSL</td>\n",
       "      <td>Yes</td>\n",
       "      <td>No</td>\n",
       "      <td>Yes</td>\n",
       "      <td>No</td>\n",
       "      <td>No</td>\n",
       "      <td>No</td>\n",
       "      <td>56.95</td>\n",
       "      <td>No</td>\n",
       "    </tr>\n",
       "    <tr>\n",
       "      <th>2</th>\n",
       "      <td>0</td>\n",
       "      <td>No</td>\n",
       "      <td>2</td>\n",
       "      <td>No</td>\n",
       "      <td>DSL</td>\n",
       "      <td>Yes</td>\n",
       "      <td>Yes</td>\n",
       "      <td>No</td>\n",
       "      <td>No</td>\n",
       "      <td>No</td>\n",
       "      <td>No</td>\n",
       "      <td>53.85</td>\n",
       "      <td>Yes</td>\n",
       "    </tr>\n",
       "    <tr>\n",
       "      <th>3</th>\n",
       "      <td>0</td>\n",
       "      <td>No</td>\n",
       "      <td>45</td>\n",
       "      <td>No phone service</td>\n",
       "      <td>DSL</td>\n",
       "      <td>Yes</td>\n",
       "      <td>No</td>\n",
       "      <td>Yes</td>\n",
       "      <td>Yes</td>\n",
       "      <td>No</td>\n",
       "      <td>No</td>\n",
       "      <td>42.30</td>\n",
       "      <td>No</td>\n",
       "    </tr>\n",
       "    <tr>\n",
       "      <th>4</th>\n",
       "      <td>0</td>\n",
       "      <td>No</td>\n",
       "      <td>2</td>\n",
       "      <td>No</td>\n",
       "      <td>Fiber optic</td>\n",
       "      <td>No</td>\n",
       "      <td>No</td>\n",
       "      <td>No</td>\n",
       "      <td>No</td>\n",
       "      <td>No</td>\n",
       "      <td>No</td>\n",
       "      <td>70.70</td>\n",
       "      <td>Yes</td>\n",
       "    </tr>\n",
       "    <tr>\n",
       "      <th>...</th>\n",
       "      <td>...</td>\n",
       "      <td>...</td>\n",
       "      <td>...</td>\n",
       "      <td>...</td>\n",
       "      <td>...</td>\n",
       "      <td>...</td>\n",
       "      <td>...</td>\n",
       "      <td>...</td>\n",
       "      <td>...</td>\n",
       "      <td>...</td>\n",
       "      <td>...</td>\n",
       "      <td>...</td>\n",
       "      <td>...</td>\n",
       "    </tr>\n",
       "    <tr>\n",
       "      <th>7038</th>\n",
       "      <td>0</td>\n",
       "      <td>Yes</td>\n",
       "      <td>24</td>\n",
       "      <td>Yes</td>\n",
       "      <td>DSL</td>\n",
       "      <td>Yes</td>\n",
       "      <td>No</td>\n",
       "      <td>Yes</td>\n",
       "      <td>Yes</td>\n",
       "      <td>Yes</td>\n",
       "      <td>Yes</td>\n",
       "      <td>84.80</td>\n",
       "      <td>No</td>\n",
       "    </tr>\n",
       "    <tr>\n",
       "      <th>7039</th>\n",
       "      <td>0</td>\n",
       "      <td>Yes</td>\n",
       "      <td>72</td>\n",
       "      <td>Yes</td>\n",
       "      <td>Fiber optic</td>\n",
       "      <td>No</td>\n",
       "      <td>Yes</td>\n",
       "      <td>Yes</td>\n",
       "      <td>No</td>\n",
       "      <td>Yes</td>\n",
       "      <td>Yes</td>\n",
       "      <td>103.20</td>\n",
       "      <td>No</td>\n",
       "    </tr>\n",
       "    <tr>\n",
       "      <th>7040</th>\n",
       "      <td>0</td>\n",
       "      <td>Yes</td>\n",
       "      <td>11</td>\n",
       "      <td>No phone service</td>\n",
       "      <td>DSL</td>\n",
       "      <td>Yes</td>\n",
       "      <td>No</td>\n",
       "      <td>No</td>\n",
       "      <td>No</td>\n",
       "      <td>No</td>\n",
       "      <td>No</td>\n",
       "      <td>29.60</td>\n",
       "      <td>No</td>\n",
       "    </tr>\n",
       "    <tr>\n",
       "      <th>7041</th>\n",
       "      <td>1</td>\n",
       "      <td>No</td>\n",
       "      <td>4</td>\n",
       "      <td>Yes</td>\n",
       "      <td>Fiber optic</td>\n",
       "      <td>No</td>\n",
       "      <td>No</td>\n",
       "      <td>No</td>\n",
       "      <td>No</td>\n",
       "      <td>No</td>\n",
       "      <td>No</td>\n",
       "      <td>74.40</td>\n",
       "      <td>Yes</td>\n",
       "    </tr>\n",
       "    <tr>\n",
       "      <th>7042</th>\n",
       "      <td>0</td>\n",
       "      <td>No</td>\n",
       "      <td>66</td>\n",
       "      <td>No</td>\n",
       "      <td>Fiber optic</td>\n",
       "      <td>Yes</td>\n",
       "      <td>No</td>\n",
       "      <td>Yes</td>\n",
       "      <td>Yes</td>\n",
       "      <td>Yes</td>\n",
       "      <td>Yes</td>\n",
       "      <td>105.65</td>\n",
       "      <td>No</td>\n",
       "    </tr>\n",
       "  </tbody>\n",
       "</table>\n",
       "<p>7032 rows × 13 columns</p>\n",
       "</div>"
      ],
      "text/plain": [
       "      SeniorCitizen Dependents  tenure  ... StreamingMovies MonthlyCharges Churn\n",
       "0                 0         No       1  ...              No          29.85    No\n",
       "1                 0         No      34  ...              No          56.95    No\n",
       "2                 0         No       2  ...              No          53.85   Yes\n",
       "3                 0         No      45  ...              No          42.30    No\n",
       "4                 0         No       2  ...              No          70.70   Yes\n",
       "...             ...        ...     ...  ...             ...            ...   ...\n",
       "7038              0        Yes      24  ...             Yes          84.80    No\n",
       "7039              0        Yes      72  ...             Yes         103.20    No\n",
       "7040              0        Yes      11  ...              No          29.60    No\n",
       "7041              1         No       4  ...              No          74.40   Yes\n",
       "7042              0         No      66  ...             Yes         105.65    No\n",
       "\n",
       "[7032 rows x 13 columns]"
      ]
     },
     "execution_count": 207,
     "metadata": {},
     "output_type": "execute_result"
    }
   ],
   "source": [
    "data"
   ]
  },
  {
   "cell_type": "code",
   "execution_count": 208,
   "metadata": {
    "colab": {
     "base_uri": "https://localhost:8080/"
    },
    "id": "gMY6DMMSbKXx",
    "outputId": "a7460995-9c97-4eba-fd7f-cd9ccb7a6c41"
   },
   "outputs": [
    {
     "name": "stdout",
     "output_type": "stream",
     "text": [
      "Dependents :\n",
      "['No' 'Yes']\n",
      "MultipleLines :\n",
      "['No phone service' 'No' 'Yes']\n",
      "InternetService :\n",
      "['DSL' 'Fiber optic' 'No']\n",
      "OnlineSecurity :\n",
      "['No' 'Yes' 'No internet service']\n",
      "OnlineBackup :\n",
      "['Yes' 'No' 'No internet service']\n",
      "DeviceProtection :\n",
      "['No' 'Yes' 'No internet service']\n",
      "TechSupport :\n",
      "['No' 'Yes' 'No internet service']\n",
      "StreamingTV :\n",
      "['No' 'Yes' 'No internet service']\n",
      "StreamingMovies :\n",
      "['No' 'Yes' 'No internet service']\n",
      "Churn :\n",
      "['No' 'Yes']\n"
     ]
    }
   ],
   "source": [
    "cols=data.drop(data.describe().columns, axis=1)\n",
    "for i in cols:\n",
    "  print(i,':')\n",
    "  print(data[i].unique())"
   ]
  },
  {
   "cell_type": "markdown",
   "metadata": {
    "id": "cvLCTRwlmWGC"
   },
   "source": [
    "Data yang No akan saya replace dengan 0 dan Yes replace dengan 1."
   ]
  },
  {
   "cell_type": "code",
   "execution_count": 209,
   "metadata": {
    "id": "kx07r4NWcO0m"
   },
   "outputs": [],
   "source": [
    "new = data.replace({'MultipleLines':'No','Dependents':'No','OnlineSecurity':'No',\n",
    "              'OnlineBackup':'No','DeviceProtection':'No','TechSupport':'No',\n",
    "              'StreamingTV':'No','StreamingMovies':'No','Churn':'No'},0)"
   ]
  },
  {
   "cell_type": "code",
   "execution_count": 210,
   "metadata": {
    "id": "hDEAzqeeeG-r"
   },
   "outputs": [],
   "source": [
    "new = new.replace({'MultipleLines':'No phone service','OnlineSecurity':'No internet service',\n",
    "              'OnlineBackup':'No internet service','DeviceProtection':'No internet service','TechSupport':'No internet service',\n",
    "              'StreamingTV':'No internet service','StreamingMovies':'No internet service'},0)"
   ]
  },
  {
   "cell_type": "code",
   "execution_count": 211,
   "metadata": {
    "id": "yHJl-7GeelL6"
   },
   "outputs": [],
   "source": [
    "new = new.replace({'MultipleLines':'Yes','Dependents':'Yes','OnlineSecurity':'Yes',\n",
    "              'OnlineBackup':'Yes','DeviceProtection':'Yes','TechSupport':'Yes',\n",
    "              'StreamingTV':'Yes','StreamingMovies':'Yes','Churn':'Yes'},1)"
   ]
  },
  {
   "cell_type": "markdown",
   "metadata": {
    "id": "96qHMSi5mh-0"
   },
   "source": [
    "get_dummies untuk kolom InternetService"
   ]
  },
  {
   "cell_type": "code",
   "execution_count": 212,
   "metadata": {
    "id": "TC1LAgpges1w"
   },
   "outputs": [],
   "source": [
    "new = pd.get_dummies(new, columns=['InternetService'])"
   ]
  },
  {
   "cell_type": "code",
   "execution_count": 213,
   "metadata": {
    "colab": {
     "base_uri": "https://localhost:8080/",
     "height": 395
    },
    "id": "ikhajwXEeals",
    "outputId": "905929d7-f238-4895-a493-0f084f7fc653"
   },
   "outputs": [
    {
     "data": {
      "text/html": [
       "<div>\n",
       "<style scoped>\n",
       "    .dataframe tbody tr th:only-of-type {\n",
       "        vertical-align: middle;\n",
       "    }\n",
       "\n",
       "    .dataframe tbody tr th {\n",
       "        vertical-align: top;\n",
       "    }\n",
       "\n",
       "    .dataframe thead th {\n",
       "        text-align: right;\n",
       "    }\n",
       "</style>\n",
       "<table border=\"1\" class=\"dataframe\">\n",
       "  <thead>\n",
       "    <tr style=\"text-align: right;\">\n",
       "      <th></th>\n",
       "      <th>SeniorCitizen</th>\n",
       "      <th>Dependents</th>\n",
       "      <th>tenure</th>\n",
       "      <th>MultipleLines</th>\n",
       "      <th>OnlineSecurity</th>\n",
       "      <th>OnlineBackup</th>\n",
       "      <th>DeviceProtection</th>\n",
       "      <th>TechSupport</th>\n",
       "      <th>StreamingTV</th>\n",
       "      <th>StreamingMovies</th>\n",
       "      <th>MonthlyCharges</th>\n",
       "      <th>Churn</th>\n",
       "      <th>InternetService_DSL</th>\n",
       "      <th>InternetService_Fiber optic</th>\n",
       "      <th>InternetService_No</th>\n",
       "    </tr>\n",
       "  </thead>\n",
       "  <tbody>\n",
       "    <tr>\n",
       "      <th>0</th>\n",
       "      <td>0</td>\n",
       "      <td>0</td>\n",
       "      <td>1</td>\n",
       "      <td>0</td>\n",
       "      <td>0</td>\n",
       "      <td>1</td>\n",
       "      <td>0</td>\n",
       "      <td>0</td>\n",
       "      <td>0</td>\n",
       "      <td>0</td>\n",
       "      <td>29.85</td>\n",
       "      <td>0</td>\n",
       "      <td>1</td>\n",
       "      <td>0</td>\n",
       "      <td>0</td>\n",
       "    </tr>\n",
       "    <tr>\n",
       "      <th>1</th>\n",
       "      <td>0</td>\n",
       "      <td>0</td>\n",
       "      <td>34</td>\n",
       "      <td>0</td>\n",
       "      <td>1</td>\n",
       "      <td>0</td>\n",
       "      <td>1</td>\n",
       "      <td>0</td>\n",
       "      <td>0</td>\n",
       "      <td>0</td>\n",
       "      <td>56.95</td>\n",
       "      <td>0</td>\n",
       "      <td>1</td>\n",
       "      <td>0</td>\n",
       "      <td>0</td>\n",
       "    </tr>\n",
       "    <tr>\n",
       "      <th>2</th>\n",
       "      <td>0</td>\n",
       "      <td>0</td>\n",
       "      <td>2</td>\n",
       "      <td>0</td>\n",
       "      <td>1</td>\n",
       "      <td>1</td>\n",
       "      <td>0</td>\n",
       "      <td>0</td>\n",
       "      <td>0</td>\n",
       "      <td>0</td>\n",
       "      <td>53.85</td>\n",
       "      <td>1</td>\n",
       "      <td>1</td>\n",
       "      <td>0</td>\n",
       "      <td>0</td>\n",
       "    </tr>\n",
       "    <tr>\n",
       "      <th>3</th>\n",
       "      <td>0</td>\n",
       "      <td>0</td>\n",
       "      <td>45</td>\n",
       "      <td>0</td>\n",
       "      <td>1</td>\n",
       "      <td>0</td>\n",
       "      <td>1</td>\n",
       "      <td>1</td>\n",
       "      <td>0</td>\n",
       "      <td>0</td>\n",
       "      <td>42.30</td>\n",
       "      <td>0</td>\n",
       "      <td>1</td>\n",
       "      <td>0</td>\n",
       "      <td>0</td>\n",
       "    </tr>\n",
       "    <tr>\n",
       "      <th>4</th>\n",
       "      <td>0</td>\n",
       "      <td>0</td>\n",
       "      <td>2</td>\n",
       "      <td>0</td>\n",
       "      <td>0</td>\n",
       "      <td>0</td>\n",
       "      <td>0</td>\n",
       "      <td>0</td>\n",
       "      <td>0</td>\n",
       "      <td>0</td>\n",
       "      <td>70.70</td>\n",
       "      <td>1</td>\n",
       "      <td>0</td>\n",
       "      <td>1</td>\n",
       "      <td>0</td>\n",
       "    </tr>\n",
       "    <tr>\n",
       "      <th>5</th>\n",
       "      <td>0</td>\n",
       "      <td>0</td>\n",
       "      <td>8</td>\n",
       "      <td>1</td>\n",
       "      <td>0</td>\n",
       "      <td>0</td>\n",
       "      <td>1</td>\n",
       "      <td>0</td>\n",
       "      <td>1</td>\n",
       "      <td>1</td>\n",
       "      <td>99.65</td>\n",
       "      <td>1</td>\n",
       "      <td>0</td>\n",
       "      <td>1</td>\n",
       "      <td>0</td>\n",
       "    </tr>\n",
       "    <tr>\n",
       "      <th>6</th>\n",
       "      <td>0</td>\n",
       "      <td>1</td>\n",
       "      <td>22</td>\n",
       "      <td>1</td>\n",
       "      <td>0</td>\n",
       "      <td>1</td>\n",
       "      <td>0</td>\n",
       "      <td>0</td>\n",
       "      <td>1</td>\n",
       "      <td>0</td>\n",
       "      <td>89.10</td>\n",
       "      <td>0</td>\n",
       "      <td>0</td>\n",
       "      <td>1</td>\n",
       "      <td>0</td>\n",
       "    </tr>\n",
       "    <tr>\n",
       "      <th>7</th>\n",
       "      <td>0</td>\n",
       "      <td>0</td>\n",
       "      <td>10</td>\n",
       "      <td>0</td>\n",
       "      <td>1</td>\n",
       "      <td>0</td>\n",
       "      <td>0</td>\n",
       "      <td>0</td>\n",
       "      <td>0</td>\n",
       "      <td>0</td>\n",
       "      <td>29.75</td>\n",
       "      <td>0</td>\n",
       "      <td>1</td>\n",
       "      <td>0</td>\n",
       "      <td>0</td>\n",
       "    </tr>\n",
       "    <tr>\n",
       "      <th>8</th>\n",
       "      <td>0</td>\n",
       "      <td>0</td>\n",
       "      <td>28</td>\n",
       "      <td>1</td>\n",
       "      <td>0</td>\n",
       "      <td>0</td>\n",
       "      <td>1</td>\n",
       "      <td>1</td>\n",
       "      <td>1</td>\n",
       "      <td>1</td>\n",
       "      <td>104.80</td>\n",
       "      <td>1</td>\n",
       "      <td>0</td>\n",
       "      <td>1</td>\n",
       "      <td>0</td>\n",
       "    </tr>\n",
       "    <tr>\n",
       "      <th>9</th>\n",
       "      <td>0</td>\n",
       "      <td>1</td>\n",
       "      <td>62</td>\n",
       "      <td>0</td>\n",
       "      <td>1</td>\n",
       "      <td>1</td>\n",
       "      <td>0</td>\n",
       "      <td>0</td>\n",
       "      <td>0</td>\n",
       "      <td>0</td>\n",
       "      <td>56.15</td>\n",
       "      <td>0</td>\n",
       "      <td>1</td>\n",
       "      <td>0</td>\n",
       "      <td>0</td>\n",
       "    </tr>\n",
       "  </tbody>\n",
       "</table>\n",
       "</div>"
      ],
      "text/plain": [
       "   SeniorCitizen  Dependents  ...  InternetService_Fiber optic  InternetService_No\n",
       "0              0           0  ...                            0                   0\n",
       "1              0           0  ...                            0                   0\n",
       "2              0           0  ...                            0                   0\n",
       "3              0           0  ...                            0                   0\n",
       "4              0           0  ...                            1                   0\n",
       "5              0           0  ...                            1                   0\n",
       "6              0           1  ...                            1                   0\n",
       "7              0           0  ...                            0                   0\n",
       "8              0           0  ...                            1                   0\n",
       "9              0           1  ...                            0                   0\n",
       "\n",
       "[10 rows x 15 columns]"
      ]
     },
     "execution_count": 213,
     "metadata": {},
     "output_type": "execute_result"
    }
   ],
   "source": [
    "new.head(10)"
   ]
  },
  {
   "cell_type": "code",
   "execution_count": 214,
   "metadata": {
    "colab": {
     "base_uri": "https://localhost:8080/",
     "height": 737
    },
    "id": "-4BPqyyNgRXz",
    "outputId": "b0a599c0-9870-4329-d9f6-e9cccc5c8eb6"
   },
   "outputs": [
    {
     "data": {
      "text/plain": [
       "<matplotlib.axes._subplots.AxesSubplot at 0x7f2164ad4890>"
      ]
     },
     "execution_count": 214,
     "metadata": {},
     "output_type": "execute_result"
    },
    {
     "data": {
      "image/png": "[encoded data removed]",
      "text/plain": [
       "<Figure size 936x720 with 2 Axes>"
      ]
     },
     "metadata": {
      "needs_background": "light"
     },
     "output_type": "display_data"
    }
   ],
   "source": [
    "fig, ax = plt.subplots(figsize=(13,10))\n",
    "sns.heatmap(new.corr(), annot=True, linewidths=.05, ax=ax)"
   ]
  },
  {
   "cell_type": "markdown",
   "metadata": {
    "id": "W7GCNhkFmnzw"
   },
   "source": [
    "InternetService_No mempunyai korelasi negative terhadap MonthlyCharges. Internet_Fiber optic berkorelasi negative dengan InternetService_DSL dan positiv dengan MonthlyCHarges. StreamingTV dan StreamingMovies juga memiliki korelasi positiv dengan MonthlyCHarges."
   ]
  },
  {
   "cell_type": "code",
   "execution_count": 215,
   "metadata": {
    "colab": {
     "base_uri": "https://localhost:8080/",
     "height": 335
    },
    "id": "wmx9NYORgvnu",
    "outputId": "d481ceb0-62ad-46a4-f0f0-8f43635fbc1f"
   },
   "outputs": [
    {
     "data": {
      "image/png": "[encoded data removed]",
      "text/plain": [
       "<Figure size 1944x360 with 5 Axes>"
      ]
     },
     "metadata": {
      "needs_background": "light"
     },
     "output_type": "display_data"
    }
   ],
   "source": [
    "fig, ax = plt.subplots(ncols=5, figsize=(27,5))\n",
    "sns.boxplot(x='StreamingTV', y='MonthlyCharges', data=dfnew, ax=ax[0])\n",
    "sns.boxplot(x='StreamingMovies', y='MonthlyCharges', data=dfnew, ax=ax[1])\n",
    "sns.boxplot(x='InternetService_Fiber optic', y='MonthlyCharges', data=new, ax=ax[2])\n",
    "sns.boxplot(x='InternetService_No', y='MonthlyCharges', data=new, ax=ax[3])\n",
    "sns.boxplot(x='InternetService_No', y='MonthlyCharges', data=new, ax=ax[4])\n",
    "plt.show()"
   ]
  },
  {
   "cell_type": "markdown",
   "metadata": {
    "id": "aVFB_6zjnQyB"
   },
   "source": [
    "Kebanyakan orang yang StreamingTV dan Streaming Movies MonthlyCharges nya lebih banyak daripada yang tidak. Kebanyakan yang InternetService_Fiber optik MonthlyCharges nya lebih banyak."
   ]
  },
  {
   "cell_type": "code",
   "execution_count": 216,
   "metadata": {
    "id": "YB1UWZF-iegL"
   },
   "outputs": [],
   "source": [
    "X = new.drop(columns='Churn')\n",
    "y = new['Churn']"
   ]
  },
  {
   "cell_type": "code",
   "execution_count": 217,
   "metadata": {
    "colab": {
     "base_uri": "https://localhost:8080/"
    },
    "id": "uCfiAsgUWCQG",
    "outputId": "b41910f1-90f9-47ec-9e92-c7cfb7f365ae"
   },
   "outputs": [
    {
     "data": {
      "text/plain": [
       "(7032, 14)"
      ]
     },
     "execution_count": 217,
     "metadata": {},
     "output_type": "execute_result"
    }
   ],
   "source": [
    "X.shape"
   ]
  },
  {
   "cell_type": "code",
   "execution_count": 218,
   "metadata": {
    "colab": {
     "base_uri": "https://localhost:8080/"
    },
    "id": "swcx96mEWDdn",
    "outputId": "eb0fd7d2-35d1-4e49-b0a6-c1a5795622eb"
   },
   "outputs": [
    {
     "data": {
      "text/plain": [
       "(7032,)"
      ]
     },
     "execution_count": 218,
     "metadata": {},
     "output_type": "execute_result"
    }
   ],
   "source": [
    "y.shape"
   ]
  },
  {
   "cell_type": "code",
   "execution_count": 219,
   "metadata": {
    "id": "143S_q5tUSQB"
   },
   "outputs": [],
   "source": [
    "Xtr, Xts, ytr, yts = train_test_split(X, y, test_size=0.1, random_state=42)"
   ]
  },
  {
   "cell_type": "code",
   "execution_count": 220,
   "metadata": {
    "id": "T-a0w5EVVk09"
   },
   "outputs": [],
   "source": [
    "Xtr, Xva, ytr, yva = train_test_split(Xtr, ytr, test_size=0.2, random_state=42)"
   ]
  },
  {
   "cell_type": "code",
   "execution_count": 221,
   "metadata": {
    "colab": {
     "base_uri": "https://localhost:8080/"
    },
    "id": "Y9Ai6qqJVxiU",
    "outputId": "811bbc0a-5b88-466e-f3b3-79ecca29292f"
   },
   "outputs": [
    {
     "name": "stdout",
     "output_type": "stream",
     "text": [
      "(5062, 14)\n",
      "(5062,)\n"
     ]
    }
   ],
   "source": [
    "print(Xtr.shape)\n",
    "print(ytr.shape)"
   ]
  },
  {
   "cell_type": "markdown",
   "metadata": {
    "id": "6Nix_wZun1uj"
   },
   "source": [
    "# Model Definition, Model Training dan Model Evaluation"
   ]
  },
  {
   "cell_type": "markdown",
   "metadata": {
    "id": "xdE5V1WFn6wj"
   },
   "source": [
    "## Ceate Layer"
   ]
  },
  {
   "cell_type": "code",
   "execution_count": 222,
   "metadata": {
    "id": "kTxp2sHdeQEM"
   },
   "outputs": [],
   "source": [
    "keras.backend.clear_session()\n",
    "np.random.seed(42)\n",
    "tf.random.set_seed(42)"
   ]
  },
  {
   "cell_type": "code",
   "execution_count": 223,
   "metadata": {
    "id": "hJderJDZV8h_"
   },
   "outputs": [],
   "source": [
    "def create_layers(weight_init=tf.keras.initializers.GlorotNormal(),hidden_act_func='relu'):\n",
    "  model = keras.models.Sequential()\n",
    "  model.add(keras.layers.Dense(10,input_dim=14,kernel_initializer=weight_init, activation=hidden_act_func))\n",
    "  model.add(keras.layers.Dense(10,kernel_initializer=weight_init, activation=hidden_act_func))\n",
    "  model.add(keras.layers.Dense(5,kernel_initializer=weight_init, activation=hidden_act_func))\n",
    "  \n",
    "\n",
    "  # Output layer\n",
    "  model.add(keras.layers.Dense(2, activation=\"softmax\"))\n",
    "  return model"
   ]
  },
  {
   "cell_type": "markdown",
   "metadata": {
    "id": "IOkNK9D0n-vH"
   },
   "source": [
    "## Membandingkan antara Glorot, He dan Random normal Initializer"
   ]
  },
  {
   "cell_type": "code",
   "execution_count": 224,
   "metadata": {
    "id": "62nY4Sm1azQQ"
   },
   "outputs": [],
   "source": [
    "#Glorot\n",
    "initializer1 = tf.keras.initializers.GlorotNormal() #Glorot Initializer\n",
    "glorot_model = create_layers(weight_init = initializer1)\n",
    "\n",
    "#He Initializer\n",
    "initializer2 = tf.keras.initializers.HeNormal()\n",
    "he_model = create_layers(weight_init = initializer2)\n",
    "\n",
    "#Random normal Initializer\n",
    "initializer3 = tf.keras.initializers.HeNormal()\n",
    "random_normal_model = create_layers(weight_init = initializer3)"
   ]
  },
  {
   "cell_type": "markdown",
   "metadata": {
    "id": "IbY7_jbXoHeM"
   },
   "source": [
    "### Summary dari setiap model"
   ]
  },
  {
   "cell_type": "code",
   "execution_count": 225,
   "metadata": {
    "colab": {
     "base_uri": "https://localhost:8080/"
    },
    "id": "0yYQGg3_baQd",
    "outputId": "a361a023-ebc1-4768-c0d9-4111f44afcd1"
   },
   "outputs": [
    {
     "name": "stdout",
     "output_type": "stream",
     "text": [
      "Model: \"sequential\"\n",
      "_________________________________________________________________\n",
      "Layer (type)                 Output Shape              Param #   \n",
      "=================================================================\n",
      "dense (Dense)                (None, 10)                150       \n",
      "_________________________________________________________________\n",
      "dense_1 (Dense)              (None, 10)                110       \n",
      "_________________________________________________________________\n",
      "dense_2 (Dense)              (None, 5)                 55        \n",
      "_________________________________________________________________\n",
      "dense_3 (Dense)              (None, 2)                 12        \n",
      "=================================================================\n",
      "Total params: 327\n",
      "Trainable params: 327\n",
      "Non-trainable params: 0\n",
      "_________________________________________________________________\n",
      "None\n",
      "Model: \"sequential_1\"\n",
      "_________________________________________________________________\n",
      "Layer (type)                 Output Shape              Param #   \n",
      "=================================================================\n",
      "dense_4 (Dense)              (None, 10)                150       \n",
      "_________________________________________________________________\n",
      "dense_5 (Dense)              (None, 10)                110       \n",
      "_________________________________________________________________\n",
      "dense_6 (Dense)              (None, 5)                 55        \n",
      "_________________________________________________________________\n",
      "dense_7 (Dense)              (None, 2)                 12        \n",
      "=================================================================\n",
      "Total params: 327\n",
      "Trainable params: 327\n",
      "Non-trainable params: 0\n",
      "_________________________________________________________________\n",
      "None\n",
      "Model: \"sequential_2\"\n",
      "_________________________________________________________________\n",
      "Layer (type)                 Output Shape              Param #   \n",
      "=================================================================\n",
      "dense_8 (Dense)              (None, 10)                150       \n",
      "_________________________________________________________________\n",
      "dense_9 (Dense)              (None, 10)                110       \n",
      "_________________________________________________________________\n",
      "dense_10 (Dense)             (None, 5)                 55        \n",
      "_________________________________________________________________\n",
      "dense_11 (Dense)             (None, 2)                 12        \n",
      "=================================================================\n",
      "Total params: 327\n",
      "Trainable params: 327\n",
      "Non-trainable params: 0\n",
      "_________________________________________________________________\n",
      "None\n"
     ]
    }
   ],
   "source": [
    "print(glorot_model.summary())\n",
    "print(he_model.summary())\n",
    "print(random_normal_model.summary())"
   ]
  },
  {
   "cell_type": "markdown",
   "metadata": {
    "id": "OL-T7NLyoOnI"
   },
   "source": [
    "### Compiling model"
   ]
  },
  {
   "cell_type": "code",
   "execution_count": 226,
   "metadata": {
    "id": "SrLPUFYsbNSN"
   },
   "outputs": [],
   "source": [
    "glorot_model.compile(loss=\"sparse_categorical_crossentropy\",\n",
    "              optimizer=\"adam\",\n",
    "              metrics=[\"accuracy\"])"
   ]
  },
  {
   "cell_type": "code",
   "execution_count": 227,
   "metadata": {
    "id": "UsmtxBY4bSkZ"
   },
   "outputs": [],
   "source": [
    "he_model.compile(loss=\"sparse_categorical_crossentropy\",\n",
    "              optimizer=\"adam\",\n",
    "              metrics=[\"accuracy\"])"
   ]
  },
  {
   "cell_type": "code",
   "execution_count": 228,
   "metadata": {
    "id": "pJAh89yubSmy"
   },
   "outputs": [],
   "source": [
    "random_normal_model.compile(loss=\"sparse_categorical_crossentropy\",\n",
    "              optimizer=\"adam\",\n",
    "              metrics=[\"accuracy\"]) "
   ]
  },
  {
   "cell_type": "markdown",
   "metadata": {
    "id": "HwBpF7ZtoQhO"
   },
   "source": [
    "### Training model"
   ]
  },
  {
   "cell_type": "code",
   "execution_count": 230,
   "metadata": {
    "colab": {
     "base_uri": "https://localhost:8080/"
    },
    "id": "GqRjf25tbW4q",
    "outputId": "71b48a33-19ac-4af9-80a0-6fffee93290d"
   },
   "outputs": [
    {
     "name": "stdout",
     "output_type": "stream",
     "text": [
      "Epoch 1/15\n",
      "159/159 [==============================] - 0s 3ms/step - loss: 0.4316 - accuracy: 0.7973 - val_loss: 0.4376 - val_accuracy: 0.7852\n",
      "Epoch 2/15\n",
      "159/159 [==============================] - 0s 2ms/step - loss: 0.4312 - accuracy: 0.7969 - val_loss: 0.4382 - val_accuracy: 0.7923\n",
      "Epoch 3/15\n",
      "159/159 [==============================] - 0s 2ms/step - loss: 0.4332 - accuracy: 0.7938 - val_loss: 0.4415 - val_accuracy: 0.7907\n",
      "Epoch 4/15\n",
      "159/159 [==============================] - 0s 2ms/step - loss: 0.4277 - accuracy: 0.7944 - val_loss: 0.4477 - val_accuracy: 0.7907\n",
      "Epoch 5/15\n",
      "159/159 [==============================] - 0s 2ms/step - loss: 0.4326 - accuracy: 0.7930 - val_loss: 0.4376 - val_accuracy: 0.7820\n",
      "Epoch 6/15\n",
      "159/159 [==============================] - 0s 2ms/step - loss: 0.4304 - accuracy: 0.7959 - val_loss: 0.4363 - val_accuracy: 0.7907\n",
      "Epoch 7/15\n",
      "159/159 [==============================] - 0s 2ms/step - loss: 0.4284 - accuracy: 0.7934 - val_loss: 0.4366 - val_accuracy: 0.7915\n",
      "Epoch 8/15\n",
      "159/159 [==============================] - 0s 2ms/step - loss: 0.4313 - accuracy: 0.7957 - val_loss: 0.4620 - val_accuracy: 0.7899\n",
      "Epoch 9/15\n",
      "159/159 [==============================] - 0s 2ms/step - loss: 0.4302 - accuracy: 0.7955 - val_loss: 0.4493 - val_accuracy: 0.7852\n",
      "Epoch 10/15\n",
      "159/159 [==============================] - 0s 2ms/step - loss: 0.4299 - accuracy: 0.7938 - val_loss: 0.4362 - val_accuracy: 0.7836\n",
      "Epoch 11/15\n",
      "159/159 [==============================] - 0s 2ms/step - loss: 0.4296 - accuracy: 0.7942 - val_loss: 0.4355 - val_accuracy: 0.7923\n",
      "Epoch 12/15\n",
      "159/159 [==============================] - 0s 2ms/step - loss: 0.4329 - accuracy: 0.7934 - val_loss: 0.4350 - val_accuracy: 0.7923\n",
      "Epoch 13/15\n",
      "159/159 [==============================] - 0s 2ms/step - loss: 0.4289 - accuracy: 0.7983 - val_loss: 0.4385 - val_accuracy: 0.7907\n",
      "Epoch 14/15\n",
      "159/159 [==============================] - 0s 2ms/step - loss: 0.4291 - accuracy: 0.7957 - val_loss: 0.4353 - val_accuracy: 0.7915\n",
      "Epoch 15/15\n",
      "159/159 [==============================] - 0s 2ms/step - loss: 0.4311 - accuracy: 0.7953 - val_loss: 0.4365 - val_accuracy: 0.7891\n"
     ]
    }
   ],
   "source": [
    "history1 = glorot_model.fit(Xtr, ytr, epochs=15, validation_data=(Xva, yva))"
   ]
  },
  {
   "cell_type": "code",
   "execution_count": 231,
   "metadata": {
    "colab": {
     "base_uri": "https://localhost:8080/"
    },
    "id": "8Sh9zZP7d3qq",
    "outputId": "075a0ea0-7735-4fc7-ca3b-4d68255fb258"
   },
   "outputs": [
    {
     "name": "stdout",
     "output_type": "stream",
     "text": [
      "Epoch 1/15\n",
      "159/159 [==============================] - 1s 3ms/step - loss: 0.5604 - accuracy: 0.7542 - val_loss: 0.4947 - val_accuracy: 0.7686\n",
      "Epoch 2/15\n",
      "159/159 [==============================] - 0s 2ms/step - loss: 0.4809 - accuracy: 0.7760 - val_loss: 0.4781 - val_accuracy: 0.7820\n",
      "Epoch 3/15\n",
      "159/159 [==============================] - 0s 2ms/step - loss: 0.4702 - accuracy: 0.7827 - val_loss: 0.4745 - val_accuracy: 0.7701\n",
      "Epoch 4/15\n",
      "159/159 [==============================] - 0s 2ms/step - loss: 0.4643 - accuracy: 0.7835 - val_loss: 0.5105 - val_accuracy: 0.7717\n",
      "Epoch 5/15\n",
      "159/159 [==============================] - 0s 2ms/step - loss: 0.4659 - accuracy: 0.7825 - val_loss: 0.4818 - val_accuracy: 0.7867\n",
      "Epoch 6/15\n",
      "159/159 [==============================] - 0s 2ms/step - loss: 0.4524 - accuracy: 0.7864 - val_loss: 0.4646 - val_accuracy: 0.7733\n",
      "Epoch 7/15\n",
      "159/159 [==============================] - 0s 2ms/step - loss: 0.4441 - accuracy: 0.7884 - val_loss: 0.4474 - val_accuracy: 0.7883\n",
      "Epoch 8/15\n",
      "159/159 [==============================] - 0s 2ms/step - loss: 0.4410 - accuracy: 0.7965 - val_loss: 0.4591 - val_accuracy: 0.7788\n",
      "Epoch 9/15\n",
      "159/159 [==============================] - 0s 2ms/step - loss: 0.4475 - accuracy: 0.7914 - val_loss: 0.4789 - val_accuracy: 0.7804\n",
      "Epoch 10/15\n",
      "159/159 [==============================] - 0s 2ms/step - loss: 0.4438 - accuracy: 0.7904 - val_loss: 0.4437 - val_accuracy: 0.7923\n",
      "Epoch 11/15\n",
      "159/159 [==============================] - 0s 2ms/step - loss: 0.4381 - accuracy: 0.7924 - val_loss: 0.4445 - val_accuracy: 0.7883\n",
      "Epoch 12/15\n",
      "159/159 [==============================] - 0s 2ms/step - loss: 0.4397 - accuracy: 0.7945 - val_loss: 0.4618 - val_accuracy: 0.7733\n",
      "Epoch 13/15\n",
      "159/159 [==============================] - 0s 2ms/step - loss: 0.4402 - accuracy: 0.7959 - val_loss: 0.4419 - val_accuracy: 0.7907\n",
      "Epoch 14/15\n",
      "159/159 [==============================] - 0s 2ms/step - loss: 0.4360 - accuracy: 0.7936 - val_loss: 0.4530 - val_accuracy: 0.7915\n",
      "Epoch 15/15\n",
      "159/159 [==============================] - 0s 2ms/step - loss: 0.4391 - accuracy: 0.7922 - val_loss: 0.4731 - val_accuracy: 0.7788\n"
     ]
    }
   ],
   "source": [
    "history2 = he_model.fit(Xtr, ytr, epochs=15, validation_data=(Xva, yva))"
   ]
  },
  {
   "cell_type": "code",
   "execution_count": 232,
   "metadata": {
    "colab": {
     "base_uri": "https://localhost:8080/"
    },
    "id": "ZTXhyFMnd39T",
    "outputId": "03f501be-0de6-4c07-9ab6-2fbde7bc4921"
   },
   "outputs": [
    {
     "name": "stdout",
     "output_type": "stream",
     "text": [
      "Epoch 1/15\n",
      "159/159 [==============================] - 1s 3ms/step - loss: 0.7972 - accuracy: 0.6869 - val_loss: 0.5002 - val_accuracy: 0.7496\n",
      "Epoch 2/15\n",
      "159/159 [==============================] - 0s 2ms/step - loss: 0.4856 - accuracy: 0.7639 - val_loss: 0.4874 - val_accuracy: 0.7859\n",
      "Epoch 3/15\n",
      "159/159 [==============================] - 0s 2ms/step - loss: 0.4763 - accuracy: 0.7924 - val_loss: 0.4782 - val_accuracy: 0.7844\n",
      "Epoch 4/15\n",
      "159/159 [==============================] - 0s 2ms/step - loss: 0.4669 - accuracy: 0.7868 - val_loss: 0.4896 - val_accuracy: 0.7883\n",
      "Epoch 5/15\n",
      "159/159 [==============================] - 0s 2ms/step - loss: 0.4621 - accuracy: 0.7936 - val_loss: 0.4645 - val_accuracy: 0.7780\n",
      "Epoch 6/15\n",
      "159/159 [==============================] - 0s 2ms/step - loss: 0.4536 - accuracy: 0.7961 - val_loss: 0.4595 - val_accuracy: 0.7859\n",
      "Epoch 7/15\n",
      "159/159 [==============================] - 0s 2ms/step - loss: 0.4474 - accuracy: 0.7942 - val_loss: 0.4551 - val_accuracy: 0.7859\n",
      "Epoch 8/15\n",
      "159/159 [==============================] - 0s 2ms/step - loss: 0.4448 - accuracy: 0.7930 - val_loss: 0.4587 - val_accuracy: 0.7852\n",
      "Epoch 9/15\n",
      "159/159 [==============================] - 0s 2ms/step - loss: 0.4417 - accuracy: 0.7977 - val_loss: 0.4495 - val_accuracy: 0.7859\n",
      "Epoch 10/15\n",
      "159/159 [==============================] - 0s 2ms/step - loss: 0.4404 - accuracy: 0.7906 - val_loss: 0.4457 - val_accuracy: 0.7875\n",
      "Epoch 11/15\n",
      "159/159 [==============================] - 0s 2ms/step - loss: 0.4371 - accuracy: 0.7947 - val_loss: 0.4435 - val_accuracy: 0.7891\n",
      "Epoch 12/15\n",
      "159/159 [==============================] - 0s 2ms/step - loss: 0.4360 - accuracy: 0.7932 - val_loss: 0.4423 - val_accuracy: 0.7899\n",
      "Epoch 13/15\n",
      "159/159 [==============================] - 0s 2ms/step - loss: 0.4340 - accuracy: 0.7985 - val_loss: 0.4454 - val_accuracy: 0.7899\n",
      "Epoch 14/15\n",
      "159/159 [==============================] - 0s 2ms/step - loss: 0.4327 - accuracy: 0.7942 - val_loss: 0.4392 - val_accuracy: 0.7867\n",
      "Epoch 15/15\n",
      "159/159 [==============================] - 0s 2ms/step - loss: 0.4320 - accuracy: 0.7944 - val_loss: 0.4389 - val_accuracy: 0.7915\n"
     ]
    }
   ],
   "source": [
    "history3 = random_normal_model.fit(Xtr, ytr, epochs=15, validation_data=(Xva, yva))"
   ]
  },
  {
   "cell_type": "markdown",
   "metadata": {
    "id": "SiTc08puokCt"
   },
   "source": [
    "### Model Evaluation"
   ]
  },
  {
   "cell_type": "code",
   "execution_count": 233,
   "metadata": {
    "colab": {
     "base_uri": "https://localhost:8080/",
     "height": 324
    },
    "id": "3ZhiFTUufxVX",
    "outputId": "20e24920-aa47-4d6e-faf8-2a00682623bf"
   },
   "outputs": [
    {
     "data": {
      "image/png": "[encoded data removed]",
      "text/plain": [
       "<Figure size 576x360 with 1 Axes>"
      ]
     },
     "metadata": {
      "needs_background": "light"
     },
     "output_type": "display_data"
    }
   ],
   "source": [
    "pd.DataFrame(history1.history).plot(figsize=(8, 5))\n",
    "plt.grid(True)\n",
    "plt.gca().set_ylim(0, 1)\n",
    "#save_fig(\"keras_learning_curves_plot\")\n",
    "plt.show()"
   ]
  },
  {
   "cell_type": "code",
   "execution_count": 235,
   "metadata": {
    "colab": {
     "base_uri": "https://localhost:8080/"
    },
    "id": "F3N3TJfr2vmD",
    "outputId": "b7b481e1-f887-4425-8255-5798b8f4fda2"
   },
   "outputs": [
    {
     "name": "stdout",
     "output_type": "stream",
     "text": [
      "22/22 [==============================] - 0s 2ms/step - loss: 0.4530 - accuracy: 0.7741\n"
     ]
    },
    {
     "data": {
      "text/plain": [
       "[0.45295780897140503, 0.7741477489471436]"
      ]
     },
     "execution_count": 235,
     "metadata": {},
     "output_type": "execute_result"
    }
   ],
   "source": [
    "glorot_model.evaluate(Xts, yts)"
   ]
  },
  {
   "cell_type": "code",
   "execution_count": 236,
   "metadata": {
    "colab": {
     "base_uri": "https://localhost:8080/",
     "height": 324
    },
    "id": "rZWJPKU7fxYN",
    "outputId": "3d447c10-d81e-4150-8206-58e68e8af865"
   },
   "outputs": [
    {
     "data": {
      "image/png": "[encoded data removed]",
      "text/plain": [
       "<Figure size 576x360 with 1 Axes>"
      ]
     },
     "metadata": {
      "needs_background": "light"
     },
     "output_type": "display_data"
    }
   ],
   "source": [
    "pd.DataFrame(history2.history).plot(figsize=(8, 5))\n",
    "plt.grid(True)\n",
    "plt.gca().set_ylim(0, 1)\n",
    "#save_fig(\"keras_learning_curves_plot\")\n",
    "plt.show()"
   ]
  },
  {
   "cell_type": "code",
   "execution_count": 237,
   "metadata": {
    "colab": {
     "base_uri": "https://localhost:8080/"
    },
    "id": "URJiYhl33JQc",
    "outputId": "630b0e74-5cbe-461e-c70c-a2559518a33d"
   },
   "outputs": [
    {
     "name": "stdout",
     "output_type": "stream",
     "text": [
      "22/22 [==============================] - 0s 2ms/step - loss: 0.4863 - accuracy: 0.7756\n"
     ]
    },
    {
     "data": {
      "text/plain": [
       "[0.4862837791442871, 0.7755681872367859]"
      ]
     },
     "execution_count": 237,
     "metadata": {},
     "output_type": "execute_result"
    }
   ],
   "source": [
    "he_model.evaluate(Xts, yts)"
   ]
  },
  {
   "cell_type": "code",
   "execution_count": 238,
   "metadata": {
    "colab": {
     "base_uri": "https://localhost:8080/",
     "height": 324
    },
    "id": "0sNRIUi2fxc6",
    "outputId": "85060d9b-a408-4cd1-9663-a332b0f5904d"
   },
   "outputs": [
    {
     "data": {
      "image/png": "[encoded data removed]",
      "text/plain": [
       "<Figure size 576x360 with 1 Axes>"
      ]
     },
     "metadata": {
      "needs_background": "light"
     },
     "output_type": "display_data"
    }
   ],
   "source": [
    "pd.DataFrame(history3.history).plot(figsize=(8, 5))\n",
    "plt.grid(True)\n",
    "plt.gca().set_ylim(0, 1)\n",
    "#save_fig(\"keras_learning_curves_plot\")\n",
    "plt.show()"
   ]
  },
  {
   "cell_type": "code",
   "execution_count": 240,
   "metadata": {
    "colab": {
     "base_uri": "https://localhost:8080/"
    },
    "id": "FbwW_0LU3NxT",
    "outputId": "77663a86-1302-4f75-eb3e-8f36d724ab04"
   },
   "outputs": [
    {
     "name": "stdout",
     "output_type": "stream",
     "text": [
      "22/22 [==============================] - 0s 2ms/step - loss: 0.4595 - accuracy: 0.7685\n"
     ]
    },
    {
     "data": {
      "text/plain": [
       "[0.45946004986763, 0.7684659361839294]"
      ]
     },
     "execution_count": 240,
     "metadata": {},
     "output_type": "execute_result"
    }
   ],
   "source": [
    "random_normal_model.evaluate(Xts, yts)"
   ]
  },
  {
   "cell_type": "markdown",
   "metadata": {
    "id": "TahiFiLvoVTB"
   },
   "source": [
    "Karena GLorot Initializer terlihat lebih baik karena tidak overfitting jadi saya akan pakai GLorot Initializer"
   ]
  },
  {
   "cell_type": "markdown",
   "metadata": {
    "id": "hgMu_wjufotg"
   },
   "source": [
    "## Membandingkan Activation Function relu dan sigmoid"
   ]
  },
  {
   "cell_type": "code",
   "execution_count": 241,
   "metadata": {
    "id": "Rj9hXib0nKND"
   },
   "outputs": [],
   "source": [
    "keras.backend.clear_session()\n",
    "np.random.seed(42)\n",
    "tf.random.set_seed(42)"
   ]
  },
  {
   "cell_type": "code",
   "execution_count": 242,
   "metadata": {
    "id": "oG7kedjahPZI"
   },
   "outputs": [],
   "source": [
    "relu = keras.activations.relu\n",
    "sigmoid = keras.activations.sigmoid"
   ]
  },
  {
   "cell_type": "code",
   "execution_count": 243,
   "metadata": {
    "id": "QQhTIsMInZqj"
   },
   "outputs": [],
   "source": [
    "relu_model = create_layers(weight_init = initializer1, hidden_act_func=relu)\n",
    "sgm_model = create_layers(weight_init = initializer1, hidden_act_func=sigmoid)"
   ]
  },
  {
   "cell_type": "markdown",
   "metadata": {
    "id": "o6RkEnDXotjg"
   },
   "source": [
    "### COmpiling Model"
   ]
  },
  {
   "cell_type": "code",
   "execution_count": 244,
   "metadata": {
    "id": "bNZXnORvnjqz"
   },
   "outputs": [],
   "source": [
    "relu_model.compile(loss=\"sparse_categorical_crossentropy\",\n",
    "              optimizer=\"adam\",\n",
    "              metrics=[\"accuracy\"])\n",
    "sgm_model.compile(loss=\"sparse_categorical_crossentropy\",\n",
    "              optimizer=\"adam\",\n",
    "              metrics=[\"accuracy\"])"
   ]
  },
  {
   "cell_type": "markdown",
   "metadata": {
    "id": "V9fZ3RzVovh-"
   },
   "source": [
    "Model Training"
   ]
  },
  {
   "cell_type": "code",
   "execution_count": 245,
   "metadata": {
    "colab": {
     "base_uri": "https://localhost:8080/"
    },
    "id": "O_DbAD97nr4S",
    "outputId": "3c6d3870-a11d-4594-bf21-e2736ba2ffdc"
   },
   "outputs": [
    {
     "name": "stdout",
     "output_type": "stream",
     "text": [
      "Epoch 1/15\n",
      "159/159 [==============================] - 1s 3ms/step - loss: 0.5115 - accuracy: 0.7600 - val_loss: 0.4795 - val_accuracy: 0.7907\n",
      "Epoch 2/15\n",
      "159/159 [==============================] - 0s 2ms/step - loss: 0.4702 - accuracy: 0.7857 - val_loss: 0.4666 - val_accuracy: 0.7867\n",
      "Epoch 3/15\n",
      "159/159 [==============================] - 0s 2ms/step - loss: 0.4609 - accuracy: 0.7880 - val_loss: 0.4622 - val_accuracy: 0.7875\n",
      "Epoch 4/15\n",
      "159/159 [==============================] - 0s 2ms/step - loss: 0.4479 - accuracy: 0.7912 - val_loss: 0.4596 - val_accuracy: 0.7891\n",
      "Epoch 5/15\n",
      "159/159 [==============================] - 0s 2ms/step - loss: 0.4472 - accuracy: 0.7914 - val_loss: 0.4469 - val_accuracy: 0.7844\n",
      "Epoch 6/15\n",
      "159/159 [==============================] - 0s 2ms/step - loss: 0.4403 - accuracy: 0.7961 - val_loss: 0.4435 - val_accuracy: 0.7930\n",
      "Epoch 7/15\n",
      "159/159 [==============================] - 0s 2ms/step - loss: 0.4360 - accuracy: 0.7920 - val_loss: 0.4432 - val_accuracy: 0.7915\n",
      "Epoch 8/15\n",
      "159/159 [==============================] - 0s 2ms/step - loss: 0.4369 - accuracy: 0.7942 - val_loss: 0.4660 - val_accuracy: 0.7930\n",
      "Epoch 9/15\n",
      "159/159 [==============================] - 0s 2ms/step - loss: 0.4357 - accuracy: 0.7940 - val_loss: 0.4590 - val_accuracy: 0.7883\n",
      "Epoch 10/15\n",
      "159/159 [==============================] - 0s 2ms/step - loss: 0.4340 - accuracy: 0.7938 - val_loss: 0.4400 - val_accuracy: 0.7867\n",
      "Epoch 11/15\n",
      "159/159 [==============================] - 0s 2ms/step - loss: 0.4339 - accuracy: 0.7945 - val_loss: 0.4397 - val_accuracy: 0.7883\n",
      "Epoch 12/15\n",
      "159/159 [==============================] - 0s 2ms/step - loss: 0.4367 - accuracy: 0.7924 - val_loss: 0.4388 - val_accuracy: 0.7899\n",
      "Epoch 13/15\n",
      "159/159 [==============================] - 0s 2ms/step - loss: 0.4321 - accuracy: 0.8007 - val_loss: 0.4412 - val_accuracy: 0.7915\n",
      "Epoch 14/15\n",
      "159/159 [==============================] - 0s 2ms/step - loss: 0.4317 - accuracy: 0.7940 - val_loss: 0.4385 - val_accuracy: 0.7836\n",
      "Epoch 15/15\n",
      "159/159 [==============================] - 0s 2ms/step - loss: 0.4341 - accuracy: 0.7961 - val_loss: 0.4395 - val_accuracy: 0.7938\n"
     ]
    }
   ],
   "source": [
    "hist1 = relu_model.fit(Xtr, ytr, epochs=15, validation_data=(Xva, yva))"
   ]
  },
  {
   "cell_type": "code",
   "execution_count": 246,
   "metadata": {
    "colab": {
     "base_uri": "https://localhost:8080/"
    },
    "id": "M327DfM6nxb9",
    "outputId": "04c49439-60e1-4d74-f125-d7ace2273ef0"
   },
   "outputs": [
    {
     "name": "stdout",
     "output_type": "stream",
     "text": [
      "Epoch 1/15\n",
      "159/159 [==============================] - 1s 3ms/step - loss: 0.5995 - accuracy: 0.7234 - val_loss: 0.5728 - val_accuracy: 0.7243\n",
      "Epoch 2/15\n",
      "159/159 [==============================] - 0s 2ms/step - loss: 0.5504 - accuracy: 0.7379 - val_loss: 0.5478 - val_accuracy: 0.7243\n",
      "Epoch 3/15\n",
      "159/159 [==============================] - 0s 2ms/step - loss: 0.5225 - accuracy: 0.7379 - val_loss: 0.5144 - val_accuracy: 0.7243\n",
      "Epoch 4/15\n",
      "159/159 [==============================] - 0s 2ms/step - loss: 0.4943 - accuracy: 0.7379 - val_loss: 0.4903 - val_accuracy: 0.7243\n",
      "Epoch 5/15\n",
      "159/159 [==============================] - 0s 2ms/step - loss: 0.4730 - accuracy: 0.7699 - val_loss: 0.4687 - val_accuracy: 0.7828\n",
      "Epoch 6/15\n",
      "159/159 [==============================] - 0s 2ms/step - loss: 0.4573 - accuracy: 0.7942 - val_loss: 0.4580 - val_accuracy: 0.7875\n",
      "Epoch 7/15\n",
      "159/159 [==============================] - 0s 2ms/step - loss: 0.4471 - accuracy: 0.7926 - val_loss: 0.4524 - val_accuracy: 0.7930\n",
      "Epoch 8/15\n",
      "159/159 [==============================] - 0s 2ms/step - loss: 0.4405 - accuracy: 0.7961 - val_loss: 0.4516 - val_accuracy: 0.7915\n",
      "Epoch 9/15\n",
      "159/159 [==============================] - 0s 2ms/step - loss: 0.4362 - accuracy: 0.7965 - val_loss: 0.4478 - val_accuracy: 0.7923\n",
      "Epoch 10/15\n",
      "159/159 [==============================] - 0s 2ms/step - loss: 0.4341 - accuracy: 0.7991 - val_loss: 0.4441 - val_accuracy: 0.7962\n",
      "Epoch 11/15\n",
      "159/159 [==============================] - 0s 2ms/step - loss: 0.4314 - accuracy: 0.7999 - val_loss: 0.4443 - val_accuracy: 0.7946\n",
      "Epoch 12/15\n",
      "159/159 [==============================] - 0s 2ms/step - loss: 0.4300 - accuracy: 0.7995 - val_loss: 0.4462 - val_accuracy: 0.7946\n",
      "Epoch 13/15\n",
      "159/159 [==============================] - 0s 2ms/step - loss: 0.4285 - accuracy: 0.8005 - val_loss: 0.4427 - val_accuracy: 0.7907\n",
      "Epoch 14/15\n",
      "159/159 [==============================] - 0s 2ms/step - loss: 0.4278 - accuracy: 0.7977 - val_loss: 0.4418 - val_accuracy: 0.7915\n",
      "Epoch 15/15\n",
      "159/159 [==============================] - 0s 2ms/step - loss: 0.4268 - accuracy: 0.7969 - val_loss: 0.4465 - val_accuracy: 0.7930\n"
     ]
    }
   ],
   "source": [
    "hist2 = sgm_model.fit(Xtr, ytr, epochs=15, validation_data=(Xva, yva))"
   ]
  },
  {
   "cell_type": "markdown",
   "metadata": {
    "id": "cGYl3WhaoxH9"
   },
   "source": [
    "### Model Evaluation"
   ]
  },
  {
   "cell_type": "code",
   "execution_count": 247,
   "metadata": {
    "colab": {
     "base_uri": "https://localhost:8080/",
     "height": 324
    },
    "id": "WwWmifp6oVcR",
    "outputId": "26f73109-710f-4a37-b34e-0c523134cb81"
   },
   "outputs": [
    {
     "data": {
      "image/png": "[encoded data removed]",
      "text/plain": [
       "<Figure size 576x360 with 1 Axes>"
      ]
     },
     "metadata": {
      "needs_background": "light"
     },
     "output_type": "display_data"
    }
   ],
   "source": [
    "pd.DataFrame(hist1.history).plot(figsize=(8, 5))\n",
    "plt.grid(True)\n",
    "plt.gca().set_ylim(0, 1)\n",
    "#save_fig(\"keras_learning_curves_plot\")\n",
    "plt.show()"
   ]
  },
  {
   "cell_type": "code",
   "execution_count": 248,
   "metadata": {
    "colab": {
     "base_uri": "https://localhost:8080/"
    },
    "id": "tzXnAA783oO6",
    "outputId": "7e0e6a87-e64b-4d84-ed84-a8699bb99f4f"
   },
   "outputs": [
    {
     "name": "stdout",
     "output_type": "stream",
     "text": [
      "22/22 [==============================] - 0s 2ms/step - loss: 0.4557 - accuracy: 0.7685\n"
     ]
    },
    {
     "data": {
      "text/plain": [
       "[0.455716609954834, 0.7684659361839294]"
      ]
     },
     "execution_count": 248,
     "metadata": {},
     "output_type": "execute_result"
    }
   ],
   "source": [
    "relu_model.evaluate(Xts,yts)"
   ]
  },
  {
   "cell_type": "code",
   "execution_count": 249,
   "metadata": {
    "colab": {
     "base_uri": "https://localhost:8080/",
     "height": 324
    },
    "id": "3GsZRlqhoVfH",
    "outputId": "07052e72-af05-4bd0-f9f9-88cbea2bf8d5"
   },
   "outputs": [
    {
     "data": {
      "image/png": "[encoded data removed]",
      "text/plain": [
       "<Figure size 576x360 with 1 Axes>"
      ]
     },
     "metadata": {
      "needs_background": "light"
     },
     "output_type": "display_data"
    }
   ],
   "source": [
    "pd.DataFrame(hist2.history).plot(figsize=(8, 5))\n",
    "plt.grid(True)\n",
    "plt.gca().set_ylim(0, 1)\n",
    "#save_fig(\"keras_learning_curves_plot\")\n",
    "plt.show()"
   ]
  },
  {
   "cell_type": "code",
   "execution_count": 252,
   "metadata": {
    "colab": {
     "base_uri": "https://localhost:8080/"
    },
    "id": "Jr5zxfBp3uiT",
    "outputId": "de7f3280-69d0-4cef-b76a-2f3cdc2b6fd5"
   },
   "outputs": [
    {
     "name": "stdout",
     "output_type": "stream",
     "text": [
      "22/22 [==============================] - 0s 2ms/step - loss: 0.4612 - accuracy: 0.7784\n"
     ]
    },
    {
     "data": {
      "text/plain": [
       "[0.46121034026145935, 0.7784090638160706]"
      ]
     },
     "execution_count": 252,
     "metadata": {},
     "output_type": "execute_result"
    }
   ],
   "source": [
    "sgm_model.evaluate(Xts,yts)"
   ]
  },
  {
   "cell_type": "markdown",
   "metadata": {
    "id": "Fvsnho6eo_Vk"
   },
   "source": [
    "Karena sigmoid lebih terlihat tidak overfitting maka saya akan pakai sigmoid."
   ]
  },
  {
   "cell_type": "markdown",
   "metadata": {
    "id": "jQtCGGcEpGda"
   },
   "source": [
    "## Membandingkan optimizer adam dan sgd dengan cara hyperparameter tuning"
   ]
  },
  {
   "cell_type": "code",
   "execution_count": null,
   "metadata": {
    "id": "FRTs0wfMzIeA"
   },
   "outputs": [],
   "source": [
    "keras.backend.clear_session()\n",
    "np.random.seed(42)\n",
    "tf.random.set_seed(42)"
   ]
  },
  {
   "cell_type": "code",
   "execution_count": 253,
   "metadata": {
    "id": "2YF9bUOaXVuw"
   },
   "outputs": [],
   "source": [
    "def clayers(optimizer='adam'):\n",
    "  model = keras.models.Sequential()\n",
    "  model.add(keras.layers.Dense(10,input_dim=14,kernel_initializer=tf.keras.initializers.GlorotNormal(), activation='relu'))\n",
    "  model.add(keras.layers.Dense(10,kernel_initializer=tf.keras.initializers.GlorotNormal(), activation='relu'))\n",
    "  model.add(keras.layers.Dense(5,kernel_initializer=tf.keras.initializers.GlorotNormal(), activation='relu'))\n",
    "    # Output layer\n",
    "  model.add(keras.layers.Dense(2, activation=\"softmax\"))\n",
    "  \n",
    "  model.compile(loss=\"sparse_categorical_crossentropy\", optimizer=optimizer, metrics=[\"accuracy\"])\n",
    "  return model\n",
    "\n",
    "  return model"
   ]
  },
  {
   "cell_type": "code",
   "execution_count": 254,
   "metadata": {
    "id": "ptbNBarJRiCn"
   },
   "outputs": [],
   "source": [
    "kerc=keras.wrappers.scikit_learn.KerasClassifier(build_fn=clayers)"
   ]
  },
  {
   "cell_type": "code",
   "execution_count": 255,
   "metadata": {
    "id": "Jt2GGPruOSPe"
   },
   "outputs": [],
   "source": [
    "pipe=Pipeline([('preprocess', StandardScaler())])"
   ]
  },
  {
   "cell_type": "code",
   "execution_count": 256,
   "metadata": {
    "id": "GaqjE95zj2vR"
   },
   "outputs": [],
   "source": [
    "#from scipy.stats import reciprocal\n",
    "param_distribs = {\n",
    "    \"optimizer\": ['adam', 'sgd']\n",
    "}"
   ]
  },
  {
   "cell_type": "code",
   "execution_count": 257,
   "metadata": {
    "colab": {
     "base_uri": "https://localhost:8080/"
    },
    "id": "RN6HIl_ys_MT",
    "outputId": "a446fd01-d7e9-4c43-9a8e-39f8afb8c58b"
   },
   "outputs": [
    {
     "name": "stderr",
     "output_type": "stream",
     "text": [
      "/usr/local/lib/python3.7/dist-packages/sklearn/model_selection/_search.py:281: UserWarning: The total space of parameters 2 is smaller than n_iter=5. Running 2 iterations. For exhaustive searches, use GridSearchCV.\n",
      "  % (grid_size, self.n_iter, grid_size), UserWarning)\n",
      "[Parallel(n_jobs=1)]: Using backend SequentialBackend with 1 concurrent workers.\n"
     ]
    },
    {
     "name": "stdout",
     "output_type": "stream",
     "text": [
      "Fitting 3 folds for each of 2 candidates, totalling 6 fits\n",
      "[CV] optimizer=adam ..................................................\n",
      "Epoch 1/15\n",
      "106/106 [==============================] - 1s 3ms/step - loss: 0.5727 - accuracy: 0.7270 - val_loss: 0.5113 - val_accuracy: 0.7227\n",
      "Epoch 2/15\n",
      "106/106 [==============================] - 0s 2ms/step - loss: 0.4922 - accuracy: 0.7416 - val_loss: 0.4747 - val_accuracy: 0.7551\n",
      "Epoch 3/15\n",
      "106/106 [==============================] - 0s 2ms/step - loss: 0.4681 - accuracy: 0.7573 - val_loss: 0.4663 - val_accuracy: 0.7615\n",
      "Epoch 4/15\n",
      "106/106 [==============================] - 0s 2ms/step - loss: 0.4602 - accuracy: 0.7573 - val_loss: 0.4634 - val_accuracy: 0.7567\n",
      "Epoch 5/15\n",
      "106/106 [==============================] - 0s 2ms/step - loss: 0.4542 - accuracy: 0.7635 - val_loss: 0.4604 - val_accuracy: 0.7804\n",
      "Epoch 6/15\n",
      "106/106 [==============================] - 0s 2ms/step - loss: 0.4507 - accuracy: 0.7739 - val_loss: 0.4590 - val_accuracy: 0.7844\n",
      "Epoch 7/15\n",
      "106/106 [==============================] - 0s 2ms/step - loss: 0.4487 - accuracy: 0.7739 - val_loss: 0.4578 - val_accuracy: 0.7844\n",
      "Epoch 8/15\n",
      "106/106 [==============================] - 0s 2ms/step - loss: 0.4462 - accuracy: 0.7756 - val_loss: 0.4578 - val_accuracy: 0.7788\n",
      "Epoch 9/15\n",
      "106/106 [==============================] - 0s 2ms/step - loss: 0.4460 - accuracy: 0.7742 - val_loss: 0.4558 - val_accuracy: 0.7788\n",
      "Epoch 10/15\n",
      "106/106 [==============================] - 0s 2ms/step - loss: 0.4432 - accuracy: 0.7795 - val_loss: 0.4545 - val_accuracy: 0.7780\n",
      "Epoch 11/15\n",
      "106/106 [==============================] - 0s 2ms/step - loss: 0.4424 - accuracy: 0.7798 - val_loss: 0.4544 - val_accuracy: 0.7780\n",
      "Epoch 12/15\n",
      "106/106 [==============================] - 0s 2ms/step - loss: 0.4416 - accuracy: 0.7830 - val_loss: 0.4540 - val_accuracy: 0.7812\n",
      "Epoch 13/15\n",
      "106/106 [==============================] - 0s 2ms/step - loss: 0.4400 - accuracy: 0.7813 - val_loss: 0.4534 - val_accuracy: 0.7836\n",
      "Epoch 14/15\n",
      "106/106 [==============================] - 0s 2ms/step - loss: 0.4388 - accuracy: 0.7830 - val_loss: 0.4519 - val_accuracy: 0.7812\n",
      "Epoch 15/15\n",
      "106/106 [==============================] - 0s 2ms/step - loss: 0.4383 - accuracy: 0.7828 - val_loss: 0.4507 - val_accuracy: 0.7859\n",
      "53/53 [==============================] - 0s 1ms/step - loss: 0.4218 - accuracy: 0.7944\n",
      "[CV] ................................... optimizer=adam, total=   4.4s\n",
      "[CV] optimizer=adam ..................................................\n",
      "Epoch 1/15\n"
     ]
    },
    {
     "name": "stderr",
     "output_type": "stream",
     "text": [
      "[Parallel(n_jobs=1)]: Done   1 out of   1 | elapsed:    4.4s remaining:    0.0s\n"
     ]
    },
    {
     "name": "stdout",
     "output_type": "stream",
     "text": [
      "106/106 [==============================] - 1s 3ms/step - loss: 0.5605 - accuracy: 0.7461 - val_loss: 0.5046 - val_accuracy: 0.7449\n",
      "Epoch 2/15\n",
      "106/106 [==============================] - 0s 2ms/step - loss: 0.4646 - accuracy: 0.7644 - val_loss: 0.4749 - val_accuracy: 0.7686\n",
      "Epoch 3/15\n",
      "106/106 [==============================] - 0s 2ms/step - loss: 0.4399 - accuracy: 0.7926 - val_loss: 0.4675 - val_accuracy: 0.7686\n",
      "Epoch 4/15\n",
      "106/106 [==============================] - 0s 2ms/step - loss: 0.4327 - accuracy: 0.7926 - val_loss: 0.4617 - val_accuracy: 0.7788\n",
      "Epoch 5/15\n",
      "106/106 [==============================] - 0s 2ms/step - loss: 0.4283 - accuracy: 0.7961 - val_loss: 0.4575 - val_accuracy: 0.7773\n",
      "Epoch 6/15\n",
      "106/106 [==============================] - 0s 2ms/step - loss: 0.4245 - accuracy: 0.7985 - val_loss: 0.4555 - val_accuracy: 0.7765\n",
      "Epoch 7/15\n",
      "106/106 [==============================] - 0s 2ms/step - loss: 0.4225 - accuracy: 0.7973 - val_loss: 0.4534 - val_accuracy: 0.7780\n",
      "Epoch 8/15\n",
      "106/106 [==============================] - 0s 2ms/step - loss: 0.4198 - accuracy: 0.8009 - val_loss: 0.4566 - val_accuracy: 0.7875\n",
      "Epoch 9/15\n",
      "106/106 [==============================] - 0s 2ms/step - loss: 0.4187 - accuracy: 0.8003 - val_loss: 0.4509 - val_accuracy: 0.7796\n",
      "Epoch 10/15\n",
      "106/106 [==============================] - 0s 2ms/step - loss: 0.4176 - accuracy: 0.8027 - val_loss: 0.4492 - val_accuracy: 0.7844\n",
      "Epoch 11/15\n",
      "106/106 [==============================] - 0s 2ms/step - loss: 0.4158 - accuracy: 0.8036 - val_loss: 0.4474 - val_accuracy: 0.7875\n",
      "Epoch 12/15\n",
      "106/106 [==============================] - 0s 2ms/step - loss: 0.4146 - accuracy: 0.8065 - val_loss: 0.4496 - val_accuracy: 0.7899\n",
      "Epoch 13/15\n",
      "106/106 [==============================] - 0s 2ms/step - loss: 0.4129 - accuracy: 0.8062 - val_loss: 0.4472 - val_accuracy: 0.7899\n",
      "Epoch 14/15\n",
      "106/106 [==============================] - 0s 2ms/step - loss: 0.4122 - accuracy: 0.8080 - val_loss: 0.4445 - val_accuracy: 0.7907\n",
      "Epoch 15/15\n",
      "106/106 [==============================] - 0s 2ms/step - loss: 0.4112 - accuracy: 0.8083 - val_loss: 0.4456 - val_accuracy: 0.7938\n",
      "53/53 [==============================] - 0s 1ms/step - loss: 0.4548 - accuracy: 0.7807\n",
      "[CV] ................................... optimizer=adam, total=   4.3s\n",
      "[CV] optimizer=adam ..................................................\n",
      "Epoch 1/15\n",
      "106/106 [==============================] - 1s 4ms/step - loss: 0.5588 - accuracy: 0.7452 - val_loss: 0.5265 - val_accuracy: 0.7243\n",
      "Epoch 2/15\n",
      "106/106 [==============================] - 0s 2ms/step - loss: 0.4807 - accuracy: 0.7508 - val_loss: 0.4765 - val_accuracy: 0.7599\n",
      "Epoch 3/15\n",
      "106/106 [==============================] - 0s 2ms/step - loss: 0.4483 - accuracy: 0.7828 - val_loss: 0.4599 - val_accuracy: 0.7717\n",
      "Epoch 4/15\n",
      "106/106 [==============================] - 0s 2ms/step - loss: 0.4373 - accuracy: 0.7902 - val_loss: 0.4544 - val_accuracy: 0.7796\n",
      "Epoch 5/15\n",
      "106/106 [==============================] - 0s 2ms/step - loss: 0.4307 - accuracy: 0.7950 - val_loss: 0.4497 - val_accuracy: 0.7773\n",
      "Epoch 6/15\n",
      "106/106 [==============================] - 0s 2ms/step - loss: 0.4265 - accuracy: 0.7967 - val_loss: 0.4451 - val_accuracy: 0.7828\n",
      "Epoch 7/15\n",
      "106/106 [==============================] - 0s 2ms/step - loss: 0.4249 - accuracy: 0.7944 - val_loss: 0.4445 - val_accuracy: 0.7859\n",
      "Epoch 8/15\n",
      "106/106 [==============================] - 0s 2ms/step - loss: 0.4215 - accuracy: 0.7964 - val_loss: 0.4430 - val_accuracy: 0.7859\n",
      "Epoch 9/15\n",
      "106/106 [==============================] - 0s 2ms/step - loss: 0.4195 - accuracy: 0.7967 - val_loss: 0.4406 - val_accuracy: 0.7867\n",
      "Epoch 10/15\n",
      "106/106 [==============================] - 0s 2ms/step - loss: 0.4190 - accuracy: 0.7979 - val_loss: 0.4427 - val_accuracy: 0.7852\n",
      "Epoch 11/15\n",
      "106/106 [==============================] - 0s 2ms/step - loss: 0.4167 - accuracy: 0.7985 - val_loss: 0.4387 - val_accuracy: 0.7875\n",
      "Epoch 12/15\n",
      "106/106 [==============================] - 0s 2ms/step - loss: 0.4157 - accuracy: 0.7979 - val_loss: 0.4451 - val_accuracy: 0.7836\n",
      "Epoch 13/15\n",
      "106/106 [==============================] - 0s 2ms/step - loss: 0.4144 - accuracy: 0.8000 - val_loss: 0.4409 - val_accuracy: 0.7875\n",
      "Epoch 14/15\n",
      "106/106 [==============================] - 0s 3ms/step - loss: 0.4128 - accuracy: 0.8033 - val_loss: 0.4403 - val_accuracy: 0.7867\n",
      "Epoch 15/15\n",
      "106/106 [==============================] - 0s 2ms/step - loss: 0.4112 - accuracy: 0.8056 - val_loss: 0.4423 - val_accuracy: 0.7875\n",
      "53/53 [==============================] - 0s 1ms/step - loss: 0.4552 - accuracy: 0.7819\n",
      "[CV] ................................... optimizer=adam, total=   4.2s\n",
      "[CV] optimizer=sgd ...................................................\n",
      "Epoch 1/15\n",
      "106/106 [==============================] - 1s 3ms/step - loss: 0.6533 - accuracy: 0.6755 - val_loss: 0.6089 - val_accuracy: 0.7204\n",
      "Epoch 2/15\n",
      "106/106 [==============================] - 0s 2ms/step - loss: 0.5893 - accuracy: 0.7288 - val_loss: 0.5647 - val_accuracy: 0.7235\n",
      "Epoch 3/15\n",
      "106/106 [==============================] - 0s 2ms/step - loss: 0.5533 - accuracy: 0.7344 - val_loss: 0.5330 - val_accuracy: 0.7480\n",
      "Epoch 4/15\n",
      "106/106 [==============================] - 0s 2ms/step - loss: 0.5296 - accuracy: 0.7484 - val_loss: 0.5132 - val_accuracy: 0.7583\n",
      "Epoch 5/15\n",
      "106/106 [==============================] - 0s 2ms/step - loss: 0.5146 - accuracy: 0.7513 - val_loss: 0.4999 - val_accuracy: 0.7591\n",
      "Epoch 6/15\n",
      "106/106 [==============================] - 0s 2ms/step - loss: 0.5041 - accuracy: 0.7531 - val_loss: 0.4901 - val_accuracy: 0.7638\n",
      "Epoch 7/15\n",
      "106/106 [==============================] - 0s 2ms/step - loss: 0.4958 - accuracy: 0.7590 - val_loss: 0.4823 - val_accuracy: 0.7678\n",
      "Epoch 8/15\n",
      "106/106 [==============================] - 0s 2ms/step - loss: 0.4894 - accuracy: 0.7623 - val_loss: 0.4763 - val_accuracy: 0.7725\n",
      "Epoch 9/15\n",
      "106/106 [==============================] - 0s 2ms/step - loss: 0.4839 - accuracy: 0.7703 - val_loss: 0.4713 - val_accuracy: 0.7765\n",
      "Epoch 10/15\n",
      "106/106 [==============================] - 0s 2ms/step - loss: 0.4795 - accuracy: 0.7712 - val_loss: 0.4670 - val_accuracy: 0.7765\n",
      "Epoch 11/15\n",
      "106/106 [==============================] - 0s 2ms/step - loss: 0.4756 - accuracy: 0.7742 - val_loss: 0.4638 - val_accuracy: 0.7788\n",
      "Epoch 12/15\n",
      "106/106 [==============================] - 0s 2ms/step - loss: 0.4724 - accuracy: 0.7750 - val_loss: 0.4607 - val_accuracy: 0.7773\n",
      "Epoch 13/15\n",
      "106/106 [==============================] - 0s 2ms/step - loss: 0.4693 - accuracy: 0.7783 - val_loss: 0.4585 - val_accuracy: 0.7773\n",
      "Epoch 14/15\n",
      "106/106 [==============================] - 0s 2ms/step - loss: 0.4668 - accuracy: 0.7807 - val_loss: 0.4562 - val_accuracy: 0.7796\n",
      "Epoch 15/15\n",
      "106/106 [==============================] - 0s 2ms/step - loss: 0.4644 - accuracy: 0.7801 - val_loss: 0.4542 - val_accuracy: 0.7820\n",
      "53/53 [==============================] - 0s 1ms/step - loss: 0.4143 - accuracy: 0.8122\n",
      "[CV] .................................... optimizer=sgd, total=   3.7s\n",
      "[CV] optimizer=sgd ...................................................\n",
      "Epoch 1/15\n",
      "106/106 [==============================] - 1s 3ms/step - loss: 0.6632 - accuracy: 0.6187 - val_loss: 0.5906 - val_accuracy: 0.7235\n",
      "Epoch 2/15\n",
      "106/106 [==============================] - 0s 2ms/step - loss: 0.5581 - accuracy: 0.7461 - val_loss: 0.5624 - val_accuracy: 0.7251\n",
      "Epoch 3/15\n",
      "106/106 [==============================] - 0s 2ms/step - loss: 0.5325 - accuracy: 0.7493 - val_loss: 0.5447 - val_accuracy: 0.7299\n",
      "Epoch 4/15\n",
      "106/106 [==============================] - 0s 2ms/step - loss: 0.5123 - accuracy: 0.7544 - val_loss: 0.5279 - val_accuracy: 0.7417\n",
      "Epoch 5/15\n",
      "106/106 [==============================] - 0s 2ms/step - loss: 0.4933 - accuracy: 0.7665 - val_loss: 0.5114 - val_accuracy: 0.7567\n",
      "Epoch 6/15\n",
      "106/106 [==============================] - 0s 2ms/step - loss: 0.4772 - accuracy: 0.7739 - val_loss: 0.4984 - val_accuracy: 0.7654\n",
      "Epoch 7/15\n",
      "106/106 [==============================] - 0s 2ms/step - loss: 0.4641 - accuracy: 0.7804 - val_loss: 0.4893 - val_accuracy: 0.7670\n",
      "Epoch 8/15\n",
      "106/106 [==============================] - 0s 2ms/step - loss: 0.4541 - accuracy: 0.7852 - val_loss: 0.4823 - val_accuracy: 0.7662\n",
      "Epoch 9/15\n",
      "106/106 [==============================] - 0s 2ms/step - loss: 0.4465 - accuracy: 0.7917 - val_loss: 0.4750 - val_accuracy: 0.7725\n",
      "Epoch 10/15\n",
      "106/106 [==============================] - 0s 2ms/step - loss: 0.4406 - accuracy: 0.7956 - val_loss: 0.4730 - val_accuracy: 0.7725\n",
      "Epoch 11/15\n",
      "106/106 [==============================] - 0s 2ms/step - loss: 0.4368 - accuracy: 0.7920 - val_loss: 0.4692 - val_accuracy: 0.7741\n",
      "Epoch 12/15\n",
      "106/106 [==============================] - 0s 2ms/step - loss: 0.4336 - accuracy: 0.7956 - val_loss: 0.4683 - val_accuracy: 0.7725\n",
      "Epoch 13/15\n",
      "106/106 [==============================] - 0s 2ms/step - loss: 0.4313 - accuracy: 0.7970 - val_loss: 0.4655 - val_accuracy: 0.7749\n",
      "Epoch 14/15\n",
      "106/106 [==============================] - 0s 2ms/step - loss: 0.4295 - accuracy: 0.7979 - val_loss: 0.4641 - val_accuracy: 0.7812\n",
      "Epoch 15/15\n",
      "106/106 [==============================] - 0s 2ms/step - loss: 0.4278 - accuracy: 0.7976 - val_loss: 0.4642 - val_accuracy: 0.7757\n",
      "53/53 [==============================] - 0s 1ms/step - loss: 0.4643 - accuracy: 0.7736\n",
      "[CV] .................................... optimizer=sgd, total=   3.9s\n",
      "[CV] optimizer=sgd ...................................................\n",
      "Epoch 1/15\n",
      "106/106 [==============================] - 1s 3ms/step - loss: 0.5624 - accuracy: 0.7167 - val_loss: 0.5495 - val_accuracy: 0.7243\n",
      "Epoch 2/15\n",
      "106/106 [==============================] - 0s 2ms/step - loss: 0.5160 - accuracy: 0.7390 - val_loss: 0.5238 - val_accuracy: 0.7291\n",
      "Epoch 3/15\n",
      "106/106 [==============================] - 0s 2ms/step - loss: 0.4968 - accuracy: 0.7431 - val_loss: 0.5093 - val_accuracy: 0.7346\n",
      "Epoch 4/15\n",
      "106/106 [==============================] - 0s 2ms/step - loss: 0.4848 - accuracy: 0.7487 - val_loss: 0.5010 - val_accuracy: 0.7299\n",
      "Epoch 5/15\n",
      "106/106 [==============================] - 0s 2ms/step - loss: 0.4769 - accuracy: 0.7511 - val_loss: 0.4939 - val_accuracy: 0.7370\n",
      "Epoch 6/15\n",
      "106/106 [==============================] - 0s 2ms/step - loss: 0.4706 - accuracy: 0.7609 - val_loss: 0.4885 - val_accuracy: 0.7504\n",
      "Epoch 7/15\n",
      "106/106 [==============================] - 0s 2ms/step - loss: 0.4656 - accuracy: 0.7680 - val_loss: 0.4846 - val_accuracy: 0.7607\n",
      "Epoch 8/15\n",
      "106/106 [==============================] - 0s 2ms/step - loss: 0.4608 - accuracy: 0.7739 - val_loss: 0.4818 - val_accuracy: 0.7630\n",
      "Epoch 9/15\n",
      "106/106 [==============================] - 0s 2ms/step - loss: 0.4569 - accuracy: 0.7781 - val_loss: 0.4783 - val_accuracy: 0.7630\n",
      "Epoch 10/15\n",
      "106/106 [==============================] - 0s 2ms/step - loss: 0.4540 - accuracy: 0.7796 - val_loss: 0.4760 - val_accuracy: 0.7646\n",
      "Epoch 11/15\n",
      "106/106 [==============================] - 0s 2ms/step - loss: 0.4510 - accuracy: 0.7790 - val_loss: 0.4734 - val_accuracy: 0.7622\n",
      "Epoch 12/15\n",
      "106/106 [==============================] - 0s 2ms/step - loss: 0.4486 - accuracy: 0.7828 - val_loss: 0.4720 - val_accuracy: 0.7615\n",
      "Epoch 13/15\n",
      "106/106 [==============================] - 0s 2ms/step - loss: 0.4464 - accuracy: 0.7825 - val_loss: 0.4702 - val_accuracy: 0.7630\n",
      "Epoch 14/15\n",
      "106/106 [==============================] - 0s 2ms/step - loss: 0.4444 - accuracy: 0.7834 - val_loss: 0.4686 - val_accuracy: 0.7615\n",
      "Epoch 15/15\n",
      "106/106 [==============================] - 0s 2ms/step - loss: 0.4422 - accuracy: 0.7876 - val_loss: 0.4673 - val_accuracy: 0.7607\n",
      "53/53 [==============================] - 0s 1ms/step - loss: 0.4576 - accuracy: 0.7682\n",
      "[CV] .................................... optimizer=sgd, total=   5.7s\n",
      "Epoch 1/15\n"
     ]
    },
    {
     "name": "stderr",
     "output_type": "stream",
     "text": [
      "[Parallel(n_jobs=1)]: Done   6 out of   6 | elapsed:   26.2s finished\n"
     ]
    },
    {
     "name": "stdout",
     "output_type": "stream",
     "text": [
      "159/159 [==============================] - 1s 3ms/step - loss: 0.6775 - accuracy: 0.6282 - val_loss: 0.6379 - val_accuracy: 0.7275\n",
      "Epoch 2/15\n",
      "159/159 [==============================] - 0s 2ms/step - loss: 0.5310 - accuracy: 0.7418 - val_loss: 0.4854 - val_accuracy: 0.7393\n",
      "Epoch 3/15\n",
      "159/159 [==============================] - 0s 2ms/step - loss: 0.4542 - accuracy: 0.7819 - val_loss: 0.4645 - val_accuracy: 0.7804\n",
      "Epoch 4/15\n",
      "159/159 [==============================] - 0s 2ms/step - loss: 0.4418 - accuracy: 0.7914 - val_loss: 0.4599 - val_accuracy: 0.7804\n",
      "Epoch 5/15\n",
      "159/159 [==============================] - 0s 2ms/step - loss: 0.4363 - accuracy: 0.7912 - val_loss: 0.4506 - val_accuracy: 0.7844\n",
      "Epoch 6/15\n",
      "159/159 [==============================] - 0s 2ms/step - loss: 0.4330 - accuracy: 0.7938 - val_loss: 0.4495 - val_accuracy: 0.7820\n",
      "Epoch 7/15\n",
      "159/159 [==============================] - 0s 2ms/step - loss: 0.4302 - accuracy: 0.7959 - val_loss: 0.4457 - val_accuracy: 0.7859\n",
      "Epoch 8/15\n",
      "159/159 [==============================] - 0s 2ms/step - loss: 0.4288 - accuracy: 0.7961 - val_loss: 0.4462 - val_accuracy: 0.7852\n",
      "Epoch 9/15\n",
      "159/159 [==============================] - 0s 2ms/step - loss: 0.4273 - accuracy: 0.7963 - val_loss: 0.4444 - val_accuracy: 0.7852\n",
      "Epoch 10/15\n",
      "159/159 [==============================] - 0s 2ms/step - loss: 0.4262 - accuracy: 0.7975 - val_loss: 0.4445 - val_accuracy: 0.7907\n",
      "Epoch 11/15\n",
      "159/159 [==============================] - 0s 2ms/step - loss: 0.4250 - accuracy: 0.7965 - val_loss: 0.4449 - val_accuracy: 0.7899\n",
      "Epoch 12/15\n",
      "159/159 [==============================] - 0s 2ms/step - loss: 0.4237 - accuracy: 0.8003 - val_loss: 0.4467 - val_accuracy: 0.7891\n",
      "Epoch 13/15\n",
      "159/159 [==============================] - 0s 2ms/step - loss: 0.4221 - accuracy: 0.7999 - val_loss: 0.4454 - val_accuracy: 0.7915\n",
      "Epoch 14/15\n",
      "159/159 [==============================] - 0s 2ms/step - loss: 0.4220 - accuracy: 0.8005 - val_loss: 0.4451 - val_accuracy: 0.7907\n",
      "Epoch 15/15\n",
      "159/159 [==============================] - 0s 2ms/step - loss: 0.4207 - accuracy: 0.8017 - val_loss: 0.4477 - val_accuracy: 0.7891\n"
     ]
    },
    {
     "data": {
      "text/plain": [
       "RandomizedSearchCV(cv=3, error_score=nan,\n",
       "                   estimator=<keras.wrappers.scikit_learn.KerasClassifier object at 0x7f215caa0e50>,\n",
       "                   iid='deprecated', n_iter=5, n_jobs=None,\n",
       "                   param_distributions={'optimizer': ['adam', 'sgd']},\n",
       "                   pre_dispatch='2*n_jobs', random_state=None, refit=True,\n",
       "                   return_train_score=False, scoring=None, verbose=2)"
      ]
     },
     "execution_count": 257,
     "metadata": {},
     "output_type": "execute_result"
    }
   ],
   "source": [
    "from sklearn.model_selection import RandomizedSearchCV\n",
    "rnd_search_cv = RandomizedSearchCV(kerc, param_distribs, n_iter=5, cv=3, verbose=2)\n",
    "rnd_search_cv.fit(pipe.fit_transform(Xtr), ytr, epochs=15, validation_data=(pipe.transform(Xva), yva))"
   ]
  },
  {
   "cell_type": "code",
   "execution_count": 258,
   "metadata": {
    "colab": {
     "base_uri": "https://localhost:8080/"
    },
    "id": "Uqk7Ew94wTT4",
    "outputId": "b3685139-0eb4-4d3d-e1a4-4622f31706ff"
   },
   "outputs": [
    {
     "data": {
      "text/plain": [
       "{'optimizer': 'adam'}"
      ]
     },
     "execution_count": 258,
     "metadata": {},
     "output_type": "execute_result"
    }
   ],
   "source": [
    "rnd_search_cv.best_params_"
   ]
  },
  {
   "cell_type": "code",
   "execution_count": 309,
   "metadata": {
    "id": "-t5HCkGUp8t-"
   },
   "outputs": [],
   "source": [
    "keras.backend.clear_session()\n",
    "np.random.seed(42)\n",
    "tf.random.set_seed(42)"
   ]
  },
  {
   "cell_type": "code",
   "execution_count": 260,
   "metadata": {
    "id": "Gx9be1ku5Jrg"
   },
   "outputs": [],
   "source": [
    "best_par = rnd_search_cv.best_params_\n",
    "best=clayers(**best_par)"
   ]
  },
  {
   "cell_type": "code",
   "execution_count": 310,
   "metadata": {
    "colab": {
     "base_uri": "https://localhost:8080/"
    },
    "id": "yopKnG7C54pv",
    "outputId": "2addaea5-1374-4e39-b094-b8baa2d60b34"
   },
   "outputs": [
    {
     "name": "stdout",
     "output_type": "stream",
     "text": [
      "Epoch 1/50\n",
      "159/159 [==============================] - 1s 3ms/step - loss: 0.4070 - accuracy: 0.8094 - val_loss: 0.4393 - val_accuracy: 0.7954\n",
      "Epoch 2/50\n",
      "159/159 [==============================] - 0s 3ms/step - loss: 0.4062 - accuracy: 0.8123 - val_loss: 0.4386 - val_accuracy: 0.7899\n",
      "Epoch 3/50\n",
      "159/159 [==============================] - 0s 3ms/step - loss: 0.4068 - accuracy: 0.8107 - val_loss: 0.4387 - val_accuracy: 0.7883\n",
      "Epoch 4/50\n",
      "159/159 [==============================] - 0s 3ms/step - loss: 0.4067 - accuracy: 0.8107 - val_loss: 0.4436 - val_accuracy: 0.7891\n",
      "Epoch 5/50\n",
      "159/159 [==============================] - 0s 3ms/step - loss: 0.4065 - accuracy: 0.8121 - val_loss: 0.4398 - val_accuracy: 0.7923\n",
      "Epoch 6/50\n",
      "159/159 [==============================] - 0s 3ms/step - loss: 0.4063 - accuracy: 0.8107 - val_loss: 0.4408 - val_accuracy: 0.7907\n",
      "Epoch 7/50\n",
      "159/159 [==============================] - 0s 2ms/step - loss: 0.4051 - accuracy: 0.8121 - val_loss: 0.4394 - val_accuracy: 0.7923\n",
      "Epoch 8/50\n",
      "159/159 [==============================] - 0s 3ms/step - loss: 0.4056 - accuracy: 0.8125 - val_loss: 0.4408 - val_accuracy: 0.7907\n",
      "Epoch 9/50\n",
      "159/159 [==============================] - 0s 3ms/step - loss: 0.4052 - accuracy: 0.8141 - val_loss: 0.4388 - val_accuracy: 0.7891\n",
      "Epoch 10/50\n",
      "159/159 [==============================] - 0s 3ms/step - loss: 0.4057 - accuracy: 0.8117 - val_loss: 0.4389 - val_accuracy: 0.7883\n",
      "Epoch 11/50\n",
      "159/159 [==============================] - 0s 3ms/step - loss: 0.4051 - accuracy: 0.8127 - val_loss: 0.4407 - val_accuracy: 0.7930\n",
      "Epoch 12/50\n",
      "159/159 [==============================] - 0s 3ms/step - loss: 0.4055 - accuracy: 0.8113 - val_loss: 0.4421 - val_accuracy: 0.7915\n",
      "Epoch 13/50\n",
      "159/159 [==============================] - 1s 3ms/step - loss: 0.4041 - accuracy: 0.8133 - val_loss: 0.4402 - val_accuracy: 0.7923\n",
      "Epoch 14/50\n",
      "159/159 [==============================] - 0s 3ms/step - loss: 0.4046 - accuracy: 0.8111 - val_loss: 0.4403 - val_accuracy: 0.7930\n",
      "Epoch 15/50\n",
      "159/159 [==============================] - 0s 3ms/step - loss: 0.4041 - accuracy: 0.8131 - val_loss: 0.4471 - val_accuracy: 0.7930\n",
      "Epoch 16/50\n",
      "159/159 [==============================] - 1s 3ms/step - loss: 0.4054 - accuracy: 0.8133 - val_loss: 0.4406 - val_accuracy: 0.7915\n",
      "Epoch 17/50\n",
      "159/159 [==============================] - 0s 3ms/step - loss: 0.4037 - accuracy: 0.8145 - val_loss: 0.4416 - val_accuracy: 0.7954\n",
      "Epoch 18/50\n",
      "159/159 [==============================] - 0s 3ms/step - loss: 0.4038 - accuracy: 0.8109 - val_loss: 0.4411 - val_accuracy: 0.7891\n",
      "Epoch 19/50\n",
      "159/159 [==============================] - 1s 3ms/step - loss: 0.4041 - accuracy: 0.8104 - val_loss: 0.4420 - val_accuracy: 0.7923\n",
      "Epoch 20/50\n",
      "159/159 [==============================] - 0s 3ms/step - loss: 0.4035 - accuracy: 0.8139 - val_loss: 0.4431 - val_accuracy: 0.7907\n",
      "Epoch 21/50\n",
      "159/159 [==============================] - 0s 3ms/step - loss: 0.4045 - accuracy: 0.8129 - val_loss: 0.4431 - val_accuracy: 0.7883\n",
      "Epoch 22/50\n",
      "159/159 [==============================] - 0s 3ms/step - loss: 0.4039 - accuracy: 0.8127 - val_loss: 0.4431 - val_accuracy: 0.7883\n",
      "Epoch 23/50\n",
      "159/159 [==============================] - 0s 3ms/step - loss: 0.4034 - accuracy: 0.8109 - val_loss: 0.4435 - val_accuracy: 0.7883\n",
      "Epoch 24/50\n",
      "159/159 [==============================] - 0s 3ms/step - loss: 0.4035 - accuracy: 0.8155 - val_loss: 0.4473 - val_accuracy: 0.7930\n",
      "Epoch 25/50\n",
      "159/159 [==============================] - 0s 3ms/step - loss: 0.4026 - accuracy: 0.8133 - val_loss: 0.4414 - val_accuracy: 0.7915\n",
      "Epoch 26/50\n",
      "159/159 [==============================] - 1s 3ms/step - loss: 0.4029 - accuracy: 0.8127 - val_loss: 0.4452 - val_accuracy: 0.7907\n",
      "Epoch 27/50\n",
      "159/159 [==============================] - 0s 3ms/step - loss: 0.4024 - accuracy: 0.8123 - val_loss: 0.4440 - val_accuracy: 0.7923\n",
      "Epoch 28/50\n",
      "159/159 [==============================] - 0s 3ms/step - loss: 0.4015 - accuracy: 0.8145 - val_loss: 0.4430 - val_accuracy: 0.7907\n",
      "Epoch 29/50\n",
      "159/159 [==============================] - 0s 3ms/step - loss: 0.4024 - accuracy: 0.8127 - val_loss: 0.4467 - val_accuracy: 0.7923\n",
      "Epoch 30/50\n",
      "159/159 [==============================] - 0s 3ms/step - loss: 0.4025 - accuracy: 0.8135 - val_loss: 0.4458 - val_accuracy: 0.7899\n",
      "Epoch 31/50\n",
      "159/159 [==============================] - 0s 3ms/step - loss: 0.4014 - accuracy: 0.8141 - val_loss: 0.4445 - val_accuracy: 0.7899\n",
      "Epoch 32/50\n",
      "159/159 [==============================] - 0s 3ms/step - loss: 0.4008 - accuracy: 0.8141 - val_loss: 0.4475 - val_accuracy: 0.7915\n",
      "Epoch 33/50\n",
      "159/159 [==============================] - 0s 3ms/step - loss: 0.4017 - accuracy: 0.8137 - val_loss: 0.4432 - val_accuracy: 0.7891\n",
      "Epoch 34/50\n",
      "159/159 [==============================] - 0s 3ms/step - loss: 0.4013 - accuracy: 0.8143 - val_loss: 0.4433 - val_accuracy: 0.7930\n",
      "Epoch 35/50\n",
      "159/159 [==============================] - 0s 3ms/step - loss: 0.4014 - accuracy: 0.8141 - val_loss: 0.4447 - val_accuracy: 0.7907\n",
      "Epoch 36/50\n",
      "159/159 [==============================] - 0s 3ms/step - loss: 0.4018 - accuracy: 0.8123 - val_loss: 0.4441 - val_accuracy: 0.7915\n",
      "Epoch 37/50\n",
      "159/159 [==============================] - 0s 3ms/step - loss: 0.4005 - accuracy: 0.8153 - val_loss: 0.4479 - val_accuracy: 0.7891\n",
      "Epoch 38/50\n",
      "159/159 [==============================] - 0s 3ms/step - loss: 0.4011 - accuracy: 0.8123 - val_loss: 0.4460 - val_accuracy: 0.7923\n",
      "Epoch 39/50\n",
      "159/159 [==============================] - 0s 3ms/step - loss: 0.4007 - accuracy: 0.8129 - val_loss: 0.4496 - val_accuracy: 0.7930\n",
      "Epoch 40/50\n",
      "159/159 [==============================] - 0s 3ms/step - loss: 0.4000 - accuracy: 0.8147 - val_loss: 0.4492 - val_accuracy: 0.7891\n",
      "Epoch 41/50\n",
      "159/159 [==============================] - 0s 3ms/step - loss: 0.4007 - accuracy: 0.8137 - val_loss: 0.4473 - val_accuracy: 0.7907\n",
      "Epoch 42/50\n",
      "159/159 [==============================] - 0s 3ms/step - loss: 0.4001 - accuracy: 0.8163 - val_loss: 0.4475 - val_accuracy: 0.7915\n",
      "Epoch 43/50\n",
      "159/159 [==============================] - 0s 3ms/step - loss: 0.4006 - accuracy: 0.8123 - val_loss: 0.4464 - val_accuracy: 0.7883\n",
      "Epoch 44/50\n",
      "159/159 [==============================] - 0s 3ms/step - loss: 0.4001 - accuracy: 0.8127 - val_loss: 0.4478 - val_accuracy: 0.7907\n",
      "Epoch 45/50\n",
      "159/159 [==============================] - 0s 3ms/step - loss: 0.4003 - accuracy: 0.8149 - val_loss: 0.4490 - val_accuracy: 0.7899\n",
      "Epoch 46/50\n",
      "159/159 [==============================] - 0s 2ms/step - loss: 0.3995 - accuracy: 0.8149 - val_loss: 0.4467 - val_accuracy: 0.7899\n",
      "Epoch 47/50\n",
      "159/159 [==============================] - 0s 3ms/step - loss: 0.3995 - accuracy: 0.8143 - val_loss: 0.4479 - val_accuracy: 0.7915\n",
      "Epoch 48/50\n",
      "159/159 [==============================] - 0s 2ms/step - loss: 0.3994 - accuracy: 0.8127 - val_loss: 0.4485 - val_accuracy: 0.7852\n",
      "Epoch 49/50\n",
      "159/159 [==============================] - 0s 3ms/step - loss: 0.3993 - accuracy: 0.8129 - val_loss: 0.4518 - val_accuracy: 0.7930\n",
      "Epoch 50/50\n",
      "159/159 [==============================] - 0s 3ms/step - loss: 0.3992 - accuracy: 0.8159 - val_loss: 0.4464 - val_accuracy: 0.7875\n"
     ]
    }
   ],
   "source": [
    "hist_again1 = best.fit(pipe.fit_transform(Xtr), ytr, epochs=50, validation_data=(pipe.transform(Xva), yva))"
   ]
  },
  {
   "cell_type": "markdown",
   "metadata": {
    "id": "akU3VKJJeJyI"
   },
   "source": [
    "## FUnctional API"
   ]
  },
  {
   "cell_type": "code",
   "execution_count": 265,
   "metadata": {
    "id": "_OogmkZqxeNE"
   },
   "outputs": [],
   "source": [
    "keras.backend.clear_session()\n",
    "np.random.seed(42)\n",
    "tf.random.set_seed(42)"
   ]
  },
  {
   "cell_type": "code",
   "execution_count": 273,
   "metadata": {
    "id": "NtKNUXCQw1yP"
   },
   "outputs": [],
   "source": [
    "def f_layers(optimizer='adam'):\n",
    "  input_ = keras.layers.Input(shape=Xtr.shape[1:])\n",
    "  hidden1 = keras.layers.Dense(10, activation=\"relu\")(input_)\n",
    "  hidden2 = keras.layers.Dense(10, activation=\"relu\")(hidden1)\n",
    "  concat = keras.layers.concatenate([input_, hidden2])\n",
    "  output = keras.layers.Dense(2)(concat)\n",
    "  modelAPI = keras.models.Model(inputs=[input_], outputs=[output])\n",
    "  \n",
    "  modelAPI.compile(loss=\"sparse_categorical_crossentropy\", optimizer=optimizer, metrics=[\"accuracy\"])\n",
    "  return modelAPI"
   ]
  },
  {
   "cell_type": "code",
   "execution_count": 274,
   "metadata": {
    "id": "CNyPrNkpxWUc"
   },
   "outputs": [],
   "source": [
    "kerc2=keras.wrappers.scikit_learn.KerasClassifier(build_fn=f_layers)"
   ]
  },
  {
   "cell_type": "code",
   "execution_count": 275,
   "metadata": {
    "colab": {
     "base_uri": "https://localhost:8080/"
    },
    "id": "SFL-dXrOxQ9a",
    "outputId": "4c4bd55f-c4a7-42ca-eb33-87ce6224f209"
   },
   "outputs": [
    {
     "name": "stderr",
     "output_type": "stream",
     "text": [
      "/usr/local/lib/python3.7/dist-packages/sklearn/model_selection/_search.py:281: UserWarning: The total space of parameters 2 is smaller than n_iter=5. Running 2 iterations. For exhaustive searches, use GridSearchCV.\n",
      "  % (grid_size, self.n_iter, grid_size), UserWarning)\n",
      "[Parallel(n_jobs=1)]: Using backend SequentialBackend with 1 concurrent workers.\n"
     ]
    },
    {
     "name": "stdout",
     "output_type": "stream",
     "text": [
      "Fitting 3 folds for each of 2 candidates, totalling 6 fits\n",
      "[CV] optimizer=adam ..................................................\n",
      "Epoch 1/15\n",
      "106/106 [==============================] - 1s 4ms/step - loss: 2.4786 - accuracy: 0.5940 - val_loss: 2.2263 - val_accuracy: 0.6311\n",
      "Epoch 2/15\n",
      "106/106 [==============================] - 0s 2ms/step - loss: 1.9182 - accuracy: 0.6295 - val_loss: 1.9049 - val_accuracy: 0.6556\n",
      "Epoch 3/15\n",
      "106/106 [==============================] - 0s 3ms/step - loss: 1.6385 - accuracy: 0.6491 - val_loss: 1.6853 - val_accuracy: 0.6746\n",
      "Epoch 4/15\n",
      "106/106 [==============================] - 0s 2ms/step - loss: 1.5055 - accuracy: 0.6541 - val_loss: 1.5682 - val_accuracy: 0.6730\n",
      "Epoch 5/15\n",
      "106/106 [==============================] - 0s 2ms/step - loss: 1.4546 - accuracy: 0.6574 - val_loss: 1.6391 - val_accuracy: 0.6682\n",
      "Epoch 6/15\n",
      "106/106 [==============================] - 0s 2ms/step - loss: 1.4264 - accuracy: 0.6550 - val_loss: 1.3686 - val_accuracy: 0.6698\n",
      "Epoch 7/15\n",
      "106/106 [==============================] - 0s 2ms/step - loss: 1.3622 - accuracy: 0.6598 - val_loss: 1.3280 - val_accuracy: 0.6761\n",
      "Epoch 8/15\n",
      "106/106 [==============================] - 0s 2ms/step - loss: 1.3271 - accuracy: 0.6648 - val_loss: 1.3653 - val_accuracy: 0.6817\n",
      "Epoch 9/15\n",
      "106/106 [==============================] - 0s 2ms/step - loss: 1.2671 - accuracy: 0.6758 - val_loss: 1.3551 - val_accuracy: 0.6919\n",
      "Epoch 10/15\n",
      "106/106 [==============================] - 0s 2ms/step - loss: 1.2388 - accuracy: 0.6811 - val_loss: 1.2952 - val_accuracy: 0.6975\n",
      "Epoch 11/15\n",
      "106/106 [==============================] - 0s 2ms/step - loss: 1.2192 - accuracy: 0.6846 - val_loss: 1.2727 - val_accuracy: 0.6967\n",
      "Epoch 12/15\n",
      "106/106 [==============================] - 0s 2ms/step - loss: 1.2243 - accuracy: 0.6841 - val_loss: 1.1989 - val_accuracy: 0.7156\n",
      "Epoch 13/15\n",
      "106/106 [==============================] - 0s 2ms/step - loss: 1.1715 - accuracy: 0.6921 - val_loss: 1.1845 - val_accuracy: 0.7046\n",
      "Epoch 14/15\n",
      "106/106 [==============================] - 0s 2ms/step - loss: 1.1636 - accuracy: 0.6879 - val_loss: 1.1962 - val_accuracy: 0.7038\n",
      "Epoch 15/15\n",
      "106/106 [==============================] - 0s 2ms/step - loss: 1.1984 - accuracy: 0.6852 - val_loss: 1.2041 - val_accuracy: 0.6880\n",
      "53/53 [==============================] - 0s 1ms/step - loss: 1.2004 - accuracy: 0.7079\n",
      "[CV] ................................... optimizer=adam, total=   4.6s\n",
      "[CV] optimizer=adam ..................................................\n",
      "Epoch 1/15\n"
     ]
    },
    {
     "name": "stderr",
     "output_type": "stream",
     "text": [
      "[Parallel(n_jobs=1)]: Done   1 out of   1 | elapsed:    4.6s remaining:    0.0s\n"
     ]
    },
    {
     "name": "stdout",
     "output_type": "stream",
     "text": [
      "106/106 [==============================] - 1s 4ms/step - loss: 1.7714 - accuracy: 0.6356 - val_loss: 1.6037 - val_accuracy: 0.6051\n",
      "Epoch 2/15\n",
      "106/106 [==============================] - 0s 2ms/step - loss: 1.4326 - accuracy: 0.6427 - val_loss: 1.4536 - val_accuracy: 0.6406\n",
      "Epoch 3/15\n",
      "106/106 [==============================] - 0s 2ms/step - loss: 1.3718 - accuracy: 0.6480 - val_loss: 1.3099 - val_accuracy: 0.6280\n",
      "Epoch 4/15\n",
      "106/106 [==============================] - 0s 2ms/step - loss: 1.1455 - accuracy: 0.6056 - val_loss: 1.2345 - val_accuracy: 0.5703\n",
      "Epoch 5/15\n",
      "106/106 [==============================] - 0s 2ms/step - loss: 1.0190 - accuracy: 0.5807 - val_loss: 1.1556 - val_accuracy: 0.6019\n",
      "Epoch 6/15\n",
      "106/106 [==============================] - 0s 2ms/step - loss: 0.9917 - accuracy: 0.5843 - val_loss: 1.1295 - val_accuracy: 0.5197\n",
      "Epoch 7/15\n",
      "106/106 [==============================] - 0s 2ms/step - loss: 0.9599 - accuracy: 0.5662 - val_loss: 1.1059 - val_accuracy: 0.5924\n",
      "Epoch 8/15\n",
      "106/106 [==============================] - 0s 2ms/step - loss: 0.9308 - accuracy: 0.5961 - val_loss: 1.0077 - val_accuracy: 0.6003\n",
      "Epoch 9/15\n",
      "106/106 [==============================] - 0s 2ms/step - loss: 0.9115 - accuracy: 0.6050 - val_loss: 0.9634 - val_accuracy: 0.5972\n",
      "Epoch 10/15\n",
      "106/106 [==============================] - 0s 2ms/step - loss: 0.8764 - accuracy: 0.5932 - val_loss: 0.9348 - val_accuracy: 0.5861\n",
      "Epoch 11/15\n",
      "106/106 [==============================] - 0s 2ms/step - loss: 0.8705 - accuracy: 0.5837 - val_loss: 0.9391 - val_accuracy: 0.5806\n",
      "Epoch 12/15\n",
      "106/106 [==============================] - 0s 2ms/step - loss: 0.8568 - accuracy: 0.5840 - val_loss: 0.9578 - val_accuracy: 0.5750\n",
      "Epoch 13/15\n",
      "106/106 [==============================] - 0s 2ms/step - loss: 0.8281 - accuracy: 0.5754 - val_loss: 0.9124 - val_accuracy: 0.5671\n",
      "Epoch 14/15\n",
      "106/106 [==============================] - 0s 2ms/step - loss: 0.8300 - accuracy: 0.5692 - val_loss: 0.9331 - val_accuracy: 0.5616\n",
      "Epoch 15/15\n",
      "106/106 [==============================] - 0s 2ms/step - loss: 0.8135 - accuracy: 0.5636 - val_loss: 0.9029 - val_accuracy: 0.5608\n",
      "53/53 [==============================] - 0s 1ms/step - loss: 0.8160 - accuracy: 0.5459\n",
      "[CV] ................................... optimizer=adam, total=   4.5s\n",
      "[CV] optimizer=adam ..................................................\n",
      "Epoch 1/15\n",
      "106/106 [==============================] - 1s 4ms/step - loss: 2.6354 - accuracy: 0.5793 - val_loss: 2.0680 - val_accuracy: 0.6232\n",
      "Epoch 2/15\n",
      "106/106 [==============================] - 0s 2ms/step - loss: 1.7440 - accuracy: 0.6868 - val_loss: 1.5816 - val_accuracy: 0.7022\n",
      "Epoch 3/15\n",
      "106/106 [==============================] - 0s 2ms/step - loss: 1.3798 - accuracy: 0.7280 - val_loss: 1.4478 - val_accuracy: 0.7164\n",
      "Epoch 4/15\n",
      "106/106 [==============================] - 0s 3ms/step - loss: 1.1519 - accuracy: 0.7384 - val_loss: 1.2259 - val_accuracy: 0.7385\n",
      "Epoch 5/15\n",
      "106/106 [==============================] - 0s 2ms/step - loss: 1.0247 - accuracy: 0.7609 - val_loss: 1.2095 - val_accuracy: 0.7457\n",
      "Epoch 6/15\n",
      "106/106 [==============================] - 0s 2ms/step - loss: 0.9872 - accuracy: 0.7532 - val_loss: 1.1969 - val_accuracy: 0.7314\n",
      "Epoch 7/15\n",
      "106/106 [==============================] - 0s 2ms/step - loss: 0.9015 - accuracy: 0.7653 - val_loss: 1.0255 - val_accuracy: 0.7591\n",
      "Epoch 8/15\n",
      "106/106 [==============================] - 0s 2ms/step - loss: 0.8782 - accuracy: 0.7624 - val_loss: 1.0234 - val_accuracy: 0.7543\n",
      "Epoch 9/15\n",
      "106/106 [==============================] - 0s 2ms/step - loss: 0.8784 - accuracy: 0.7594 - val_loss: 1.0373 - val_accuracy: 0.7449\n",
      "Epoch 10/15\n",
      "106/106 [==============================] - 0s 2ms/step - loss: 0.8285 - accuracy: 0.7627 - val_loss: 0.9984 - val_accuracy: 0.7567\n",
      "Epoch 11/15\n",
      "106/106 [==============================] - 0s 2ms/step - loss: 0.8005 - accuracy: 0.7692 - val_loss: 0.9607 - val_accuracy: 0.7607\n",
      "Epoch 12/15\n",
      "106/106 [==============================] - 0s 2ms/step - loss: 0.7876 - accuracy: 0.7754 - val_loss: 0.8897 - val_accuracy: 0.7646\n",
      "Epoch 13/15\n",
      "106/106 [==============================] - 0s 2ms/step - loss: 0.7787 - accuracy: 0.7739 - val_loss: 0.8748 - val_accuracy: 0.7654\n",
      "Epoch 14/15\n",
      "106/106 [==============================] - 0s 2ms/step - loss: 0.7872 - accuracy: 0.7716 - val_loss: 0.9248 - val_accuracy: 0.7670\n",
      "Epoch 15/15\n",
      "106/106 [==============================] - 0s 2ms/step - loss: 0.7736 - accuracy: 0.7754 - val_loss: 0.9008 - val_accuracy: 0.7678\n",
      "53/53 [==============================] - 0s 1ms/step - loss: 0.7751 - accuracy: 0.7564\n",
      "[CV] ................................... optimizer=adam, total=   5.7s\n",
      "[CV] optimizer=sgd ...................................................\n",
      "Epoch 1/15\n",
      "106/106 [==============================] - 1s 3ms/step - loss: 2.4994 - accuracy: 0.5762 - val_loss: 1.8456 - val_accuracy: 0.5545\n",
      "Epoch 2/15\n",
      "106/106 [==============================] - 0s 2ms/step - loss: 1.7606 - accuracy: 0.5528 - val_loss: 1.8007 - val_accuracy: 0.5671\n",
      "Epoch 3/15\n",
      "106/106 [==============================] - 0s 2ms/step - loss: 1.6051 - accuracy: 0.5631 - val_loss: 1.2860 - val_accuracy: 0.5608\n",
      "Epoch 4/15\n",
      "106/106 [==============================] - 0s 2ms/step - loss: 1.1130 - accuracy: 0.5480 - val_loss: 1.1504 - val_accuracy: 0.5648\n",
      "Epoch 5/15\n",
      "106/106 [==============================] - 0s 2ms/step - loss: 1.0325 - accuracy: 0.5652 - val_loss: 1.0442 - val_accuracy: 0.5956\n",
      "Epoch 6/15\n",
      "106/106 [==============================] - 0s 2ms/step - loss: 0.8896 - accuracy: 0.6061 - val_loss: 0.8660 - val_accuracy: 0.6161\n",
      "Epoch 7/15\n",
      "106/106 [==============================] - 0s 2ms/step - loss: 0.8178 - accuracy: 0.5916 - val_loss: 0.9058 - val_accuracy: 0.5782\n",
      "Epoch 8/15\n",
      "106/106 [==============================] - 0s 2ms/step - loss: 0.8608 - accuracy: 0.5818 - val_loss: 1.0038 - val_accuracy: 0.5979\n",
      "Epoch 9/15\n",
      "106/106 [==============================] - 0s 2ms/step - loss: 0.8476 - accuracy: 0.5904 - val_loss: 0.7684 - val_accuracy: 0.5956\n",
      "Epoch 10/15\n",
      "106/106 [==============================] - 0s 2ms/step - loss: 0.7452 - accuracy: 0.5954 - val_loss: 0.7440 - val_accuracy: 0.6027\n",
      "Epoch 11/15\n",
      "106/106 [==============================] - 0s 2ms/step - loss: 0.8323 - accuracy: 0.5880 - val_loss: 1.1210 - val_accuracy: 0.6153\n",
      "Epoch 12/15\n",
      "106/106 [==============================] - 0s 2ms/step - loss: 0.9766 - accuracy: 0.6103 - val_loss: 1.0584 - val_accuracy: 0.6232\n",
      "Epoch 13/15\n",
      "106/106 [==============================] - 0s 2ms/step - loss: 0.9176 - accuracy: 0.6135 - val_loss: 1.0022 - val_accuracy: 0.6272\n",
      "Epoch 14/15\n",
      "106/106 [==============================] - 0s 2ms/step - loss: 0.8822 - accuracy: 0.6117 - val_loss: 0.9060 - val_accuracy: 0.6264\n",
      "Epoch 15/15\n",
      "106/106 [==============================] - 0s 2ms/step - loss: 0.8249 - accuracy: 0.6097 - val_loss: 0.8383 - val_accuracy: 0.6137\n",
      "53/53 [==============================] - 0s 1ms/step - loss: 0.8183 - accuracy: 0.6374\n",
      "[CV] .................................... optimizer=sgd, total=   5.7s\n",
      "[CV] optimizer=sgd ...................................................\n",
      "Epoch 1/15\n",
      "106/106 [==============================] - 1s 3ms/step - loss: 1.1759 - accuracy: 0.6163 - val_loss: 0.8119 - val_accuracy: 0.6817\n",
      "Epoch 2/15\n",
      "106/106 [==============================] - 0s 2ms/step - loss: 0.7315 - accuracy: 0.6913 - val_loss: 0.6915 - val_accuracy: 0.6833\n",
      "Epoch 3/15\n",
      "106/106 [==============================] - 0s 2ms/step - loss: 0.6967 - accuracy: 0.6883 - val_loss: 0.6926 - val_accuracy: 0.6825\n",
      "Epoch 4/15\n",
      "106/106 [==============================] - 0s 2ms/step - loss: 0.6927 - accuracy: 0.6889 - val_loss: 0.6926 - val_accuracy: 0.6825\n",
      "Epoch 5/15\n",
      "106/106 [==============================] - 0s 2ms/step - loss: 0.6927 - accuracy: 0.6889 - val_loss: 0.6926 - val_accuracy: 0.6825\n",
      "Epoch 6/15\n",
      "106/106 [==============================] - 0s 2ms/step - loss: 0.6927 - accuracy: 0.6889 - val_loss: 0.6926 - val_accuracy: 0.6825\n",
      "Epoch 7/15\n",
      "106/106 [==============================] - 0s 2ms/step - loss: 0.6927 - accuracy: 0.6889 - val_loss: 0.6926 - val_accuracy: 0.6825\n",
      "Epoch 8/15\n",
      "106/106 [==============================] - 0s 2ms/step - loss: 0.6927 - accuracy: 0.6889 - val_loss: 0.6926 - val_accuracy: 0.6825\n",
      "Epoch 9/15\n",
      "106/106 [==============================] - 0s 2ms/step - loss: 0.6927 - accuracy: 0.6889 - val_loss: 0.6926 - val_accuracy: 0.6825\n",
      "Epoch 10/15\n",
      "106/106 [==============================] - 0s 2ms/step - loss: 0.6927 - accuracy: 0.6889 - val_loss: 0.6926 - val_accuracy: 0.6825\n",
      "Epoch 11/15\n",
      "106/106 [==============================] - 0s 2ms/step - loss: 0.6927 - accuracy: 0.6889 - val_loss: 0.6926 - val_accuracy: 0.6825\n",
      "Epoch 12/15\n",
      "106/106 [==============================] - 0s 2ms/step - loss: 0.6927 - accuracy: 0.6889 - val_loss: 0.6926 - val_accuracy: 0.6825\n",
      "Epoch 13/15\n",
      "106/106 [==============================] - 0s 2ms/step - loss: 0.6927 - accuracy: 0.6889 - val_loss: 0.6926 - val_accuracy: 0.6825\n",
      "Epoch 14/15\n",
      "106/106 [==============================] - 0s 2ms/step - loss: 0.6927 - accuracy: 0.6889 - val_loss: 0.6926 - val_accuracy: 0.6825\n",
      "Epoch 15/15\n",
      "106/106 [==============================] - 0s 2ms/step - loss: 0.6927 - accuracy: 0.6889 - val_loss: 0.6926 - val_accuracy: 0.6825\n",
      "53/53 [==============================] - 0s 1ms/step - loss: 0.6996 - accuracy: 0.6651\n",
      "[CV] .................................... optimizer=sgd, total=   3.9s\n",
      "[CV] optimizer=sgd ...................................................\n",
      "Epoch 1/15\n",
      "106/106 [==============================] - 1s 3ms/step - loss: 1.2208 - accuracy: 0.6753 - val_loss: 0.7799 - val_accuracy: 0.7409\n",
      "Epoch 2/15\n",
      "106/106 [==============================] - 0s 2ms/step - loss: 0.7130 - accuracy: 0.7538 - val_loss: 0.6888 - val_accuracy: 0.7093\n",
      "Epoch 3/15\n",
      "106/106 [==============================] - 0s 2ms/step - loss: 0.6949 - accuracy: 0.7262 - val_loss: 0.6899 - val_accuracy: 0.7141\n",
      "Epoch 4/15\n",
      "106/106 [==============================] - 0s 2ms/step - loss: 0.6919 - accuracy: 0.7268 - val_loss: 0.6899 - val_accuracy: 0.7133\n",
      "Epoch 5/15\n",
      "106/106 [==============================] - 0s 2ms/step - loss: 0.6919 - accuracy: 0.7268 - val_loss: 0.6899 - val_accuracy: 0.7133\n",
      "Epoch 6/15\n",
      "106/106 [==============================] - 0s 2ms/step - loss: 0.6919 - accuracy: 0.7268 - val_loss: 0.6899 - val_accuracy: 0.7133\n",
      "Epoch 7/15\n",
      "106/106 [==============================] - 0s 2ms/step - loss: 0.6919 - accuracy: 0.7268 - val_loss: 0.6899 - val_accuracy: 0.7133\n",
      "Epoch 8/15\n",
      "106/106 [==============================] - 0s 2ms/step - loss: 0.6919 - accuracy: 0.7271 - val_loss: 0.6899 - val_accuracy: 0.7133\n",
      "Epoch 9/15\n",
      "106/106 [==============================] - 0s 2ms/step - loss: 0.6919 - accuracy: 0.7271 - val_loss: 0.6899 - val_accuracy: 0.7133\n",
      "Epoch 10/15\n",
      "106/106 [==============================] - 0s 2ms/step - loss: 0.6919 - accuracy: 0.7271 - val_loss: 0.6899 - val_accuracy: 0.7133\n",
      "Epoch 11/15\n",
      "106/106 [==============================] - 0s 2ms/step - loss: 0.6919 - accuracy: 0.7271 - val_loss: 0.6899 - val_accuracy: 0.7133\n",
      "Epoch 12/15\n",
      "106/106 [==============================] - 0s 2ms/step - loss: 0.6919 - accuracy: 0.7274 - val_loss: 0.6899 - val_accuracy: 0.7133\n",
      "Epoch 13/15\n",
      "106/106 [==============================] - 0s 2ms/step - loss: 0.6919 - accuracy: 0.7274 - val_loss: 0.6899 - val_accuracy: 0.7141\n",
      "Epoch 14/15\n",
      "106/106 [==============================] - 0s 2ms/step - loss: 0.6919 - accuracy: 0.7274 - val_loss: 0.6899 - val_accuracy: 0.7141\n",
      "Epoch 15/15\n",
      "106/106 [==============================] - 0s 2ms/step - loss: 0.6919 - accuracy: 0.7274 - val_loss: 0.6899 - val_accuracy: 0.7141\n",
      "53/53 [==============================] - 0s 1ms/step - loss: 0.6890 - accuracy: 0.7279\n",
      "[CV] .................................... optimizer=sgd, total=   4.1s\n",
      "Epoch 1/15\n"
     ]
    },
    {
     "name": "stderr",
     "output_type": "stream",
     "text": [
      "[Parallel(n_jobs=1)]: Done   6 out of   6 | elapsed:   28.5s finished\n"
     ]
    },
    {
     "name": "stdout",
     "output_type": "stream",
     "text": [
      "159/159 [==============================] - 1s 3ms/step - loss: 2.1179 - accuracy: 0.5808 - val_loss: 1.5105 - val_accuracy: 0.5284\n",
      "Epoch 2/15\n",
      "159/159 [==============================] - 0s 2ms/step - loss: 1.0707 - accuracy: 0.5188 - val_loss: 0.9737 - val_accuracy: 0.5087\n",
      "Epoch 3/15\n",
      "159/159 [==============================] - 0s 2ms/step - loss: 0.8064 - accuracy: 0.4820 - val_loss: 0.7370 - val_accuracy: 0.4566\n",
      "Epoch 4/15\n",
      "159/159 [==============================] - 0s 2ms/step - loss: 0.6985 - accuracy: 0.4471 - val_loss: 0.7096 - val_accuracy: 0.4637\n",
      "Epoch 5/15\n",
      "159/159 [==============================] - 0s 2ms/step - loss: 0.6790 - accuracy: 0.4520 - val_loss: 0.6924 - val_accuracy: 0.4605\n",
      "Epoch 6/15\n",
      "159/159 [==============================] - 0s 2ms/step - loss: 0.6752 - accuracy: 0.4492 - val_loss: 0.6835 - val_accuracy: 0.4589\n",
      "Epoch 7/15\n",
      "159/159 [==============================] - 0s 2ms/step - loss: 0.6861 - accuracy: 0.4682 - val_loss: 0.6908 - val_accuracy: 0.4779\n",
      "Epoch 8/15\n",
      "159/159 [==============================] - 0s 2ms/step - loss: 0.6841 - accuracy: 0.4670 - val_loss: 0.6852 - val_accuracy: 0.4755\n",
      "Epoch 9/15\n",
      "159/159 [==============================] - 0s 2ms/step - loss: 0.6982 - accuracy: 0.4285 - val_loss: 0.7016 - val_accuracy: 0.4336\n",
      "Epoch 10/15\n",
      "159/159 [==============================] - 0s 2ms/step - loss: 0.6968 - accuracy: 0.4253 - val_loss: 0.7015 - val_accuracy: 0.4329\n",
      "Epoch 11/15\n",
      "159/159 [==============================] - 0s 2ms/step - loss: 0.6971 - accuracy: 0.4235 - val_loss: 0.7025 - val_accuracy: 0.4297\n",
      "Epoch 12/15\n",
      "159/159 [==============================] - 0s 2ms/step - loss: 0.6971 - accuracy: 0.4220 - val_loss: 0.7023 - val_accuracy: 0.4265\n",
      "Epoch 13/15\n",
      "159/159 [==============================] - 0s 2ms/step - loss: 0.6973 - accuracy: 0.4192 - val_loss: 0.7035 - val_accuracy: 0.4234\n",
      "Epoch 14/15\n",
      "159/159 [==============================] - 0s 2ms/step - loss: 0.6925 - accuracy: 0.4151 - val_loss: 0.7035 - val_accuracy: 0.4234\n",
      "Epoch 15/15\n",
      "159/159 [==============================] - 0s 2ms/step - loss: 0.6925 - accuracy: 0.4151 - val_loss: 0.7035 - val_accuracy: 0.4234\n"
     ]
    },
    {
     "data": {
      "text/plain": [
       "RandomizedSearchCV(cv=3, error_score=nan,\n",
       "                   estimator=<keras.wrappers.scikit_learn.KerasClassifier object at 0x7f2165782190>,\n",
       "                   iid='deprecated', n_iter=5, n_jobs=None,\n",
       "                   param_distributions={'optimizer': ['adam', 'sgd']},\n",
       "                   pre_dispatch='2*n_jobs', random_state=None, refit=True,\n",
       "                   return_train_score=False, scoring=None, verbose=2)"
      ]
     },
     "execution_count": 275,
     "metadata": {},
     "output_type": "execute_result"
    }
   ],
   "source": [
    "from sklearn.model_selection import RandomizedSearchCV\n",
    "rnd_search_cv = RandomizedSearchCV(kerc2, param_distribs, n_iter=5, cv=3, verbose=2)\n",
    "rnd_search_cv.fit(pipe.fit_transform(Xtr), ytr, epochs=15, validation_data=(pipe.transform(Xva), yva))"
   ]
  },
  {
   "cell_type": "code",
   "execution_count": 311,
   "metadata": {
    "id": "vC4nK666qGXv"
   },
   "outputs": [],
   "source": [
    "keras.backend.clear_session()\n",
    "np.random.seed(42)\n",
    "tf.random.set_seed(42)"
   ]
  },
  {
   "cell_type": "code",
   "execution_count": 312,
   "metadata": {
    "colab": {
     "base_uri": "https://localhost:8080/"
    },
    "id": "FWRAOkV1zJib",
    "outputId": "44f14912-370a-4d02-f84b-7058bed90206"
   },
   "outputs": [
    {
     "name": "stdout",
     "output_type": "stream",
     "text": [
      "Epoch 1/50\n",
      "159/159 [==============================] - 1s 3ms/step - loss: 1.7948 - accuracy: 0.6363 - val_loss: 1.3108 - val_accuracy: 0.7417\n",
      "Epoch 2/50\n",
      "159/159 [==============================] - 0s 2ms/step - loss: 1.0165 - accuracy: 0.7392 - val_loss: 0.8551 - val_accuracy: 0.7670\n",
      "Epoch 3/50\n",
      "159/159 [==============================] - 0s 2ms/step - loss: 1.1233 - accuracy: 0.6902 - val_loss: 1.1301 - val_accuracy: 0.6635\n",
      "Epoch 4/50\n",
      "159/159 [==============================] - 0s 2ms/step - loss: 0.9220 - accuracy: 0.6659 - val_loss: 0.8601 - val_accuracy: 0.6540\n",
      "Epoch 5/50\n",
      "159/159 [==============================] - 0s 2ms/step - loss: 0.8517 - accuracy: 0.6626 - val_loss: 0.9356 - val_accuracy: 0.6738\n",
      "Epoch 6/50\n",
      "159/159 [==============================] - 0s 2ms/step - loss: 1.2820 - accuracy: 0.6169 - val_loss: 2.7426 - val_accuracy: 0.2820\n",
      "Epoch 7/50\n",
      "159/159 [==============================] - 0s 2ms/step - loss: 1.7779 - accuracy: 0.2863 - val_loss: 1.3615 - val_accuracy: 0.3318\n",
      "Epoch 8/50\n",
      "159/159 [==============================] - 0s 2ms/step - loss: 1.1951 - accuracy: 0.3289 - val_loss: 1.2419 - val_accuracy: 0.3365\n",
      "Epoch 9/50\n",
      "159/159 [==============================] - 0s 2ms/step - loss: 1.0636 - accuracy: 0.3412 - val_loss: 1.2297 - val_accuracy: 0.3736\n",
      "Epoch 10/50\n",
      "159/159 [==============================] - 0s 2ms/step - loss: 0.9825 - accuracy: 0.4465 - val_loss: 1.0104 - val_accuracy: 0.5545\n",
      "Epoch 11/50\n",
      "159/159 [==============================] - 0s 2ms/step - loss: 1.0398 - accuracy: 0.5166 - val_loss: 0.9811 - val_accuracy: 0.5829\n",
      "Epoch 12/50\n",
      "159/159 [==============================] - 0s 2ms/step - loss: 0.9097 - accuracy: 0.6100 - val_loss: 0.8515 - val_accuracy: 0.6485\n",
      "Epoch 13/50\n",
      "159/159 [==============================] - 0s 2ms/step - loss: 0.8507 - accuracy: 0.6788 - val_loss: 0.8006 - val_accuracy: 0.7014\n",
      "Epoch 14/50\n",
      "159/159 [==============================] - 0s 2ms/step - loss: 0.7990 - accuracy: 0.7070 - val_loss: 0.7544 - val_accuracy: 0.7046\n",
      "Epoch 15/50\n",
      "159/159 [==============================] - 0s 2ms/step - loss: 0.7990 - accuracy: 0.7151 - val_loss: 0.7632 - val_accuracy: 0.7077\n",
      "Epoch 16/50\n",
      "159/159 [==============================] - 0s 2ms/step - loss: 0.8149 - accuracy: 0.7147 - val_loss: 0.8853 - val_accuracy: 0.7038\n",
      "Epoch 17/50\n",
      "159/159 [==============================] - 0s 2ms/step - loss: 0.7951 - accuracy: 0.7159 - val_loss: 0.7854 - val_accuracy: 0.7054\n",
      "Epoch 18/50\n",
      "159/159 [==============================] - 0s 2ms/step - loss: 0.7980 - accuracy: 0.7203 - val_loss: 0.7772 - val_accuracy: 0.7172\n",
      "Epoch 19/50\n",
      "159/159 [==============================] - 0s 2ms/step - loss: 0.7774 - accuracy: 0.7325 - val_loss: 0.8150 - val_accuracy: 0.7180\n",
      "Epoch 20/50\n",
      "159/159 [==============================] - 0s 2ms/step - loss: 0.7430 - accuracy: 0.7351 - val_loss: 0.8382 - val_accuracy: 0.7148\n",
      "Epoch 21/50\n",
      "159/159 [==============================] - 0s 2ms/step - loss: 0.7604 - accuracy: 0.7319 - val_loss: 0.7703 - val_accuracy: 0.7204\n",
      "Epoch 22/50\n",
      "159/159 [==============================] - 0s 2ms/step - loss: 0.7373 - accuracy: 0.7329 - val_loss: 0.7985 - val_accuracy: 0.7196\n",
      "Epoch 23/50\n",
      "159/159 [==============================] - 0s 2ms/step - loss: 0.7399 - accuracy: 0.7345 - val_loss: 0.7623 - val_accuracy: 0.7235\n",
      "Epoch 24/50\n",
      "159/159 [==============================] - 0s 2ms/step - loss: 0.7505 - accuracy: 0.7367 - val_loss: 0.7723 - val_accuracy: 0.7251\n",
      "Epoch 25/50\n",
      "159/159 [==============================] - 0s 2ms/step - loss: 0.7591 - accuracy: 0.7339 - val_loss: 0.7648 - val_accuracy: 0.7172\n",
      "Epoch 26/50\n",
      "159/159 [==============================] - 0s 2ms/step - loss: 0.7572 - accuracy: 0.7337 - val_loss: 0.7731 - val_accuracy: 0.7243\n",
      "Epoch 27/50\n",
      "159/159 [==============================] - 0s 2ms/step - loss: 0.7516 - accuracy: 0.7333 - val_loss: 0.7533 - val_accuracy: 0.7243\n",
      "Epoch 28/50\n",
      "159/159 [==============================] - 0s 2ms/step - loss: 0.7471 - accuracy: 0.7359 - val_loss: 0.7927 - val_accuracy: 0.7306\n",
      "Epoch 29/50\n",
      "159/159 [==============================] - 0s 2ms/step - loss: 0.7072 - accuracy: 0.7325 - val_loss: 0.6931 - val_accuracy: 0.7243\n",
      "Epoch 30/50\n",
      "159/159 [==============================] - 0s 2ms/step - loss: 0.6931 - accuracy: 0.7379 - val_loss: 0.6931 - val_accuracy: 0.7243\n",
      "Epoch 31/50\n",
      "159/159 [==============================] - 0s 2ms/step - loss: 0.6931 - accuracy: 0.7379 - val_loss: 0.6931 - val_accuracy: 0.7243\n",
      "Epoch 32/50\n",
      "159/159 [==============================] - 0s 2ms/step - loss: 0.6931 - accuracy: 0.7379 - val_loss: 0.6931 - val_accuracy: 0.7243\n",
      "Epoch 33/50\n",
      "159/159 [==============================] - 0s 2ms/step - loss: 0.6931 - accuracy: 0.7379 - val_loss: 0.6931 - val_accuracy: 0.7243\n",
      "Epoch 34/50\n",
      "159/159 [==============================] - 0s 2ms/step - loss: 0.6931 - accuracy: 0.7379 - val_loss: 0.6931 - val_accuracy: 0.7243\n",
      "Epoch 35/50\n",
      "159/159 [==============================] - 0s 2ms/step - loss: 0.6931 - accuracy: 0.7379 - val_loss: 0.6931 - val_accuracy: 0.7243\n",
      "Epoch 36/50\n",
      "159/159 [==============================] - 0s 2ms/step - loss: 0.6931 - accuracy: 0.7379 - val_loss: 0.6931 - val_accuracy: 0.7243\n",
      "Epoch 37/50\n",
      "159/159 [==============================] - 0s 2ms/step - loss: 0.6931 - accuracy: 0.7379 - val_loss: 0.6931 - val_accuracy: 0.7243\n",
      "Epoch 38/50\n",
      "159/159 [==============================] - 0s 2ms/step - loss: 0.6931 - accuracy: 0.7379 - val_loss: 0.6931 - val_accuracy: 0.7243\n",
      "Epoch 39/50\n",
      "159/159 [==============================] - 0s 2ms/step - loss: 0.6931 - accuracy: 0.7379 - val_loss: 0.6931 - val_accuracy: 0.7243\n",
      "Epoch 40/50\n",
      "159/159 [==============================] - 0s 2ms/step - loss: 0.6931 - accuracy: 0.7379 - val_loss: 0.6931 - val_accuracy: 0.7243\n",
      "Epoch 41/50\n",
      "159/159 [==============================] - 0s 2ms/step - loss: 0.6931 - accuracy: 0.7379 - val_loss: 0.6931 - val_accuracy: 0.7243\n",
      "Epoch 42/50\n",
      "159/159 [==============================] - 0s 2ms/step - loss: 0.6931 - accuracy: 0.7379 - val_loss: 0.6931 - val_accuracy: 0.7243\n",
      "Epoch 43/50\n",
      "159/159 [==============================] - 0s 2ms/step - loss: 0.6931 - accuracy: 0.7379 - val_loss: 0.6931 - val_accuracy: 0.7243\n",
      "Epoch 44/50\n",
      "159/159 [==============================] - 0s 2ms/step - loss: 0.6931 - accuracy: 0.7379 - val_loss: 0.6931 - val_accuracy: 0.7243\n",
      "Epoch 45/50\n",
      "159/159 [==============================] - 0s 2ms/step - loss: 0.6931 - accuracy: 0.7379 - val_loss: 0.6931 - val_accuracy: 0.7243\n",
      "Epoch 46/50\n",
      "159/159 [==============================] - 0s 2ms/step - loss: 0.6931 - accuracy: 0.7379 - val_loss: 0.6931 - val_accuracy: 0.7243\n",
      "Epoch 47/50\n",
      "159/159 [==============================] - 0s 2ms/step - loss: 0.6931 - accuracy: 0.7379 - val_loss: 0.6931 - val_accuracy: 0.7243\n",
      "Epoch 48/50\n",
      "159/159 [==============================] - 0s 2ms/step - loss: 0.6931 - accuracy: 0.7379 - val_loss: 0.6931 - val_accuracy: 0.7243\n",
      "Epoch 49/50\n",
      "159/159 [==============================] - 0s 2ms/step - loss: 0.6931 - accuracy: 0.7379 - val_loss: 0.6931 - val_accuracy: 0.7243\n",
      "Epoch 50/50\n",
      "159/159 [==============================] - 0s 2ms/step - loss: 0.6931 - accuracy: 0.7379 - val_loss: 0.6931 - val_accuracy: 0.7243\n"
     ]
    }
   ],
   "source": [
    "best_par = rnd_search_cv.best_params_\n",
    "best2=f_layers(**best_par)\n",
    "hist_again2 = best2.fit(pipe.fit_transform(Xtr), ytr, epochs=50, validation_data=(pipe.transform(Xva), yva))"
   ]
  },
  {
   "cell_type": "markdown",
   "metadata": {
    "id": "B2X84kyHNsdE"
   },
   "source": [
    "# Model Inference"
   ]
  },
  {
   "cell_type": "code",
   "execution_count": 280,
   "metadata": {
    "colab": {
     "base_uri": "https://localhost:8080/",
     "height": 395
    },
    "id": "AFqUW1WPOTWv",
    "outputId": "50d1b8da-8470-4a58-f032-b9a2578e9b59"
   },
   "outputs": [
    {
     "data": {
      "text/html": [
       "<div>\n",
       "<style scoped>\n",
       "    .dataframe tbody tr th:only-of-type {\n",
       "        vertical-align: middle;\n",
       "    }\n",
       "\n",
       "    .dataframe tbody tr th {\n",
       "        vertical-align: top;\n",
       "    }\n",
       "\n",
       "    .dataframe thead th {\n",
       "        text-align: right;\n",
       "    }\n",
       "</style>\n",
       "<table border=\"1\" class=\"dataframe\">\n",
       "  <thead>\n",
       "    <tr style=\"text-align: right;\">\n",
       "      <th></th>\n",
       "      <th>SeniorCitizen</th>\n",
       "      <th>Dependents</th>\n",
       "      <th>tenure</th>\n",
       "      <th>MultipleLines</th>\n",
       "      <th>OnlineSecurity</th>\n",
       "      <th>OnlineBackup</th>\n",
       "      <th>DeviceProtection</th>\n",
       "      <th>TechSupport</th>\n",
       "      <th>StreamingTV</th>\n",
       "      <th>StreamingMovies</th>\n",
       "      <th>MonthlyCharges</th>\n",
       "      <th>InternetService_DSL</th>\n",
       "      <th>InternetService_Fiber optic</th>\n",
       "      <th>InternetService_No</th>\n",
       "    </tr>\n",
       "  </thead>\n",
       "  <tbody>\n",
       "    <tr>\n",
       "      <th>3375</th>\n",
       "      <td>0</td>\n",
       "      <td>1</td>\n",
       "      <td>71</td>\n",
       "      <td>0</td>\n",
       "      <td>0</td>\n",
       "      <td>0</td>\n",
       "      <td>0</td>\n",
       "      <td>0</td>\n",
       "      <td>0</td>\n",
       "      <td>0</td>\n",
       "      <td>19.90</td>\n",
       "      <td>0</td>\n",
       "      <td>0</td>\n",
       "      <td>1</td>\n",
       "    </tr>\n",
       "    <tr>\n",
       "      <th>168</th>\n",
       "      <td>1</td>\n",
       "      <td>0</td>\n",
       "      <td>58</td>\n",
       "      <td>0</td>\n",
       "      <td>0</td>\n",
       "      <td>1</td>\n",
       "      <td>1</td>\n",
       "      <td>0</td>\n",
       "      <td>0</td>\n",
       "      <td>1</td>\n",
       "      <td>45.30</td>\n",
       "      <td>1</td>\n",
       "      <td>0</td>\n",
       "      <td>0</td>\n",
       "    </tr>\n",
       "    <tr>\n",
       "      <th>6360</th>\n",
       "      <td>0</td>\n",
       "      <td>0</td>\n",
       "      <td>1</td>\n",
       "      <td>0</td>\n",
       "      <td>0</td>\n",
       "      <td>0</td>\n",
       "      <td>0</td>\n",
       "      <td>0</td>\n",
       "      <td>0</td>\n",
       "      <td>0</td>\n",
       "      <td>20.30</td>\n",
       "      <td>0</td>\n",
       "      <td>0</td>\n",
       "      <td>1</td>\n",
       "    </tr>\n",
       "    <tr>\n",
       "      <th>3467</th>\n",
       "      <td>1</td>\n",
       "      <td>0</td>\n",
       "      <td>5</td>\n",
       "      <td>0</td>\n",
       "      <td>0</td>\n",
       "      <td>0</td>\n",
       "      <td>0</td>\n",
       "      <td>0</td>\n",
       "      <td>1</td>\n",
       "      <td>1</td>\n",
       "      <td>91.40</td>\n",
       "      <td>0</td>\n",
       "      <td>1</td>\n",
       "      <td>0</td>\n",
       "    </tr>\n",
       "    <tr>\n",
       "      <th>1378</th>\n",
       "      <td>0</td>\n",
       "      <td>1</td>\n",
       "      <td>58</td>\n",
       "      <td>1</td>\n",
       "      <td>0</td>\n",
       "      <td>1</td>\n",
       "      <td>0</td>\n",
       "      <td>0</td>\n",
       "      <td>1</td>\n",
       "      <td>0</td>\n",
       "      <td>66.80</td>\n",
       "      <td>1</td>\n",
       "      <td>0</td>\n",
       "      <td>0</td>\n",
       "    </tr>\n",
       "    <tr>\n",
       "      <th>3159</th>\n",
       "      <td>1</td>\n",
       "      <td>0</td>\n",
       "      <td>3</td>\n",
       "      <td>1</td>\n",
       "      <td>0</td>\n",
       "      <td>0</td>\n",
       "      <td>0</td>\n",
       "      <td>0</td>\n",
       "      <td>1</td>\n",
       "      <td>1</td>\n",
       "      <td>94.85</td>\n",
       "      <td>0</td>\n",
       "      <td>1</td>\n",
       "      <td>0</td>\n",
       "    </tr>\n",
       "    <tr>\n",
       "      <th>3582</th>\n",
       "      <td>0</td>\n",
       "      <td>0</td>\n",
       "      <td>3</td>\n",
       "      <td>0</td>\n",
       "      <td>0</td>\n",
       "      <td>0</td>\n",
       "      <td>0</td>\n",
       "      <td>0</td>\n",
       "      <td>1</td>\n",
       "      <td>0</td>\n",
       "      <td>80.50</td>\n",
       "      <td>0</td>\n",
       "      <td>1</td>\n",
       "      <td>0</td>\n",
       "    </tr>\n",
       "    <tr>\n",
       "      <th>1745</th>\n",
       "      <td>0</td>\n",
       "      <td>1</td>\n",
       "      <td>56</td>\n",
       "      <td>0</td>\n",
       "      <td>0</td>\n",
       "      <td>0</td>\n",
       "      <td>0</td>\n",
       "      <td>0</td>\n",
       "      <td>0</td>\n",
       "      <td>0</td>\n",
       "      <td>19.80</td>\n",
       "      <td>0</td>\n",
       "      <td>0</td>\n",
       "      <td>1</td>\n",
       "    </tr>\n",
       "    <tr>\n",
       "      <th>639</th>\n",
       "      <td>0</td>\n",
       "      <td>0</td>\n",
       "      <td>10</td>\n",
       "      <td>1</td>\n",
       "      <td>0</td>\n",
       "      <td>0</td>\n",
       "      <td>0</td>\n",
       "      <td>0</td>\n",
       "      <td>0</td>\n",
       "      <td>1</td>\n",
       "      <td>85.25</td>\n",
       "      <td>0</td>\n",
       "      <td>1</td>\n",
       "      <td>0</td>\n",
       "    </tr>\n",
       "    <tr>\n",
       "      <th>6225</th>\n",
       "      <td>0</td>\n",
       "      <td>1</td>\n",
       "      <td>72</td>\n",
       "      <td>1</td>\n",
       "      <td>1</td>\n",
       "      <td>1</td>\n",
       "      <td>1</td>\n",
       "      <td>1</td>\n",
       "      <td>1</td>\n",
       "      <td>0</td>\n",
       "      <td>106.10</td>\n",
       "      <td>0</td>\n",
       "      <td>1</td>\n",
       "      <td>0</td>\n",
       "    </tr>\n",
       "  </tbody>\n",
       "</table>\n",
       "</div>"
      ],
      "text/plain": [
       "      SeniorCitizen  ...  InternetService_No\n",
       "3375              0  ...                   1\n",
       "168               1  ...                   0\n",
       "6360              0  ...                   1\n",
       "3467              1  ...                   0\n",
       "1378              0  ...                   0\n",
       "3159              1  ...                   0\n",
       "3582              0  ...                   0\n",
       "1745              0  ...                   1\n",
       "639               0  ...                   0\n",
       "6225              0  ...                   0\n",
       "\n",
       "[10 rows x 14 columns]"
      ]
     },
     "execution_count": 280,
     "metadata": {},
     "output_type": "execute_result"
    }
   ],
   "source": [
    "new"
   ]
  },
  {
   "cell_type": "code",
   "execution_count": 304,
   "metadata": {
    "colab": {
     "base_uri": "https://localhost:8080/"
    },
    "id": "a_CW1i91Nt6C",
    "outputId": "0b24ee7b-3fe8-47de-bd12-ca543720d206"
   },
   "outputs": [
    {
     "data": {
      "text/plain": [
       "array([1, 0, 0, 0, 0, 0, 0, 0, 0, 0])"
      ]
     },
     "execution_count": 304,
     "metadata": {},
     "output_type": "execute_result"
    }
   ],
   "source": [
    "new=X.sample(10)\n",
    "np.argmax(glorot_model.predict(new), axis=-1)"
   ]
  },
  {
   "cell_type": "markdown",
   "metadata": {
    "id": "wf6cSRbnq_Tm"
   },
   "source": [
    "# Kesimpulan"
   ]
  },
  {
   "cell_type": "markdown",
   "metadata": {
    "id": "CC3_faHgrE9h"
   },
   "source": [
    "EDA:\n",
    "1. Dari hasil distribusi, SeniorCitizen terlihat diskrit karena berupa kategorikal, tenure, TotalCharges dan MonthlyCharges skewed ke kanan. \n",
    "2. Data dari pelanggan kebanyakan bukan Senior. Kebanyakan Customer yang churn nya Yes itu yg tenure nya sekutaran 0 sampai 30, dan MonthlyCharges nya sekitaran 60-80.\n",
    "3. Gender terlihat seimbang.\n",
    "4. SeniorCitizen yang memiliki partner dan tidak terlihat hampir seimbang. Sementara untuk tenure nya customer yang mempunyai partner disekitaran 20-60.\n",
    "5. Kebanyakan customer yang churned adalah yang InternetService nya Fiber optic, lalu customer yang tidak mengambil OnlineSecurity, Orang yang tidak memiliki OnlineBackup, DeviceProtection, TechSupport, StreamingTV dan StreamingMovies. Terakhir, orang yang mengambil PhoneService lebuhbanyak yang churned.\n",
    "6. Orang yang tenurenya sekitaran 0-30 kontraknya lebih banyak yang Month-to-month. Orang yang tenurenya 20-60 contractnya lebih banyak One year. dan sisanya lebih banyak yang ambil Two Year.\n",
    "7. tenure dan MonthlyCharges sama-sama berkorelasi dengan TotalCharges. Ini karena TotalCharges bergantung sama tenure dan MonthlyCharge. naiknya tenure dan MonthlyCharges menyebabkan bertambahnya TotalCharges.\n",
    "8. ebanyakan orang yang StreamingTV dan Streaming Movies MonthlyCharges nya lebih banyak daripada yang tidak. Kebanyakan yang InternetService_Fiber optik MonthlyCharges nya lebih banyak.\n",
    "\n"
   ]
  },
  {
   "cell_type": "markdown",
   "metadata": {
    "id": "yueO1JCUsyU1"
   },
   "source": [
    "Model Analisis:\n",
    "1. Glorot Initializer terlihat lebih baik untuk data ini karena tidak overfitting.\n",
    "2. Untuk activation function lebih baik yang sigmoid.\n",
    "3. Untuk optimizer lebih baik adam"
   ]
  }
 ],
 "metadata": {
  "colab": {
   "collapsed_sections": [],
   "name": "h8dsft_Milestone1P2.ipynb",
   "provenance": []
  },
  "kernelspec": {
   "display_name": "Python 3",
   "language": "python",
   "name": "python3"
  },
  "language_info": {
   "codemirror_mode": {
    "name": "ipython",
    "version": 3
   },
   "file_extension": ".py",
   "mimetype": "text/x-python",
   "name": "python",
   "nbconvert_exporter": "python",
   "pygments_lexer": "ipython3",
   "version": "3.8.8"
  }
 },
 "nbformat": 4,
 "nbformat_minor": 1
}
